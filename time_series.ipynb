{
 "cells": [
  {
   "cell_type": "code",
   "execution_count": 1,
   "id": "0ad5fb25",
   "metadata": {},
   "outputs": [],
   "source": [
    "from datetime import datetime"
   ]
  },
  {
   "cell_type": "code",
   "execution_count": 2,
   "id": "37b26bbc",
   "metadata": {},
   "outputs": [],
   "source": [
    "now = datetime.now()"
   ]
  },
  {
   "cell_type": "code",
   "execution_count": 3,
   "id": "d6486753",
   "metadata": {},
   "outputs": [
    {
     "data": {
      "text/plain": [
       "datetime.datetime(2022, 1, 23, 21, 44, 52, 151741)"
      ]
     },
     "execution_count": 3,
     "metadata": {},
     "output_type": "execute_result"
    }
   ],
   "source": [
    "now"
   ]
  },
  {
   "cell_type": "code",
   "execution_count": 4,
   "id": "bd1a642a",
   "metadata": {},
   "outputs": [
    {
     "data": {
      "text/plain": [
       "(2022, 1, 23)"
      ]
     },
     "execution_count": 4,
     "metadata": {},
     "output_type": "execute_result"
    }
   ],
   "source": [
    "now.year, now.month, now.day"
   ]
  },
  {
   "cell_type": "code",
   "execution_count": 5,
   "id": "9d74f52a",
   "metadata": {},
   "outputs": [],
   "source": [
    "delta = datetime(2011, 1, 7) - datetime(2008, 6, 24, 8, 15)"
   ]
  },
  {
   "cell_type": "code",
   "execution_count": 6,
   "id": "a41b9ee2",
   "metadata": {},
   "outputs": [
    {
     "data": {
      "text/plain": [
       "datetime.timedelta(days=926, seconds=56700)"
      ]
     },
     "execution_count": 6,
     "metadata": {},
     "output_type": "execute_result"
    }
   ],
   "source": [
    "delta"
   ]
  },
  {
   "cell_type": "code",
   "execution_count": 7,
   "id": "7bc2c2ee",
   "metadata": {},
   "outputs": [
    {
     "data": {
      "text/plain": [
       "926"
      ]
     },
     "execution_count": 7,
     "metadata": {},
     "output_type": "execute_result"
    }
   ],
   "source": [
    "delta.days"
   ]
  },
  {
   "cell_type": "code",
   "execution_count": 8,
   "id": "ba2813b4",
   "metadata": {},
   "outputs": [
    {
     "data": {
      "text/plain": [
       "56700"
      ]
     },
     "execution_count": 8,
     "metadata": {},
     "output_type": "execute_result"
    }
   ],
   "source": [
    "delta.seconds"
   ]
  },
  {
   "cell_type": "code",
   "execution_count": 9,
   "id": "f9fd2bbc",
   "metadata": {},
   "outputs": [],
   "source": [
    "from datetime import timedelta"
   ]
  },
  {
   "cell_type": "code",
   "execution_count": 10,
   "id": "40cd5711",
   "metadata": {},
   "outputs": [],
   "source": [
    "start = datetime(2011, 1, 7)"
   ]
  },
  {
   "cell_type": "code",
   "execution_count": 11,
   "id": "3c23eda5",
   "metadata": {},
   "outputs": [
    {
     "data": {
      "text/plain": [
       "datetime.datetime(2011, 1, 19, 0, 0)"
      ]
     },
     "execution_count": 11,
     "metadata": {},
     "output_type": "execute_result"
    }
   ],
   "source": [
    "start + timedelta(12)"
   ]
  },
  {
   "cell_type": "code",
   "execution_count": 12,
   "id": "e98f885c",
   "metadata": {},
   "outputs": [
    {
     "data": {
      "text/plain": [
       "datetime.datetime(2010, 12, 14, 0, 0)"
      ]
     },
     "execution_count": 12,
     "metadata": {},
     "output_type": "execute_result"
    }
   ],
   "source": [
    "start - 2 * timedelta(12)"
   ]
  },
  {
   "cell_type": "code",
   "execution_count": 13,
   "id": "a579576f",
   "metadata": {},
   "outputs": [],
   "source": [
    "start = datetime(2011, 1, 11, 15)"
   ]
  },
  {
   "cell_type": "code",
   "execution_count": 14,
   "id": "bb44a1fc",
   "metadata": {},
   "outputs": [
    {
     "data": {
      "text/plain": [
       "datetime.datetime(2011, 1, 23, 15, 0)"
      ]
     },
     "execution_count": 14,
     "metadata": {},
     "output_type": "execute_result"
    }
   ],
   "source": [
    "start + timedelta(12)"
   ]
  },
  {
   "cell_type": "code",
   "execution_count": 15,
   "id": "33ab4296",
   "metadata": {},
   "outputs": [],
   "source": [
    "stamp = datetime(2011, 1, 3)"
   ]
  },
  {
   "cell_type": "code",
   "execution_count": 16,
   "id": "47b0a189",
   "metadata": {},
   "outputs": [
    {
     "data": {
      "text/plain": [
       "'2011-01-03 00:00:00'"
      ]
     },
     "execution_count": 16,
     "metadata": {},
     "output_type": "execute_result"
    }
   ],
   "source": [
    "str(stamp)"
   ]
  },
  {
   "cell_type": "code",
   "execution_count": 17,
   "id": "2c212530",
   "metadata": {},
   "outputs": [
    {
     "data": {
      "text/plain": [
       "'2011-01-03'"
      ]
     },
     "execution_count": 17,
     "metadata": {},
     "output_type": "execute_result"
    }
   ],
   "source": [
    "stamp.strftime('%Y-%m-%d')"
   ]
  },
  {
   "cell_type": "code",
   "execution_count": 18,
   "id": "22166c61",
   "metadata": {},
   "outputs": [],
   "source": [
    "from datetime import datetime"
   ]
  },
  {
   "cell_type": "code",
   "execution_count": 19,
   "id": "d4cda6b9",
   "metadata": {},
   "outputs": [],
   "source": [
    "dates = [datetime(2011, 1, 2), datetime(2011, 1, 5),\n",
    "         datetime(2011, 1, 7), datetime(2011, 1, 8), \n",
    "         datetime(2011, 1, 10), datetime(2011, 1, 12)]"
   ]
  },
  {
   "cell_type": "code",
   "execution_count": 20,
   "id": "e3b71f01",
   "metadata": {},
   "outputs": [],
   "source": [
    "import pandas as pd\n",
    "import numpy as np"
   ]
  },
  {
   "cell_type": "code",
   "execution_count": 21,
   "id": "a8ac7d97",
   "metadata": {},
   "outputs": [],
   "source": [
    "ts = pd.Series(np.random.randn(6), index=dates)"
   ]
  },
  {
   "cell_type": "code",
   "execution_count": 22,
   "id": "c122ee1c",
   "metadata": {},
   "outputs": [
    {
     "data": {
      "text/plain": [
       "2011-01-02    2.430563\n",
       "2011-01-05    1.802486\n",
       "2011-01-07   -0.790306\n",
       "2011-01-08    1.043363\n",
       "2011-01-10    0.101299\n",
       "2011-01-12    1.699258\n",
       "dtype: float64"
      ]
     },
     "execution_count": 22,
     "metadata": {},
     "output_type": "execute_result"
    }
   ],
   "source": [
    "ts"
   ]
  },
  {
   "cell_type": "code",
   "execution_count": 23,
   "id": "4787fffb",
   "metadata": {},
   "outputs": [
    {
     "data": {
      "text/plain": [
       "DatetimeIndex(['2011-01-02', '2011-01-05', '2011-01-07', '2011-01-08',\n",
       "               '2011-01-10', '2011-01-12'],\n",
       "              dtype='datetime64[ns]', freq=None)"
      ]
     },
     "execution_count": 23,
     "metadata": {},
     "output_type": "execute_result"
    }
   ],
   "source": [
    "ts.index"
   ]
  },
  {
   "cell_type": "code",
   "execution_count": 24,
   "id": "cbf66ce4",
   "metadata": {},
   "outputs": [
    {
     "data": {
      "text/plain": [
       "2011-01-02    4.861126\n",
       "2011-01-05         NaN\n",
       "2011-01-07   -1.580612\n",
       "2011-01-08         NaN\n",
       "2011-01-10    0.202597\n",
       "2011-01-12         NaN\n",
       "dtype: float64"
      ]
     },
     "execution_count": 24,
     "metadata": {},
     "output_type": "execute_result"
    }
   ],
   "source": [
    "ts + ts[::2]"
   ]
  },
  {
   "cell_type": "code",
   "execution_count": 25,
   "id": "2cbc5edd",
   "metadata": {},
   "outputs": [
    {
     "data": {
      "text/plain": [
       "dtype('<M8[ns]')"
      ]
     },
     "execution_count": 25,
     "metadata": {},
     "output_type": "execute_result"
    }
   ],
   "source": [
    "ts.index.dtype"
   ]
  },
  {
   "cell_type": "code",
   "execution_count": 26,
   "id": "f7f47ced",
   "metadata": {},
   "outputs": [],
   "source": [
    "stamp = ts.index[0]"
   ]
  },
  {
   "cell_type": "code",
   "execution_count": 27,
   "id": "0f8ba5fb",
   "metadata": {},
   "outputs": [
    {
     "data": {
      "text/plain": [
       "Timestamp('2011-01-02 00:00:00')"
      ]
     },
     "execution_count": 27,
     "metadata": {},
     "output_type": "execute_result"
    }
   ],
   "source": [
    "stamp"
   ]
  },
  {
   "cell_type": "code",
   "execution_count": 28,
   "id": "7a7d95c4",
   "metadata": {},
   "outputs": [],
   "source": [
    "stamp = ts.index[2]"
   ]
  },
  {
   "cell_type": "code",
   "execution_count": 29,
   "id": "a83090ab",
   "metadata": {},
   "outputs": [
    {
     "data": {
      "text/plain": [
       "-0.7903062398739396"
      ]
     },
     "execution_count": 29,
     "metadata": {},
     "output_type": "execute_result"
    }
   ],
   "source": [
    "ts[stamp]"
   ]
  },
  {
   "cell_type": "code",
   "execution_count": 30,
   "id": "07c63a1e",
   "metadata": {},
   "outputs": [
    {
     "data": {
      "text/plain": [
       "0.10129864111138519"
      ]
     },
     "execution_count": 30,
     "metadata": {},
     "output_type": "execute_result"
    }
   ],
   "source": [
    "ts['1/10/2011']"
   ]
  },
  {
   "cell_type": "code",
   "execution_count": 31,
   "id": "47a2e647",
   "metadata": {},
   "outputs": [
    {
     "data": {
      "text/plain": [
       "0.10129864111138519"
      ]
     },
     "execution_count": 31,
     "metadata": {},
     "output_type": "execute_result"
    }
   ],
   "source": [
    "ts['20110110']"
   ]
  },
  {
   "cell_type": "code",
   "execution_count": 32,
   "id": "d71e9dde",
   "metadata": {},
   "outputs": [],
   "source": [
    "longer_ts = pd.Series(np.random.randn(1000),\n",
    "                      index=pd.date_range('1/1/2000', periods=1000))"
   ]
  },
  {
   "cell_type": "code",
   "execution_count": 33,
   "id": "f9d65995",
   "metadata": {},
   "outputs": [
    {
     "data": {
      "text/plain": [
       "2000-01-01    0.908199\n",
       "2000-01-02   -0.177739\n",
       "2000-01-03   -0.256710\n",
       "2000-01-04    0.188361\n",
       "2000-01-05   -0.255411\n",
       "                ...   \n",
       "2002-09-22   -1.127850\n",
       "2002-09-23    0.256625\n",
       "2002-09-24   -0.116890\n",
       "2002-09-25   -0.466859\n",
       "2002-09-26   -1.793501\n",
       "Freq: D, Length: 1000, dtype: float64"
      ]
     },
     "execution_count": 33,
     "metadata": {},
     "output_type": "execute_result"
    }
   ],
   "source": [
    "longer_ts"
   ]
  },
  {
   "cell_type": "code",
   "execution_count": 34,
   "id": "4b6f9182",
   "metadata": {},
   "outputs": [
    {
     "data": {
      "text/plain": [
       "2001-01-01   -0.245531\n",
       "2001-01-02   -0.525549\n",
       "2001-01-03   -0.958066\n",
       "2001-01-04    1.829136\n",
       "2001-01-05    1.789033\n",
       "                ...   \n",
       "2001-12-27    1.020857\n",
       "2001-12-28    0.965415\n",
       "2001-12-29    0.139032\n",
       "2001-12-30   -0.993851\n",
       "2001-12-31   -0.010899\n",
       "Freq: D, Length: 365, dtype: float64"
      ]
     },
     "execution_count": 34,
     "metadata": {},
     "output_type": "execute_result"
    }
   ],
   "source": [
    "longer_ts['2001']"
   ]
  },
  {
   "cell_type": "code",
   "execution_count": 35,
   "id": "5f736992",
   "metadata": {},
   "outputs": [
    {
     "data": {
      "text/plain": [
       "2001-05-01   -0.850545\n",
       "2001-05-02    0.240052\n",
       "2001-05-03    0.247749\n",
       "2001-05-04    1.406636\n",
       "2001-05-05   -0.027851\n",
       "2001-05-06    0.697749\n",
       "2001-05-07    0.823891\n",
       "2001-05-08    0.262274\n",
       "2001-05-09   -0.904120\n",
       "2001-05-10    1.230688\n",
       "2001-05-11    0.969802\n",
       "2001-05-12    0.848380\n",
       "2001-05-13   -1.023125\n",
       "2001-05-14    1.070315\n",
       "2001-05-15    0.092170\n",
       "2001-05-16   -0.070718\n",
       "2001-05-17   -0.486919\n",
       "2001-05-18    0.891908\n",
       "2001-05-19    0.066366\n",
       "2001-05-20    1.357324\n",
       "2001-05-21   -0.789922\n",
       "2001-05-22    2.060694\n",
       "2001-05-23   -1.340751\n",
       "2001-05-24   -2.456297\n",
       "2001-05-25   -0.299819\n",
       "2001-05-26   -0.709565\n",
       "2001-05-27   -0.904554\n",
       "2001-05-28   -1.141154\n",
       "2001-05-29   -0.420667\n",
       "2001-05-30   -0.318294\n",
       "2001-05-31   -0.363696\n",
       "Freq: D, dtype: float64"
      ]
     },
     "execution_count": 35,
     "metadata": {},
     "output_type": "execute_result"
    }
   ],
   "source": [
    "longer_ts['2001-5']"
   ]
  },
  {
   "cell_type": "code",
   "execution_count": 36,
   "id": "a4137ada",
   "metadata": {},
   "outputs": [
    {
     "data": {
      "text/plain": [
       "-0.7903062398739396"
      ]
     },
     "execution_count": 36,
     "metadata": {},
     "output_type": "execute_result"
    }
   ],
   "source": [
    "ts[datetime(2011, 1, 7)]"
   ]
  },
  {
   "cell_type": "code",
   "execution_count": 37,
   "id": "bb1c33e0",
   "metadata": {},
   "outputs": [
    {
     "data": {
      "text/plain": [
       "2011-01-02    2.430563\n",
       "2011-01-05    1.802486\n",
       "2011-01-07   -0.790306\n",
       "2011-01-08    1.043363\n",
       "2011-01-10    0.101299\n",
       "2011-01-12    1.699258\n",
       "dtype: float64"
      ]
     },
     "execution_count": 37,
     "metadata": {},
     "output_type": "execute_result"
    }
   ],
   "source": [
    "ts"
   ]
  },
  {
   "cell_type": "code",
   "execution_count": 38,
   "id": "eafb7e35",
   "metadata": {},
   "outputs": [
    {
     "data": {
      "text/plain": [
       "2011-01-07   -0.790306\n",
       "2011-01-08    1.043363\n",
       "2011-01-10    0.101299\n",
       "dtype: float64"
      ]
     },
     "execution_count": 38,
     "metadata": {},
     "output_type": "execute_result"
    }
   ],
   "source": [
    "ts['1/6/2011': '1/11/2011']"
   ]
  },
  {
   "cell_type": "code",
   "execution_count": 39,
   "id": "04de6fb3",
   "metadata": {},
   "outputs": [
    {
     "data": {
      "text/plain": [
       "2011-01-02    2.430563\n",
       "2011-01-05    1.802486\n",
       "2011-01-07   -0.790306\n",
       "2011-01-08    1.043363\n",
       "dtype: float64"
      ]
     },
     "execution_count": 39,
     "metadata": {},
     "output_type": "execute_result"
    }
   ],
   "source": [
    "ts.truncate(after='1/9/2011')"
   ]
  },
  {
   "cell_type": "code",
   "execution_count": 40,
   "id": "49630d55",
   "metadata": {},
   "outputs": [],
   "source": [
    "dates = pd.date_range('1/1/2000', periods=100, freq='W-WED')"
   ]
  },
  {
   "cell_type": "code",
   "execution_count": 41,
   "id": "9363423e",
   "metadata": {},
   "outputs": [],
   "source": [
    "long_df = pd.DataFrame(np.random.randn(100, 4),\n",
    "                       index=dates,\n",
    "                       columns=['Colorado', 'Texas', \n",
    "                                'New York', 'Ohio'])"
   ]
  },
  {
   "cell_type": "code",
   "execution_count": 42,
   "id": "c737887f",
   "metadata": {},
   "outputs": [
    {
     "data": {
      "text/html": [
       "<div>\n",
       "<style scoped>\n",
       "    .dataframe tbody tr th:only-of-type {\n",
       "        vertical-align: middle;\n",
       "    }\n",
       "\n",
       "    .dataframe tbody tr th {\n",
       "        vertical-align: top;\n",
       "    }\n",
       "\n",
       "    .dataframe thead th {\n",
       "        text-align: right;\n",
       "    }\n",
       "</style>\n",
       "<table border=\"1\" class=\"dataframe\">\n",
       "  <thead>\n",
       "    <tr style=\"text-align: right;\">\n",
       "      <th></th>\n",
       "      <th>Colorado</th>\n",
       "      <th>Texas</th>\n",
       "      <th>New York</th>\n",
       "      <th>Ohio</th>\n",
       "    </tr>\n",
       "  </thead>\n",
       "  <tbody>\n",
       "    <tr>\n",
       "      <th>2001-05-02</th>\n",
       "      <td>0.901023</td>\n",
       "      <td>-2.798473</td>\n",
       "      <td>0.325496</td>\n",
       "      <td>-0.860780</td>\n",
       "    </tr>\n",
       "    <tr>\n",
       "      <th>2001-05-09</th>\n",
       "      <td>-1.706590</td>\n",
       "      <td>0.808898</td>\n",
       "      <td>0.726011</td>\n",
       "      <td>-1.446860</td>\n",
       "    </tr>\n",
       "    <tr>\n",
       "      <th>2001-05-16</th>\n",
       "      <td>0.176745</td>\n",
       "      <td>0.392930</td>\n",
       "      <td>1.015608</td>\n",
       "      <td>-0.634120</td>\n",
       "    </tr>\n",
       "    <tr>\n",
       "      <th>2001-05-23</th>\n",
       "      <td>-1.102275</td>\n",
       "      <td>1.318078</td>\n",
       "      <td>-0.004560</td>\n",
       "      <td>1.573277</td>\n",
       "    </tr>\n",
       "    <tr>\n",
       "      <th>2001-05-30</th>\n",
       "      <td>-0.797985</td>\n",
       "      <td>-0.047826</td>\n",
       "      <td>-0.875445</td>\n",
       "      <td>-0.420945</td>\n",
       "    </tr>\n",
       "  </tbody>\n",
       "</table>\n",
       "</div>"
      ],
      "text/plain": [
       "            Colorado     Texas  New York      Ohio\n",
       "2001-05-02  0.901023 -2.798473  0.325496 -0.860780\n",
       "2001-05-09 -1.706590  0.808898  0.726011 -1.446860\n",
       "2001-05-16  0.176745  0.392930  1.015608 -0.634120\n",
       "2001-05-23 -1.102275  1.318078 -0.004560  1.573277\n",
       "2001-05-30 -0.797985 -0.047826 -0.875445 -0.420945"
      ]
     },
     "execution_count": 42,
     "metadata": {},
     "output_type": "execute_result"
    }
   ],
   "source": [
    "long_df.loc['5-2001']"
   ]
  },
  {
   "cell_type": "code",
   "execution_count": 43,
   "id": "e02032ee",
   "metadata": {},
   "outputs": [],
   "source": [
    "dates = pd.DatetimeIndex(['1/1/2000', '1/2/2000', '1/2/2000',\n",
    "                       '1/2/2000', '1/3/2000'])"
   ]
  },
  {
   "cell_type": "code",
   "execution_count": 44,
   "id": "05059901",
   "metadata": {},
   "outputs": [],
   "source": [
    "dup_ts = pd.Series(np.arange(5), index=dates)"
   ]
  },
  {
   "cell_type": "code",
   "execution_count": 45,
   "id": "cb695736",
   "metadata": {},
   "outputs": [
    {
     "data": {
      "text/plain": [
       "2000-01-01    0\n",
       "2000-01-02    1\n",
       "2000-01-02    2\n",
       "2000-01-02    3\n",
       "2000-01-03    4\n",
       "dtype: int32"
      ]
     },
     "execution_count": 45,
     "metadata": {},
     "output_type": "execute_result"
    }
   ],
   "source": [
    "dup_ts"
   ]
  },
  {
   "cell_type": "code",
   "execution_count": 46,
   "id": "db9b2c87",
   "metadata": {},
   "outputs": [
    {
     "data": {
      "text/plain": [
       "False"
      ]
     },
     "execution_count": 46,
     "metadata": {},
     "output_type": "execute_result"
    }
   ],
   "source": [
    "dup_ts.index.is_unique"
   ]
  },
  {
   "cell_type": "code",
   "execution_count": 47,
   "id": "2c3acf14",
   "metadata": {},
   "outputs": [
    {
     "data": {
      "text/plain": [
       "4"
      ]
     },
     "execution_count": 47,
     "metadata": {},
     "output_type": "execute_result"
    }
   ],
   "source": [
    "dup_ts['1/3/2000']"
   ]
  },
  {
   "cell_type": "code",
   "execution_count": 48,
   "id": "30ef7180",
   "metadata": {},
   "outputs": [
    {
     "data": {
      "text/plain": [
       "2000-01-02    1\n",
       "2000-01-02    2\n",
       "2000-01-02    3\n",
       "dtype: int32"
      ]
     },
     "execution_count": 48,
     "metadata": {},
     "output_type": "execute_result"
    }
   ],
   "source": [
    "dup_ts['1/2/2000']"
   ]
  },
  {
   "cell_type": "code",
   "execution_count": 49,
   "id": "9f153ddc",
   "metadata": {},
   "outputs": [],
   "source": [
    "grouped = dup_ts.groupby(level=0)"
   ]
  },
  {
   "cell_type": "code",
   "execution_count": 50,
   "id": "b8565af0",
   "metadata": {},
   "outputs": [
    {
     "data": {
      "text/plain": [
       "2000-01-01    0.0\n",
       "2000-01-02    2.0\n",
       "2000-01-03    4.0\n",
       "dtype: float64"
      ]
     },
     "execution_count": 50,
     "metadata": {},
     "output_type": "execute_result"
    }
   ],
   "source": [
    "grouped.mean()"
   ]
  },
  {
   "cell_type": "code",
   "execution_count": 51,
   "id": "0f9a4721",
   "metadata": {},
   "outputs": [
    {
     "data": {
      "text/plain": [
       "<pandas.core.groupby.generic.SeriesGroupBy object at 0x000001C735194790>"
      ]
     },
     "execution_count": 51,
     "metadata": {},
     "output_type": "execute_result"
    }
   ],
   "source": [
    "grouped"
   ]
  },
  {
   "cell_type": "code",
   "execution_count": 52,
   "id": "8b747081",
   "metadata": {},
   "outputs": [
    {
     "data": {
      "text/plain": [
       "2000-01-01    1\n",
       "2000-01-02    3\n",
       "2000-01-03    1\n",
       "dtype: int64"
      ]
     },
     "execution_count": 52,
     "metadata": {},
     "output_type": "execute_result"
    }
   ],
   "source": [
    "grouped.count()"
   ]
  },
  {
   "cell_type": "code",
   "execution_count": 53,
   "id": "f4c0a4b9",
   "metadata": {},
   "outputs": [
    {
     "data": {
      "text/plain": [
       "2011-01-02    2.430563\n",
       "2011-01-05    1.802486\n",
       "2011-01-07   -0.790306\n",
       "2011-01-08    1.043363\n",
       "2011-01-10    0.101299\n",
       "2011-01-12    1.699258\n",
       "dtype: float64"
      ]
     },
     "execution_count": 53,
     "metadata": {},
     "output_type": "execute_result"
    }
   ],
   "source": [
    "ts"
   ]
  },
  {
   "cell_type": "code",
   "execution_count": 54,
   "id": "0cb75e87",
   "metadata": {},
   "outputs": [],
   "source": [
    "resampler = ts.resample('D')"
   ]
  },
  {
   "cell_type": "code",
   "execution_count": 55,
   "id": "9c071456",
   "metadata": {},
   "outputs": [
    {
     "data": {
      "text/plain": [
       "<pandas.core.resample.DatetimeIndexResampler object at 0x000001C7351977F0>"
      ]
     },
     "execution_count": 55,
     "metadata": {},
     "output_type": "execute_result"
    }
   ],
   "source": [
    "resampler"
   ]
  },
  {
   "cell_type": "code",
   "execution_count": 56,
   "id": "132be7ce",
   "metadata": {},
   "outputs": [],
   "source": [
    "index = pd.date_range('2012-04-01', '2012-06-01')"
   ]
  },
  {
   "cell_type": "code",
   "execution_count": 57,
   "id": "ab41e16a",
   "metadata": {},
   "outputs": [
    {
     "data": {
      "text/plain": [
       "DatetimeIndex(['2012-04-01', '2012-04-02', '2012-04-03', '2012-04-04',\n",
       "               '2012-04-05', '2012-04-06', '2012-04-07', '2012-04-08',\n",
       "               '2012-04-09', '2012-04-10', '2012-04-11', '2012-04-12',\n",
       "               '2012-04-13', '2012-04-14', '2012-04-15', '2012-04-16',\n",
       "               '2012-04-17', '2012-04-18', '2012-04-19', '2012-04-20',\n",
       "               '2012-04-21', '2012-04-22', '2012-04-23', '2012-04-24',\n",
       "               '2012-04-25', '2012-04-26', '2012-04-27', '2012-04-28',\n",
       "               '2012-04-29', '2012-04-30', '2012-05-01', '2012-05-02',\n",
       "               '2012-05-03', '2012-05-04', '2012-05-05', '2012-05-06',\n",
       "               '2012-05-07', '2012-05-08', '2012-05-09', '2012-05-10',\n",
       "               '2012-05-11', '2012-05-12', '2012-05-13', '2012-05-14',\n",
       "               '2012-05-15', '2012-05-16', '2012-05-17', '2012-05-18',\n",
       "               '2012-05-19', '2012-05-20', '2012-05-21', '2012-05-22',\n",
       "               '2012-05-23', '2012-05-24', '2012-05-25', '2012-05-26',\n",
       "               '2012-05-27', '2012-05-28', '2012-05-29', '2012-05-30',\n",
       "               '2012-05-31', '2012-06-01'],\n",
       "              dtype='datetime64[ns]', freq='D')"
      ]
     },
     "execution_count": 57,
     "metadata": {},
     "output_type": "execute_result"
    }
   ],
   "source": [
    "index"
   ]
  },
  {
   "cell_type": "code",
   "execution_count": 58,
   "id": "51f8ad68",
   "metadata": {},
   "outputs": [
    {
     "data": {
      "text/plain": [
       "DatetimeIndex(['2012-04-01', '2012-04-02', '2012-04-03', '2012-04-04',\n",
       "               '2012-04-05', '2012-04-06', '2012-04-07', '2012-04-08',\n",
       "               '2012-04-09', '2012-04-10', '2012-04-11', '2012-04-12',\n",
       "               '2012-04-13', '2012-04-14', '2012-04-15', '2012-04-16',\n",
       "               '2012-04-17', '2012-04-18', '2012-04-19', '2012-04-20'],\n",
       "              dtype='datetime64[ns]', freq='D')"
      ]
     },
     "execution_count": 58,
     "metadata": {},
     "output_type": "execute_result"
    }
   ],
   "source": [
    "pd.date_range(start='2012-04-01', periods=20)"
   ]
  },
  {
   "cell_type": "code",
   "execution_count": 59,
   "id": "82b19bd1",
   "metadata": {},
   "outputs": [
    {
     "data": {
      "text/plain": [
       "DatetimeIndex(['2012-05-13', '2012-05-14', '2012-05-15', '2012-05-16',\n",
       "               '2012-05-17', '2012-05-18', '2012-05-19', '2012-05-20',\n",
       "               '2012-05-21', '2012-05-22', '2012-05-23', '2012-05-24',\n",
       "               '2012-05-25', '2012-05-26', '2012-05-27', '2012-05-28',\n",
       "               '2012-05-29', '2012-05-30', '2012-05-31', '2012-06-01'],\n",
       "              dtype='datetime64[ns]', freq='D')"
      ]
     },
     "execution_count": 59,
     "metadata": {},
     "output_type": "execute_result"
    }
   ],
   "source": [
    "pd.date_range(end='2012-06-01', periods=20)"
   ]
  },
  {
   "cell_type": "code",
   "execution_count": 60,
   "id": "eaa52079",
   "metadata": {},
   "outputs": [
    {
     "data": {
      "text/plain": [
       "DatetimeIndex(['2000-01-31', '2000-02-29', '2000-03-31', '2000-04-28',\n",
       "               '2000-05-31', '2000-06-30', '2000-07-31', '2000-08-31',\n",
       "               '2000-09-29', '2000-10-31', '2000-11-30'],\n",
       "              dtype='datetime64[ns]', freq='BM')"
      ]
     },
     "execution_count": 60,
     "metadata": {},
     "output_type": "execute_result"
    }
   ],
   "source": [
    "pd.date_range('2000-01-01', '2000-12-01', freq='BM')"
   ]
  },
  {
   "cell_type": "code",
   "execution_count": 61,
   "id": "f9cb6433",
   "metadata": {},
   "outputs": [
    {
     "data": {
      "text/plain": [
       "DatetimeIndex(['2012-05-02', '2012-05-03', '2012-05-04', '2012-05-05',\n",
       "               '2012-05-06'],\n",
       "              dtype='datetime64[ns]', freq='D')"
      ]
     },
     "execution_count": 61,
     "metadata": {},
     "output_type": "execute_result"
    }
   ],
   "source": [
    "pd.date_range('2012-05-02 12:56:31', periods=5, normalize=True)"
   ]
  },
  {
   "cell_type": "code",
   "execution_count": 62,
   "id": "f66a4b04",
   "metadata": {},
   "outputs": [],
   "source": [
    "from pandas.tseries.offsets import Hour, Minute"
   ]
  },
  {
   "cell_type": "code",
   "execution_count": 63,
   "id": "94870ba2",
   "metadata": {},
   "outputs": [],
   "source": [
    "hour = Hour()"
   ]
  },
  {
   "cell_type": "code",
   "execution_count": 64,
   "id": "62383423",
   "metadata": {},
   "outputs": [
    {
     "data": {
      "text/plain": [
       "<Hour>"
      ]
     },
     "execution_count": 64,
     "metadata": {},
     "output_type": "execute_result"
    }
   ],
   "source": [
    "hour"
   ]
  },
  {
   "cell_type": "code",
   "execution_count": 65,
   "id": "6deb400d",
   "metadata": {},
   "outputs": [],
   "source": [
    "four_hours = Hour(4)"
   ]
  },
  {
   "cell_type": "code",
   "execution_count": 66,
   "id": "93fa788d",
   "metadata": {},
   "outputs": [
    {
     "data": {
      "text/plain": [
       "<4 * Hours>"
      ]
     },
     "execution_count": 66,
     "metadata": {},
     "output_type": "execute_result"
    }
   ],
   "source": [
    "four_hours"
   ]
  },
  {
   "cell_type": "code",
   "execution_count": 67,
   "id": "a3d7f2d7",
   "metadata": {},
   "outputs": [
    {
     "data": {
      "text/plain": [
       "DatetimeIndex(['2000-01-01 00:00:00', '2000-01-01 04:00:00',\n",
       "               '2000-01-01 08:00:00', '2000-01-01 12:00:00',\n",
       "               '2000-01-01 16:00:00', '2000-01-01 20:00:00',\n",
       "               '2000-01-02 00:00:00', '2000-01-02 04:00:00',\n",
       "               '2000-01-02 08:00:00', '2000-01-02 12:00:00',\n",
       "               '2000-01-02 16:00:00', '2000-01-02 20:00:00',\n",
       "               '2000-01-03 00:00:00', '2000-01-03 04:00:00',\n",
       "               '2000-01-03 08:00:00', '2000-01-03 12:00:00',\n",
       "               '2000-01-03 16:00:00', '2000-01-03 20:00:00'],\n",
       "              dtype='datetime64[ns]', freq='4H')"
      ]
     },
     "execution_count": 67,
     "metadata": {},
     "output_type": "execute_result"
    }
   ],
   "source": [
    "pd.date_range('2000-01-01', '2000-01-03 23:59', freq=four_hours)"
   ]
  },
  {
   "cell_type": "code",
   "execution_count": 68,
   "id": "d5f1ae95",
   "metadata": {},
   "outputs": [],
   "source": [
    "offset = Hour(2) + Minute(30)"
   ]
  },
  {
   "cell_type": "code",
   "execution_count": 69,
   "id": "9ed986d9",
   "metadata": {},
   "outputs": [
    {
     "data": {
      "text/plain": [
       "DatetimeIndex(['2000-01-01 00:00:00', '2000-01-01 02:30:00',\n",
       "               '2000-01-01 05:00:00', '2000-01-01 07:30:00',\n",
       "               '2000-01-01 10:00:00', '2000-01-01 12:30:00',\n",
       "               '2000-01-01 15:00:00', '2000-01-01 17:30:00',\n",
       "               '2000-01-01 20:00:00', '2000-01-01 22:30:00'],\n",
       "              dtype='datetime64[ns]', freq='150T')"
      ]
     },
     "execution_count": 69,
     "metadata": {},
     "output_type": "execute_result"
    }
   ],
   "source": [
    "pd.date_range('2000-01-01', periods=10, freq=offset)"
   ]
  },
  {
   "cell_type": "code",
   "execution_count": 70,
   "id": "8e93f9f5",
   "metadata": {},
   "outputs": [],
   "source": [
    "rng = pd.date_range('2012-01-01', '2012-09-01', freq='WOM-3FRI')"
   ]
  },
  {
   "cell_type": "code",
   "execution_count": 71,
   "id": "8f467800",
   "metadata": {},
   "outputs": [
    {
     "data": {
      "text/plain": [
       "[Timestamp('2012-01-20 00:00:00', freq='WOM-3FRI'),\n",
       " Timestamp('2012-02-17 00:00:00', freq='WOM-3FRI'),\n",
       " Timestamp('2012-03-16 00:00:00', freq='WOM-3FRI'),\n",
       " Timestamp('2012-04-20 00:00:00', freq='WOM-3FRI'),\n",
       " Timestamp('2012-05-18 00:00:00', freq='WOM-3FRI'),\n",
       " Timestamp('2012-06-15 00:00:00', freq='WOM-3FRI'),\n",
       " Timestamp('2012-07-20 00:00:00', freq='WOM-3FRI'),\n",
       " Timestamp('2012-08-17 00:00:00', freq='WOM-3FRI')]"
      ]
     },
     "execution_count": 71,
     "metadata": {},
     "output_type": "execute_result"
    }
   ],
   "source": [
    "list(rng)"
   ]
  },
  {
   "cell_type": "code",
   "execution_count": 72,
   "id": "04cca481",
   "metadata": {},
   "outputs": [],
   "source": [
    "ts = pd.Series(np.random.randn(4),\n",
    "               index=pd.date_range('1/1/2000', periods=4, freq='M'))"
   ]
  },
  {
   "cell_type": "code",
   "execution_count": 73,
   "id": "b4149271",
   "metadata": {},
   "outputs": [
    {
     "data": {
      "text/plain": [
       "2000-01-31    0.354429\n",
       "2000-02-29    0.410987\n",
       "2000-03-31   -0.439673\n",
       "2000-04-30    0.688915\n",
       "Freq: M, dtype: float64"
      ]
     },
     "execution_count": 73,
     "metadata": {},
     "output_type": "execute_result"
    }
   ],
   "source": [
    "ts"
   ]
  },
  {
   "cell_type": "code",
   "execution_count": 74,
   "id": "afabea27",
   "metadata": {},
   "outputs": [
    {
     "data": {
      "text/plain": [
       "2000-01-31         NaN\n",
       "2000-02-29         NaN\n",
       "2000-03-31    0.354429\n",
       "2000-04-30    0.410987\n",
       "Freq: M, dtype: float64"
      ]
     },
     "execution_count": 74,
     "metadata": {},
     "output_type": "execute_result"
    }
   ],
   "source": [
    "ts.shift(2)"
   ]
  },
  {
   "cell_type": "code",
   "execution_count": 75,
   "id": "ba152550",
   "metadata": {},
   "outputs": [
    {
     "data": {
      "text/plain": [
       "2000-01-31   -0.439673\n",
       "2000-02-29    0.688915\n",
       "2000-03-31         NaN\n",
       "2000-04-30         NaN\n",
       "Freq: M, dtype: float64"
      ]
     },
     "execution_count": 75,
     "metadata": {},
     "output_type": "execute_result"
    }
   ],
   "source": [
    "ts.shift(-2)"
   ]
  },
  {
   "cell_type": "code",
   "execution_count": 76,
   "id": "303151ca",
   "metadata": {},
   "outputs": [
    {
     "data": {
      "text/plain": [
       "2000-01-31         NaN\n",
       "2000-02-29    0.159576\n",
       "2000-03-31   -2.069796\n",
       "2000-04-30   -2.566881\n",
       "Freq: M, dtype: float64"
      ]
     },
     "execution_count": 76,
     "metadata": {},
     "output_type": "execute_result"
    }
   ],
   "source": [
    "ts / ts.shift(1) - 1"
   ]
  },
  {
   "cell_type": "code",
   "execution_count": 77,
   "id": "08a016a8",
   "metadata": {},
   "outputs": [
    {
     "data": {
      "text/plain": [
       "2000-03-31    0.354429\n",
       "2000-04-30    0.410987\n",
       "2000-05-31   -0.439673\n",
       "2000-06-30    0.688915\n",
       "Freq: M, dtype: float64"
      ]
     },
     "execution_count": 77,
     "metadata": {},
     "output_type": "execute_result"
    }
   ],
   "source": [
    "ts.shift(2, freq='M')"
   ]
  },
  {
   "cell_type": "code",
   "execution_count": 78,
   "id": "335432a4",
   "metadata": {},
   "outputs": [
    {
     "data": {
      "text/plain": [
       "2000-01-31 01:30:00    0.354429\n",
       "2000-02-29 01:30:00    0.410987\n",
       "2000-03-31 01:30:00   -0.439673\n",
       "2000-04-30 01:30:00    0.688915\n",
       "dtype: float64"
      ]
     },
     "execution_count": 78,
     "metadata": {},
     "output_type": "execute_result"
    }
   ],
   "source": [
    "ts.shift(1, freq='90T')"
   ]
  },
  {
   "cell_type": "code",
   "execution_count": 79,
   "id": "d954370e",
   "metadata": {},
   "outputs": [
    {
     "data": {
      "text/plain": [
       "2000-02-03    0.354429\n",
       "2000-03-03    0.410987\n",
       "2000-04-03   -0.439673\n",
       "2000-05-03    0.688915\n",
       "dtype: float64"
      ]
     },
     "execution_count": 79,
     "metadata": {},
     "output_type": "execute_result"
    }
   ],
   "source": [
    "ts.shift(3, freq='D')"
   ]
  },
  {
   "cell_type": "code",
   "execution_count": 80,
   "id": "c4c714be",
   "metadata": {},
   "outputs": [],
   "source": [
    "from pandas.tseries.offsets import Day, MonthEnd"
   ]
  },
  {
   "cell_type": "code",
   "execution_count": 81,
   "id": "18171162",
   "metadata": {},
   "outputs": [],
   "source": [
    "now = datetime(2011, 11, 17)"
   ]
  },
  {
   "cell_type": "code",
   "execution_count": 82,
   "id": "16490009",
   "metadata": {},
   "outputs": [
    {
     "data": {
      "text/plain": [
       "Timestamp('2011-11-20 00:00:00')"
      ]
     },
     "execution_count": 82,
     "metadata": {},
     "output_type": "execute_result"
    }
   ],
   "source": [
    "now + 3 * Day()"
   ]
  },
  {
   "cell_type": "code",
   "execution_count": 83,
   "id": "bbbe5293",
   "metadata": {},
   "outputs": [
    {
     "data": {
      "text/plain": [
       "Timestamp('2011-12-31 00:00:00')"
      ]
     },
     "execution_count": 83,
     "metadata": {},
     "output_type": "execute_result"
    }
   ],
   "source": [
    "now + MonthEnd(2)"
   ]
  },
  {
   "cell_type": "code",
   "execution_count": 84,
   "id": "32d7d7d6",
   "metadata": {},
   "outputs": [],
   "source": [
    "offset = MonthEnd()"
   ]
  },
  {
   "cell_type": "code",
   "execution_count": 85,
   "id": "408530eb",
   "metadata": {},
   "outputs": [
    {
     "data": {
      "text/plain": [
       "Timestamp('2011-11-30 00:00:00')"
      ]
     },
     "execution_count": 85,
     "metadata": {},
     "output_type": "execute_result"
    }
   ],
   "source": [
    "offset.rollforward(now)"
   ]
  },
  {
   "cell_type": "code",
   "execution_count": 86,
   "id": "f5e5ba1a",
   "metadata": {},
   "outputs": [
    {
     "data": {
      "text/plain": [
       "Timestamp('2011-10-31 00:00:00')"
      ]
     },
     "execution_count": 86,
     "metadata": {},
     "output_type": "execute_result"
    }
   ],
   "source": [
    "offset.rollback(now)"
   ]
  },
  {
   "cell_type": "code",
   "execution_count": 87,
   "id": "e6dfa76b",
   "metadata": {},
   "outputs": [],
   "source": [
    "ts = pd.Series(np.random.randn(20),\n",
    "               index=pd.date_range('1/15/2000', periods=20, freq='4d'))"
   ]
  },
  {
   "cell_type": "code",
   "execution_count": 88,
   "id": "8b0928eb",
   "metadata": {},
   "outputs": [
    {
     "data": {
      "text/plain": [
       "2000-01-15   -0.041275\n",
       "2000-01-19    1.854489\n",
       "2000-01-23   -0.513294\n",
       "2000-01-27    0.092028\n",
       "2000-01-31    0.728199\n",
       "2000-02-04   -0.236825\n",
       "2000-02-08   -0.062610\n",
       "2000-02-12    0.818291\n",
       "2000-02-16    0.280670\n",
       "2000-02-20    2.125758\n",
       "2000-02-24   -0.258101\n",
       "2000-02-28   -0.945866\n",
       "2000-03-03    0.422373\n",
       "2000-03-07    0.505392\n",
       "2000-03-11    0.734832\n",
       "2000-03-15   -0.402300\n",
       "2000-03-19    1.167434\n",
       "2000-03-23   -0.885973\n",
       "2000-03-27    1.044262\n",
       "2000-03-31   -1.471368\n",
       "Freq: 4D, dtype: float64"
      ]
     },
     "execution_count": 88,
     "metadata": {},
     "output_type": "execute_result"
    }
   ],
   "source": [
    "ts"
   ]
  },
  {
   "cell_type": "code",
   "execution_count": 89,
   "id": "477a89da",
   "metadata": {},
   "outputs": [
    {
     "data": {
      "text/plain": [
       "2000-01-31    0.424029\n",
       "2000-02-29    0.245902\n",
       "2000-03-31    0.139331\n",
       "dtype: float64"
      ]
     },
     "execution_count": 89,
     "metadata": {},
     "output_type": "execute_result"
    }
   ],
   "source": [
    "ts.groupby(offset.rollforward).mean()"
   ]
  },
  {
   "cell_type": "code",
   "execution_count": 90,
   "id": "a72edf84",
   "metadata": {},
   "outputs": [
    {
     "data": {
      "text/plain": [
       "2000-01-31    0.424029\n",
       "2000-02-29    0.245902\n",
       "2000-03-31    0.139331\n",
       "Freq: M, dtype: float64"
      ]
     },
     "execution_count": 90,
     "metadata": {},
     "output_type": "execute_result"
    }
   ],
   "source": [
    "ts.resample('M').mean()"
   ]
  },
  {
   "cell_type": "code",
   "execution_count": 91,
   "id": "01dfe445",
   "metadata": {},
   "outputs": [
    {
     "data": {
      "text/plain": [
       "2000-01-31    2.120147\n",
       "2000-02-29    1.721316\n",
       "2000-03-31    1.114652\n",
       "Freq: M, dtype: float64"
      ]
     },
     "execution_count": 91,
     "metadata": {},
     "output_type": "execute_result"
    }
   ],
   "source": [
    "ts.resample('M').sum()"
   ]
  },
  {
   "cell_type": "code",
   "execution_count": 92,
   "id": "14776992",
   "metadata": {},
   "outputs": [],
   "source": [
    "import pytz"
   ]
  },
  {
   "cell_type": "code",
   "execution_count": 93,
   "id": "8f627add",
   "metadata": {},
   "outputs": [
    {
     "data": {
      "text/plain": [
       "['US/Eastern', 'US/Hawaii', 'US/Mountain', 'US/Pacific', 'UTC']"
      ]
     },
     "execution_count": 93,
     "metadata": {},
     "output_type": "execute_result"
    }
   ],
   "source": [
    "pytz.common_timezones[-5:]"
   ]
  },
  {
   "cell_type": "code",
   "execution_count": 94,
   "id": "18fc64ac",
   "metadata": {},
   "outputs": [],
   "source": [
    "tz = pytz.timezone('America/New_York')"
   ]
  },
  {
   "cell_type": "code",
   "execution_count": 95,
   "id": "ae87bf8b",
   "metadata": {},
   "outputs": [
    {
     "data": {
      "text/plain": [
       "<DstTzInfo 'America/New_York' LMT-1 day, 19:04:00 STD>"
      ]
     },
     "execution_count": 95,
     "metadata": {},
     "output_type": "execute_result"
    }
   ],
   "source": [
    "tz"
   ]
  },
  {
   "cell_type": "code",
   "execution_count": 96,
   "id": "59151620",
   "metadata": {},
   "outputs": [],
   "source": [
    "rng = pd.date_range('3/9/2012 9:30', periods=6, freq='D')"
   ]
  },
  {
   "cell_type": "code",
   "execution_count": 97,
   "id": "7dfd3612",
   "metadata": {},
   "outputs": [],
   "source": [
    "ts = pd.Series(np.random.randn(len(rng)), index=rng)"
   ]
  },
  {
   "cell_type": "code",
   "execution_count": 98,
   "id": "80b3f3cc",
   "metadata": {},
   "outputs": [
    {
     "data": {
      "text/plain": [
       "2012-03-09 09:30:00    0.619740\n",
       "2012-03-10 09:30:00    0.498682\n",
       "2012-03-11 09:30:00   -0.989269\n",
       "2012-03-12 09:30:00    0.409309\n",
       "2012-03-13 09:30:00   -1.301852\n",
       "2012-03-14 09:30:00   -0.597118\n",
       "Freq: D, dtype: float64"
      ]
     },
     "execution_count": 98,
     "metadata": {},
     "output_type": "execute_result"
    }
   ],
   "source": [
    "ts"
   ]
  },
  {
   "cell_type": "code",
   "execution_count": 99,
   "id": "ff3ee1f1",
   "metadata": {},
   "outputs": [
    {
     "name": "stdout",
     "output_type": "stream",
     "text": [
      "None\n"
     ]
    }
   ],
   "source": [
    "print(ts.index.tz)"
   ]
  },
  {
   "cell_type": "code",
   "execution_count": 100,
   "id": "66a1c786",
   "metadata": {},
   "outputs": [
    {
     "data": {
      "text/plain": [
       "DatetimeIndex(['2012-03-09 09:30:00+00:00', '2012-03-10 09:30:00+00:00',\n",
       "               '2012-03-11 09:30:00+00:00', '2012-03-12 09:30:00+00:00',\n",
       "               '2012-03-13 09:30:00+00:00', '2012-03-14 09:30:00+00:00',\n",
       "               '2012-03-15 09:30:00+00:00', '2012-03-16 09:30:00+00:00',\n",
       "               '2012-03-17 09:30:00+00:00', '2012-03-18 09:30:00+00:00'],\n",
       "              dtype='datetime64[ns, UTC]', freq='D')"
      ]
     },
     "execution_count": 100,
     "metadata": {},
     "output_type": "execute_result"
    }
   ],
   "source": [
    "pd.date_range('3/9/2012 9:30', periods=10, freq='D', tz='UTC')"
   ]
  },
  {
   "cell_type": "code",
   "execution_count": 101,
   "id": "16cd57bd",
   "metadata": {},
   "outputs": [
    {
     "data": {
      "text/plain": [
       "2012-03-09 09:30:00    0.619740\n",
       "2012-03-10 09:30:00    0.498682\n",
       "2012-03-11 09:30:00   -0.989269\n",
       "2012-03-12 09:30:00    0.409309\n",
       "2012-03-13 09:30:00   -1.301852\n",
       "2012-03-14 09:30:00   -0.597118\n",
       "Freq: D, dtype: float64"
      ]
     },
     "execution_count": 101,
     "metadata": {},
     "output_type": "execute_result"
    }
   ],
   "source": [
    "ts"
   ]
  },
  {
   "cell_type": "code",
   "execution_count": 102,
   "id": "9bd9b6a2",
   "metadata": {},
   "outputs": [],
   "source": [
    "ts_utc = ts.tz_localize('UTC')"
   ]
  },
  {
   "cell_type": "code",
   "execution_count": 103,
   "id": "fd51c687",
   "metadata": {},
   "outputs": [
    {
     "data": {
      "text/plain": [
       "2012-03-09 09:30:00+00:00    0.619740\n",
       "2012-03-10 09:30:00+00:00    0.498682\n",
       "2012-03-11 09:30:00+00:00   -0.989269\n",
       "2012-03-12 09:30:00+00:00    0.409309\n",
       "2012-03-13 09:30:00+00:00   -1.301852\n",
       "2012-03-14 09:30:00+00:00   -0.597118\n",
       "Freq: D, dtype: float64"
      ]
     },
     "execution_count": 103,
     "metadata": {},
     "output_type": "execute_result"
    }
   ],
   "source": [
    "ts_utc"
   ]
  },
  {
   "cell_type": "code",
   "execution_count": 104,
   "id": "82a9eb7b",
   "metadata": {},
   "outputs": [
    {
     "data": {
      "text/plain": [
       "DatetimeIndex(['2012-03-09 09:30:00+00:00', '2012-03-10 09:30:00+00:00',\n",
       "               '2012-03-11 09:30:00+00:00', '2012-03-12 09:30:00+00:00',\n",
       "               '2012-03-13 09:30:00+00:00', '2012-03-14 09:30:00+00:00'],\n",
       "              dtype='datetime64[ns, UTC]', freq='D')"
      ]
     },
     "execution_count": 104,
     "metadata": {},
     "output_type": "execute_result"
    }
   ],
   "source": [
    "ts_utc.index"
   ]
  },
  {
   "cell_type": "code",
   "execution_count": 105,
   "id": "16d185f6",
   "metadata": {},
   "outputs": [
    {
     "data": {
      "text/plain": [
       "2012-03-09 04:30:00-05:00    0.619740\n",
       "2012-03-10 04:30:00-05:00    0.498682\n",
       "2012-03-11 05:30:00-04:00   -0.989269\n",
       "2012-03-12 05:30:00-04:00    0.409309\n",
       "2012-03-13 05:30:00-04:00   -1.301852\n",
       "2012-03-14 05:30:00-04:00   -0.597118\n",
       "Freq: D, dtype: float64"
      ]
     },
     "execution_count": 105,
     "metadata": {},
     "output_type": "execute_result"
    }
   ],
   "source": [
    "ts_utc.tz_convert('America/New_York')"
   ]
  },
  {
   "cell_type": "code",
   "execution_count": 106,
   "id": "a267a0ec",
   "metadata": {},
   "outputs": [],
   "source": [
    "ts_eastern = ts.tz_localize('America/New_York')"
   ]
  },
  {
   "cell_type": "code",
   "execution_count": 107,
   "id": "0af65456",
   "metadata": {},
   "outputs": [
    {
     "data": {
      "text/plain": [
       "2012-03-09 14:30:00+00:00    0.619740\n",
       "2012-03-10 14:30:00+00:00    0.498682\n",
       "2012-03-11 13:30:00+00:00   -0.989269\n",
       "2012-03-12 13:30:00+00:00    0.409309\n",
       "2012-03-13 13:30:00+00:00   -1.301852\n",
       "2012-03-14 13:30:00+00:00   -0.597118\n",
       "dtype: float64"
      ]
     },
     "execution_count": 107,
     "metadata": {},
     "output_type": "execute_result"
    }
   ],
   "source": [
    "ts_eastern.tz_convert('UTC')"
   ]
  },
  {
   "cell_type": "code",
   "execution_count": 108,
   "id": "dac5928b",
   "metadata": {},
   "outputs": [
    {
     "data": {
      "text/plain": [
       "2012-03-09 15:30:00+01:00    0.619740\n",
       "2012-03-10 15:30:00+01:00    0.498682\n",
       "2012-03-11 14:30:00+01:00   -0.989269\n",
       "2012-03-12 14:30:00+01:00    0.409309\n",
       "2012-03-13 14:30:00+01:00   -1.301852\n",
       "2012-03-14 14:30:00+01:00   -0.597118\n",
       "dtype: float64"
      ]
     },
     "execution_count": 108,
     "metadata": {},
     "output_type": "execute_result"
    }
   ],
   "source": [
    "ts_eastern.tz_convert('Europe/Berlin')"
   ]
  },
  {
   "cell_type": "code",
   "execution_count": 109,
   "id": "df235f91",
   "metadata": {},
   "outputs": [
    {
     "data": {
      "text/plain": [
       "DatetimeIndex(['2012-03-09 09:30:00+08:00', '2012-03-10 09:30:00+08:00',\n",
       "               '2012-03-11 09:30:00+08:00', '2012-03-12 09:30:00+08:00',\n",
       "               '2012-03-13 09:30:00+08:00', '2012-03-14 09:30:00+08:00'],\n",
       "              dtype='datetime64[ns, Asia/Shanghai]', freq=None)"
      ]
     },
     "execution_count": 109,
     "metadata": {},
     "output_type": "execute_result"
    }
   ],
   "source": [
    "ts.index.tz_localize('Asia/Shanghai')"
   ]
  },
  {
   "cell_type": "code",
   "execution_count": 110,
   "id": "ffdb34dc",
   "metadata": {},
   "outputs": [],
   "source": [
    "stamp = pd.Timestamp('2011-3-12 04:00')"
   ]
  },
  {
   "cell_type": "code",
   "execution_count": 111,
   "id": "eb7378ca",
   "metadata": {},
   "outputs": [],
   "source": [
    "stamp_utc = stamp.tz_localize('utc')"
   ]
  },
  {
   "cell_type": "code",
   "execution_count": 112,
   "id": "d9698a14",
   "metadata": {},
   "outputs": [
    {
     "data": {
      "text/plain": [
       "Timestamp('2011-03-11 23:00:00-0500', tz='America/New_York')"
      ]
     },
     "execution_count": 112,
     "metadata": {},
     "output_type": "execute_result"
    }
   ],
   "source": [
    "stamp_utc.tz_convert('America/New_York')"
   ]
  },
  {
   "cell_type": "code",
   "execution_count": 113,
   "id": "3473b384",
   "metadata": {},
   "outputs": [],
   "source": [
    "stamp_moscow = pd.Timestamp('2011-03-12 04:00', tz='Europe/Moscow')"
   ]
  },
  {
   "cell_type": "code",
   "execution_count": 114,
   "id": "143137fc",
   "metadata": {},
   "outputs": [
    {
     "data": {
      "text/plain": [
       "Timestamp('2011-03-12 04:00:00+0300', tz='Europe/Moscow')"
      ]
     },
     "execution_count": 114,
     "metadata": {},
     "output_type": "execute_result"
    }
   ],
   "source": [
    "stamp_moscow"
   ]
  },
  {
   "cell_type": "code",
   "execution_count": 115,
   "id": "1420bbf9",
   "metadata": {},
   "outputs": [
    {
     "data": {
      "text/plain": [
       "1299902400000000000"
      ]
     },
     "execution_count": 115,
     "metadata": {},
     "output_type": "execute_result"
    }
   ],
   "source": [
    "stamp_utc.value"
   ]
  },
  {
   "cell_type": "code",
   "execution_count": 116,
   "id": "08abac75",
   "metadata": {},
   "outputs": [
    {
     "data": {
      "text/plain": [
       "1299902400000000000"
      ]
     },
     "execution_count": 116,
     "metadata": {},
     "output_type": "execute_result"
    }
   ],
   "source": [
    "stamp_utc.tz_convert('America/New_York').value"
   ]
  },
  {
   "cell_type": "code",
   "execution_count": 117,
   "id": "c1d06bf8",
   "metadata": {},
   "outputs": [],
   "source": [
    "from pandas.tseries.offsets import Hour"
   ]
  },
  {
   "cell_type": "code",
   "execution_count": 118,
   "id": "6afed0ee",
   "metadata": {},
   "outputs": [],
   "source": [
    "stamp = pd.Timestamp('2012-03-12 01:30', tz='US/Eastern')"
   ]
  },
  {
   "cell_type": "code",
   "execution_count": 119,
   "id": "0edd72a4",
   "metadata": {},
   "outputs": [
    {
     "data": {
      "text/plain": [
       "Timestamp('2012-03-12 01:30:00-0400', tz='US/Eastern')"
      ]
     },
     "execution_count": 119,
     "metadata": {},
     "output_type": "execute_result"
    }
   ],
   "source": [
    "stamp"
   ]
  },
  {
   "cell_type": "code",
   "execution_count": 120,
   "id": "c6420801",
   "metadata": {},
   "outputs": [
    {
     "data": {
      "text/plain": [
       "Timestamp('2012-03-12 02:30:00-0400', tz='US/Eastern')"
      ]
     },
     "execution_count": 120,
     "metadata": {},
     "output_type": "execute_result"
    }
   ],
   "source": [
    "stamp + Hour()"
   ]
  },
  {
   "cell_type": "code",
   "execution_count": 121,
   "id": "bc6adeb4",
   "metadata": {},
   "outputs": [],
   "source": [
    "stamp = pd.Timestamp('2012-11-04 00:30', tz='US/Eastern')"
   ]
  },
  {
   "cell_type": "code",
   "execution_count": 122,
   "id": "ee972006",
   "metadata": {},
   "outputs": [
    {
     "data": {
      "text/plain": [
       "Timestamp('2012-11-04 00:30:00-0400', tz='US/Eastern')"
      ]
     },
     "execution_count": 122,
     "metadata": {},
     "output_type": "execute_result"
    }
   ],
   "source": [
    "stamp"
   ]
  },
  {
   "cell_type": "code",
   "execution_count": 123,
   "id": "c275ee15",
   "metadata": {},
   "outputs": [
    {
     "data": {
      "text/plain": [
       "Timestamp('2012-11-04 01:30:00-0500', tz='US/Eastern')"
      ]
     },
     "execution_count": 123,
     "metadata": {},
     "output_type": "execute_result"
    }
   ],
   "source": [
    "stamp + 2 * Hour()"
   ]
  },
  {
   "cell_type": "code",
   "execution_count": 124,
   "id": "fe46c7f7",
   "metadata": {},
   "outputs": [
    {
     "data": {
      "text/plain": [
       "1352003400000000000"
      ]
     },
     "execution_count": 124,
     "metadata": {},
     "output_type": "execute_result"
    }
   ],
   "source": [
    "stamp.value"
   ]
  },
  {
   "cell_type": "code",
   "execution_count": 125,
   "id": "09cd8249",
   "metadata": {},
   "outputs": [],
   "source": [
    "rng = pd.date_range('3/7/2012 9:30', periods=10, freq='B')"
   ]
  },
  {
   "cell_type": "code",
   "execution_count": 126,
   "id": "6a9fe891",
   "metadata": {},
   "outputs": [],
   "source": [
    "ts = pd.Series(np.random.randn(len(rng)), index=rng)"
   ]
  },
  {
   "cell_type": "code",
   "execution_count": 127,
   "id": "42611e07",
   "metadata": {},
   "outputs": [],
   "source": [
    "ts1 = ts[:7].tz_localize('Europe/London')"
   ]
  },
  {
   "cell_type": "code",
   "execution_count": 128,
   "id": "e8ba8743",
   "metadata": {},
   "outputs": [],
   "source": [
    "ts2 = ts1[2:].tz_convert('Europe/Moscow')"
   ]
  },
  {
   "cell_type": "code",
   "execution_count": 129,
   "id": "dd02743e",
   "metadata": {},
   "outputs": [
    {
     "data": {
      "text/plain": [
       "2012-03-07 09:30:00+00:00    0.404631\n",
       "2012-03-08 09:30:00+00:00   -0.938353\n",
       "2012-03-09 09:30:00+00:00   -1.163591\n",
       "2012-03-12 09:30:00+00:00   -1.347937\n",
       "2012-03-13 09:30:00+00:00    0.373173\n",
       "2012-03-14 09:30:00+00:00   -1.100093\n",
       "2012-03-15 09:30:00+00:00   -0.285176\n",
       "dtype: float64"
      ]
     },
     "execution_count": 129,
     "metadata": {},
     "output_type": "execute_result"
    }
   ],
   "source": [
    "ts1"
   ]
  },
  {
   "cell_type": "code",
   "execution_count": 130,
   "id": "74240caa",
   "metadata": {},
   "outputs": [
    {
     "data": {
      "text/plain": [
       "DatetimeIndex(['2012-03-07 09:30:00+00:00', '2012-03-08 09:30:00+00:00',\n",
       "               '2012-03-09 09:30:00+00:00', '2012-03-12 09:30:00+00:00',\n",
       "               '2012-03-13 09:30:00+00:00', '2012-03-14 09:30:00+00:00',\n",
       "               '2012-03-15 09:30:00+00:00'],\n",
       "              dtype='datetime64[ns, Europe/London]', freq=None)"
      ]
     },
     "execution_count": 130,
     "metadata": {},
     "output_type": "execute_result"
    }
   ],
   "source": [
    "ts1.index"
   ]
  },
  {
   "cell_type": "code",
   "execution_count": 131,
   "id": "de92541d",
   "metadata": {},
   "outputs": [
    {
     "data": {
      "text/plain": [
       "DatetimeIndex(['2012-03-09 13:30:00+04:00', '2012-03-12 13:30:00+04:00',\n",
       "               '2012-03-13 13:30:00+04:00', '2012-03-14 13:30:00+04:00',\n",
       "               '2012-03-15 13:30:00+04:00'],\n",
       "              dtype='datetime64[ns, Europe/Moscow]', freq=None)"
      ]
     },
     "execution_count": 131,
     "metadata": {},
     "output_type": "execute_result"
    }
   ],
   "source": [
    "ts2.index"
   ]
  },
  {
   "cell_type": "code",
   "execution_count": 132,
   "id": "20755f7b",
   "metadata": {},
   "outputs": [],
   "source": [
    "result = ts1 + ts2"
   ]
  },
  {
   "cell_type": "code",
   "execution_count": 133,
   "id": "b5f60f99",
   "metadata": {},
   "outputs": [
    {
     "data": {
      "text/plain": [
       "DatetimeIndex(['2012-03-07 09:30:00+00:00', '2012-03-08 09:30:00+00:00',\n",
       "               '2012-03-09 09:30:00+00:00', '2012-03-12 09:30:00+00:00',\n",
       "               '2012-03-13 09:30:00+00:00', '2012-03-14 09:30:00+00:00',\n",
       "               '2012-03-15 09:30:00+00:00'],\n",
       "              dtype='datetime64[ns, UTC]', freq=None)"
      ]
     },
     "execution_count": 133,
     "metadata": {},
     "output_type": "execute_result"
    }
   ],
   "source": [
    "result.index"
   ]
  },
  {
   "cell_type": "code",
   "execution_count": 134,
   "id": "1f0dacd5",
   "metadata": {},
   "outputs": [],
   "source": [
    "p = pd.Period(2007, freq='A-DEC')"
   ]
  },
  {
   "cell_type": "code",
   "execution_count": 135,
   "id": "cebfd37d",
   "metadata": {},
   "outputs": [
    {
     "data": {
      "text/plain": [
       "Period('2007', 'A-DEC')"
      ]
     },
     "execution_count": 135,
     "metadata": {},
     "output_type": "execute_result"
    }
   ],
   "source": [
    "p"
   ]
  },
  {
   "cell_type": "code",
   "execution_count": 136,
   "id": "2ba3b96d",
   "metadata": {},
   "outputs": [
    {
     "data": {
      "text/plain": [
       "Period('2012', 'A-DEC')"
      ]
     },
     "execution_count": 136,
     "metadata": {},
     "output_type": "execute_result"
    }
   ],
   "source": [
    "p + 5"
   ]
  },
  {
   "cell_type": "code",
   "execution_count": 137,
   "id": "8a468b40",
   "metadata": {},
   "outputs": [
    {
     "data": {
      "text/plain": [
       "Period('2005', 'A-DEC')"
      ]
     },
     "execution_count": 137,
     "metadata": {},
     "output_type": "execute_result"
    }
   ],
   "source": [
    "p - 2"
   ]
  },
  {
   "cell_type": "code",
   "execution_count": 138,
   "id": "a5238147",
   "metadata": {},
   "outputs": [
    {
     "data": {
      "text/plain": [
       "<7 * YearEnds: month=12>"
      ]
     },
     "execution_count": 138,
     "metadata": {},
     "output_type": "execute_result"
    }
   ],
   "source": [
    "pd.Period('2014', freq='A-DEC') - p"
   ]
  },
  {
   "cell_type": "code",
   "execution_count": 139,
   "id": "c1d8fdd9",
   "metadata": {},
   "outputs": [],
   "source": [
    "rng = pd.period_range('2000-01-01', '2000-06-30', freq='M')"
   ]
  },
  {
   "cell_type": "code",
   "execution_count": 140,
   "id": "76aec0cb",
   "metadata": {},
   "outputs": [
    {
     "data": {
      "text/plain": [
       "PeriodIndex(['2000-01', '2000-02', '2000-03', '2000-04', '2000-05', '2000-06'], dtype='period[M]')"
      ]
     },
     "execution_count": 140,
     "metadata": {},
     "output_type": "execute_result"
    }
   ],
   "source": [
    "rng"
   ]
  },
  {
   "cell_type": "code",
   "execution_count": 141,
   "id": "49a57e8c",
   "metadata": {},
   "outputs": [
    {
     "data": {
      "text/plain": [
       "2000-01    1.078600\n",
       "2000-02    1.180270\n",
       "2000-03    0.044685\n",
       "2000-04    0.880209\n",
       "2000-05   -1.294108\n",
       "2000-06   -2.015226\n",
       "Freq: M, dtype: float64"
      ]
     },
     "execution_count": 141,
     "metadata": {},
     "output_type": "execute_result"
    }
   ],
   "source": [
    "pd.Series(np.random.randn(6), index=rng)"
   ]
  },
  {
   "cell_type": "code",
   "execution_count": 142,
   "id": "6cbf1925",
   "metadata": {},
   "outputs": [],
   "source": [
    "values = ['2001Q3', '2002Q2', '2003Q1']"
   ]
  },
  {
   "cell_type": "code",
   "execution_count": 143,
   "id": "e0ae5f5d",
   "metadata": {},
   "outputs": [],
   "source": [
    "index = pd.PeriodIndex(values, freq='Q-DEC')"
   ]
  },
  {
   "cell_type": "code",
   "execution_count": 144,
   "id": "498acaf6",
   "metadata": {},
   "outputs": [
    {
     "data": {
      "text/plain": [
       "PeriodIndex(['2001Q3', '2002Q2', '2003Q1'], dtype='period[Q-DEC]')"
      ]
     },
     "execution_count": 144,
     "metadata": {},
     "output_type": "execute_result"
    }
   ],
   "source": [
    "index"
   ]
  },
  {
   "cell_type": "code",
   "execution_count": 145,
   "id": "76310646",
   "metadata": {},
   "outputs": [],
   "source": [
    "p = pd.Period('2007', freq='A-DEC')"
   ]
  },
  {
   "cell_type": "code",
   "execution_count": 146,
   "id": "e52c1d80",
   "metadata": {},
   "outputs": [
    {
     "data": {
      "text/plain": [
       "Period('2007', 'A-DEC')"
      ]
     },
     "execution_count": 146,
     "metadata": {},
     "output_type": "execute_result"
    }
   ],
   "source": [
    "p"
   ]
  },
  {
   "cell_type": "code",
   "execution_count": 147,
   "id": "b8285a6c",
   "metadata": {},
   "outputs": [
    {
     "data": {
      "text/plain": [
       "Period('2007-01', 'M')"
      ]
     },
     "execution_count": 147,
     "metadata": {},
     "output_type": "execute_result"
    }
   ],
   "source": [
    "p.asfreq('M', how='start')"
   ]
  },
  {
   "cell_type": "code",
   "execution_count": 148,
   "id": "ee6b353d",
   "metadata": {},
   "outputs": [
    {
     "data": {
      "text/plain": [
       "Period('2007-12', 'M')"
      ]
     },
     "execution_count": 148,
     "metadata": {},
     "output_type": "execute_result"
    }
   ],
   "source": [
    "p.asfreq('M', how='end')"
   ]
  },
  {
   "cell_type": "code",
   "execution_count": 149,
   "id": "7b5b9a91",
   "metadata": {},
   "outputs": [],
   "source": [
    "p = pd.Period('2007', freq='A-JUN')"
   ]
  },
  {
   "cell_type": "code",
   "execution_count": 150,
   "id": "ccdfdb0c",
   "metadata": {},
   "outputs": [
    {
     "data": {
      "text/plain": [
       "Period('2007', 'A-JUN')"
      ]
     },
     "execution_count": 150,
     "metadata": {},
     "output_type": "execute_result"
    }
   ],
   "source": [
    "p"
   ]
  },
  {
   "cell_type": "code",
   "execution_count": 151,
   "id": "9c8450b3",
   "metadata": {},
   "outputs": [
    {
     "data": {
      "text/plain": [
       "Period('2006-07', 'M')"
      ]
     },
     "execution_count": 151,
     "metadata": {},
     "output_type": "execute_result"
    }
   ],
   "source": [
    "p.asfreq('M', 'start')"
   ]
  },
  {
   "cell_type": "code",
   "execution_count": 152,
   "id": "263502d6",
   "metadata": {},
   "outputs": [
    {
     "data": {
      "text/plain": [
       "Period('2007-06', 'M')"
      ]
     },
     "execution_count": 152,
     "metadata": {},
     "output_type": "execute_result"
    }
   ],
   "source": [
    "p.asfreq('M', 'end')"
   ]
  },
  {
   "cell_type": "code",
   "execution_count": 153,
   "id": "930c6efc",
   "metadata": {},
   "outputs": [],
   "source": [
    "p = pd.Period('Aug-2007', 'M')"
   ]
  },
  {
   "cell_type": "code",
   "execution_count": 154,
   "id": "6b3e9ed0",
   "metadata": {},
   "outputs": [
    {
     "data": {
      "text/plain": [
       "Period('2008', 'A-JUN')"
      ]
     },
     "execution_count": 154,
     "metadata": {},
     "output_type": "execute_result"
    }
   ],
   "source": [
    "p.asfreq('A-JUN')"
   ]
  },
  {
   "cell_type": "code",
   "execution_count": 155,
   "id": "5672ac40",
   "metadata": {},
   "outputs": [],
   "source": [
    "rng = pd.period_range('2006', '2009', freq='A-DEC')"
   ]
  },
  {
   "cell_type": "code",
   "execution_count": 156,
   "id": "f18a1e76",
   "metadata": {},
   "outputs": [],
   "source": [
    "ts = pd.Series(np.random.randn(len(rng)), index=rng)"
   ]
  },
  {
   "cell_type": "code",
   "execution_count": 157,
   "id": "56401709",
   "metadata": {},
   "outputs": [
    {
     "data": {
      "text/plain": [
       "2006-01    0.085696\n",
       "2007-01    0.778810\n",
       "2008-01   -0.781501\n",
       "2009-01   -0.296556\n",
       "Freq: M, dtype: float64"
      ]
     },
     "execution_count": 157,
     "metadata": {},
     "output_type": "execute_result"
    }
   ],
   "source": [
    "ts.asfreq('M', how='start')"
   ]
  },
  {
   "cell_type": "code",
   "execution_count": 158,
   "id": "c48198b1",
   "metadata": {},
   "outputs": [
    {
     "data": {
      "text/plain": [
       "2006-12-29    0.085696\n",
       "2007-12-31    0.778810\n",
       "2008-12-31   -0.781501\n",
       "2009-12-31   -0.296556\n",
       "Freq: B, dtype: float64"
      ]
     },
     "execution_count": 158,
     "metadata": {},
     "output_type": "execute_result"
    }
   ],
   "source": [
    "ts.asfreq('B', how='end')"
   ]
  },
  {
   "cell_type": "code",
   "execution_count": 159,
   "id": "8d794feb",
   "metadata": {},
   "outputs": [],
   "source": [
    "rng = pd.period_range('2006', '2009', freq='A-DEC')"
   ]
  },
  {
   "cell_type": "code",
   "execution_count": 160,
   "id": "391559dc",
   "metadata": {},
   "outputs": [],
   "source": [
    "ts = pd.Series(np.random.randn(len(rng)), index=rng)"
   ]
  },
  {
   "cell_type": "code",
   "execution_count": 161,
   "id": "14e68d48",
   "metadata": {},
   "outputs": [
    {
     "data": {
      "text/plain": [
       "2006    0.915358\n",
       "2007    0.415306\n",
       "2008    1.531016\n",
       "2009   -0.786297\n",
       "Freq: A-DEC, dtype: float64"
      ]
     },
     "execution_count": 161,
     "metadata": {},
     "output_type": "execute_result"
    }
   ],
   "source": [
    "ts"
   ]
  },
  {
   "cell_type": "code",
   "execution_count": 162,
   "id": "ff148d12",
   "metadata": {},
   "outputs": [
    {
     "data": {
      "text/plain": [
       "2006-01    0.915358\n",
       "2007-01    0.415306\n",
       "2008-01    1.531016\n",
       "2009-01   -0.786297\n",
       "Freq: M, dtype: float64"
      ]
     },
     "execution_count": 162,
     "metadata": {},
     "output_type": "execute_result"
    }
   ],
   "source": [
    "ts.asfreq('M', how='start')"
   ]
  },
  {
   "cell_type": "code",
   "execution_count": 163,
   "id": "54ede9f4",
   "metadata": {},
   "outputs": [
    {
     "data": {
      "text/plain": [
       "2006-12-29    0.915358\n",
       "2007-12-31    0.415306\n",
       "2008-12-31    1.531016\n",
       "2009-12-31   -0.786297\n",
       "Freq: B, dtype: float64"
      ]
     },
     "execution_count": 163,
     "metadata": {},
     "output_type": "execute_result"
    }
   ],
   "source": [
    "ts.asfreq('B', how='end')"
   ]
  },
  {
   "cell_type": "code",
   "execution_count": 164,
   "id": "92740394",
   "metadata": {},
   "outputs": [],
   "source": [
    "p = pd.Period('2012Q4', freq='Q-JAN')"
   ]
  },
  {
   "cell_type": "code",
   "execution_count": 165,
   "id": "61814c15",
   "metadata": {},
   "outputs": [
    {
     "data": {
      "text/plain": [
       "Period('2012Q4', 'Q-JAN')"
      ]
     },
     "execution_count": 165,
     "metadata": {},
     "output_type": "execute_result"
    }
   ],
   "source": [
    "p"
   ]
  },
  {
   "cell_type": "code",
   "execution_count": 166,
   "id": "e0f22d0d",
   "metadata": {},
   "outputs": [
    {
     "data": {
      "text/plain": [
       "Period('2011-11-01', 'D')"
      ]
     },
     "execution_count": 166,
     "metadata": {},
     "output_type": "execute_result"
    }
   ],
   "source": [
    "p.asfreq('D', 'start')"
   ]
  },
  {
   "cell_type": "code",
   "execution_count": 167,
   "id": "26bd9396",
   "metadata": {},
   "outputs": [
    {
     "data": {
      "text/plain": [
       "Period('2012-01-31', 'D')"
      ]
     },
     "execution_count": 167,
     "metadata": {},
     "output_type": "execute_result"
    }
   ],
   "source": [
    "p.asfreq('D', 'end')"
   ]
  },
  {
   "cell_type": "code",
   "execution_count": 168,
   "id": "fdb75008",
   "metadata": {},
   "outputs": [],
   "source": [
    "p4pm = (p.asfreq('B', 'e') - 1).asfreq('T', 's') + 16 * 60"
   ]
  },
  {
   "cell_type": "code",
   "execution_count": 169,
   "id": "e5bff7ac",
   "metadata": {},
   "outputs": [
    {
     "data": {
      "text/plain": [
       "Period('2012-01-30 16:00', 'T')"
      ]
     },
     "execution_count": 169,
     "metadata": {},
     "output_type": "execute_result"
    }
   ],
   "source": [
    "p4pm"
   ]
  },
  {
   "cell_type": "code",
   "execution_count": 170,
   "id": "15c9563d",
   "metadata": {},
   "outputs": [
    {
     "data": {
      "text/plain": [
       "Timestamp('2012-01-30 16:00:00')"
      ]
     },
     "execution_count": 170,
     "metadata": {},
     "output_type": "execute_result"
    }
   ],
   "source": [
    "p4pm.to_timestamp()"
   ]
  },
  {
   "cell_type": "code",
   "execution_count": 171,
   "id": "23c7bf0b",
   "metadata": {},
   "outputs": [],
   "source": [
    "rng = pd.period_range('2011Q3', '2012Q4', freq='Q-JAN')"
   ]
  },
  {
   "cell_type": "code",
   "execution_count": 172,
   "id": "72222e27",
   "metadata": {},
   "outputs": [],
   "source": [
    "ts = pd.Series(np.arange(len(rng)), index= rng)"
   ]
  },
  {
   "cell_type": "code",
   "execution_count": 173,
   "id": "403b56f9",
   "metadata": {},
   "outputs": [
    {
     "data": {
      "text/plain": [
       "2011Q3    0\n",
       "2011Q4    1\n",
       "2012Q1    2\n",
       "2012Q2    3\n",
       "2012Q3    4\n",
       "2012Q4    5\n",
       "Freq: Q-JAN, dtype: int32"
      ]
     },
     "execution_count": 173,
     "metadata": {},
     "output_type": "execute_result"
    }
   ],
   "source": [
    "ts"
   ]
  },
  {
   "cell_type": "code",
   "execution_count": 174,
   "id": "d4e52770",
   "metadata": {},
   "outputs": [],
   "source": [
    "new_rng = (rng.asfreq('B', 'e') - 1).asfreq('T', 's') + 16 * 60"
   ]
  },
  {
   "cell_type": "code",
   "execution_count": 175,
   "id": "d546671f",
   "metadata": {},
   "outputs": [],
   "source": [
    "ts.index = new_rng.to_timestamp()"
   ]
  },
  {
   "cell_type": "code",
   "execution_count": 176,
   "id": "bcd5754c",
   "metadata": {},
   "outputs": [
    {
     "data": {
      "text/plain": [
       "2010-10-28 16:00:00    0\n",
       "2011-01-28 16:00:00    1\n",
       "2011-04-28 16:00:00    2\n",
       "2011-07-28 16:00:00    3\n",
       "2011-10-28 16:00:00    4\n",
       "2012-01-30 16:00:00    5\n",
       "dtype: int32"
      ]
     },
     "execution_count": 176,
     "metadata": {},
     "output_type": "execute_result"
    }
   ],
   "source": [
    "ts"
   ]
  },
  {
   "cell_type": "code",
   "execution_count": 177,
   "id": "b0fbd2cc",
   "metadata": {},
   "outputs": [],
   "source": [
    "rng = pd.date_range('2000-01-01', periods=3, freq='M')"
   ]
  },
  {
   "cell_type": "code",
   "execution_count": 178,
   "id": "a2847b31",
   "metadata": {},
   "outputs": [],
   "source": [
    "ts = pd.Series(np.random.randn(3), index=rng)"
   ]
  },
  {
   "cell_type": "code",
   "execution_count": 179,
   "id": "59426bda",
   "metadata": {},
   "outputs": [
    {
     "data": {
      "text/plain": [
       "2000-01-31    0.599227\n",
       "2000-02-29   -0.538247\n",
       "2000-03-31   -0.799188\n",
       "Freq: M, dtype: float64"
      ]
     },
     "execution_count": 179,
     "metadata": {},
     "output_type": "execute_result"
    }
   ],
   "source": [
    "ts"
   ]
  },
  {
   "cell_type": "code",
   "execution_count": 180,
   "id": "6747bac8",
   "metadata": {},
   "outputs": [],
   "source": [
    "pts = ts.to_period()"
   ]
  },
  {
   "cell_type": "code",
   "execution_count": 181,
   "id": "eecd10f4",
   "metadata": {},
   "outputs": [
    {
     "data": {
      "text/plain": [
       "2000-01    0.599227\n",
       "2000-02   -0.538247\n",
       "2000-03   -0.799188\n",
       "Freq: M, dtype: float64"
      ]
     },
     "execution_count": 181,
     "metadata": {},
     "output_type": "execute_result"
    }
   ],
   "source": [
    "pts"
   ]
  },
  {
   "cell_type": "code",
   "execution_count": 182,
   "id": "456a2fa5",
   "metadata": {},
   "outputs": [],
   "source": [
    "rng = pd.date_range('1/29/2000', periods=6, freq='D')"
   ]
  },
  {
   "cell_type": "code",
   "execution_count": 183,
   "id": "e81c7e92",
   "metadata": {},
   "outputs": [],
   "source": [
    "ts2 = pd.Series(np.random.randn(6), index=rng)"
   ]
  },
  {
   "cell_type": "code",
   "execution_count": 184,
   "id": "d2759ab0",
   "metadata": {},
   "outputs": [
    {
     "data": {
      "text/plain": [
       "2000-01-29   -0.184978\n",
       "2000-01-30    0.025481\n",
       "2000-01-31    0.598969\n",
       "2000-02-01   -0.504737\n",
       "2000-02-02   -0.969311\n",
       "2000-02-03   -0.489164\n",
       "Freq: D, dtype: float64"
      ]
     },
     "execution_count": 184,
     "metadata": {},
     "output_type": "execute_result"
    }
   ],
   "source": [
    "ts2"
   ]
  },
  {
   "cell_type": "code",
   "execution_count": 185,
   "id": "3e72f3ec",
   "metadata": {},
   "outputs": [
    {
     "data": {
      "text/plain": [
       "2000-01   -0.184978\n",
       "2000-01    0.025481\n",
       "2000-01    0.598969\n",
       "2000-02   -0.504737\n",
       "2000-02   -0.969311\n",
       "2000-02   -0.489164\n",
       "Freq: M, dtype: float64"
      ]
     },
     "execution_count": 185,
     "metadata": {},
     "output_type": "execute_result"
    }
   ],
   "source": [
    "ts2.to_period('M')"
   ]
  },
  {
   "cell_type": "code",
   "execution_count": 186,
   "id": "992086a5",
   "metadata": {},
   "outputs": [],
   "source": [
    "pts = ts2.to_period()"
   ]
  },
  {
   "cell_type": "code",
   "execution_count": 187,
   "id": "2032cf4f",
   "metadata": {},
   "outputs": [
    {
     "data": {
      "text/plain": [
       "2000-01-29 23:59:59.999999999   -0.184978\n",
       "2000-01-30 23:59:59.999999999    0.025481\n",
       "2000-01-31 23:59:59.999999999    0.598969\n",
       "2000-02-01 23:59:59.999999999   -0.504737\n",
       "2000-02-02 23:59:59.999999999   -0.969311\n",
       "2000-02-03 23:59:59.999999999   -0.489164\n",
       "Freq: D, dtype: float64"
      ]
     },
     "execution_count": 187,
     "metadata": {},
     "output_type": "execute_result"
    }
   ],
   "source": [
    "pts.to_timestamp(how='end')"
   ]
  },
  {
   "cell_type": "code",
   "execution_count": 188,
   "id": "e14d6e10",
   "metadata": {},
   "outputs": [],
   "source": [
    "data = pd.read_csv('examples/macrodata.csv')"
   ]
  },
  {
   "cell_type": "code",
   "execution_count": 189,
   "id": "34333f40",
   "metadata": {},
   "outputs": [
    {
     "data": {
      "text/html": [
       "<div>\n",
       "<style scoped>\n",
       "    .dataframe tbody tr th:only-of-type {\n",
       "        vertical-align: middle;\n",
       "    }\n",
       "\n",
       "    .dataframe tbody tr th {\n",
       "        vertical-align: top;\n",
       "    }\n",
       "\n",
       "    .dataframe thead th {\n",
       "        text-align: right;\n",
       "    }\n",
       "</style>\n",
       "<table border=\"1\" class=\"dataframe\">\n",
       "  <thead>\n",
       "    <tr style=\"text-align: right;\">\n",
       "      <th></th>\n",
       "      <th>year</th>\n",
       "      <th>quarter</th>\n",
       "      <th>realgdp</th>\n",
       "      <th>realcons</th>\n",
       "      <th>realinv</th>\n",
       "      <th>realgovt</th>\n",
       "      <th>realdpi</th>\n",
       "      <th>cpi</th>\n",
       "      <th>m1</th>\n",
       "      <th>tbilrate</th>\n",
       "      <th>unemp</th>\n",
       "      <th>pop</th>\n",
       "      <th>infl</th>\n",
       "      <th>realint</th>\n",
       "    </tr>\n",
       "  </thead>\n",
       "  <tbody>\n",
       "    <tr>\n",
       "      <th>0</th>\n",
       "      <td>1959.0</td>\n",
       "      <td>1.0</td>\n",
       "      <td>2710.349</td>\n",
       "      <td>1707.4</td>\n",
       "      <td>286.898</td>\n",
       "      <td>470.045</td>\n",
       "      <td>1886.9</td>\n",
       "      <td>28.98</td>\n",
       "      <td>139.7</td>\n",
       "      <td>2.82</td>\n",
       "      <td>5.8</td>\n",
       "      <td>177.146</td>\n",
       "      <td>0.00</td>\n",
       "      <td>0.00</td>\n",
       "    </tr>\n",
       "    <tr>\n",
       "      <th>1</th>\n",
       "      <td>1959.0</td>\n",
       "      <td>2.0</td>\n",
       "      <td>2778.801</td>\n",
       "      <td>1733.7</td>\n",
       "      <td>310.859</td>\n",
       "      <td>481.301</td>\n",
       "      <td>1919.7</td>\n",
       "      <td>29.15</td>\n",
       "      <td>141.7</td>\n",
       "      <td>3.08</td>\n",
       "      <td>5.1</td>\n",
       "      <td>177.830</td>\n",
       "      <td>2.34</td>\n",
       "      <td>0.74</td>\n",
       "    </tr>\n",
       "    <tr>\n",
       "      <th>2</th>\n",
       "      <td>1959.0</td>\n",
       "      <td>3.0</td>\n",
       "      <td>2775.488</td>\n",
       "      <td>1751.8</td>\n",
       "      <td>289.226</td>\n",
       "      <td>491.260</td>\n",
       "      <td>1916.4</td>\n",
       "      <td>29.35</td>\n",
       "      <td>140.5</td>\n",
       "      <td>3.82</td>\n",
       "      <td>5.3</td>\n",
       "      <td>178.657</td>\n",
       "      <td>2.74</td>\n",
       "      <td>1.09</td>\n",
       "    </tr>\n",
       "    <tr>\n",
       "      <th>3</th>\n",
       "      <td>1959.0</td>\n",
       "      <td>4.0</td>\n",
       "      <td>2785.204</td>\n",
       "      <td>1753.7</td>\n",
       "      <td>299.356</td>\n",
       "      <td>484.052</td>\n",
       "      <td>1931.3</td>\n",
       "      <td>29.37</td>\n",
       "      <td>140.0</td>\n",
       "      <td>4.33</td>\n",
       "      <td>5.6</td>\n",
       "      <td>179.386</td>\n",
       "      <td>0.27</td>\n",
       "      <td>4.06</td>\n",
       "    </tr>\n",
       "    <tr>\n",
       "      <th>4</th>\n",
       "      <td>1960.0</td>\n",
       "      <td>1.0</td>\n",
       "      <td>2847.699</td>\n",
       "      <td>1770.5</td>\n",
       "      <td>331.722</td>\n",
       "      <td>462.199</td>\n",
       "      <td>1955.5</td>\n",
       "      <td>29.54</td>\n",
       "      <td>139.6</td>\n",
       "      <td>3.50</td>\n",
       "      <td>5.2</td>\n",
       "      <td>180.007</td>\n",
       "      <td>2.31</td>\n",
       "      <td>1.19</td>\n",
       "    </tr>\n",
       "  </tbody>\n",
       "</table>\n",
       "</div>"
      ],
      "text/plain": [
       "     year  quarter   realgdp  realcons  realinv  realgovt  realdpi    cpi  \\\n",
       "0  1959.0      1.0  2710.349    1707.4  286.898   470.045   1886.9  28.98   \n",
       "1  1959.0      2.0  2778.801    1733.7  310.859   481.301   1919.7  29.15   \n",
       "2  1959.0      3.0  2775.488    1751.8  289.226   491.260   1916.4  29.35   \n",
       "3  1959.0      4.0  2785.204    1753.7  299.356   484.052   1931.3  29.37   \n",
       "4  1960.0      1.0  2847.699    1770.5  331.722   462.199   1955.5  29.54   \n",
       "\n",
       "      m1  tbilrate  unemp      pop  infl  realint  \n",
       "0  139.7      2.82    5.8  177.146  0.00     0.00  \n",
       "1  141.7      3.08    5.1  177.830  2.34     0.74  \n",
       "2  140.5      3.82    5.3  178.657  2.74     1.09  \n",
       "3  140.0      4.33    5.6  179.386  0.27     4.06  \n",
       "4  139.6      3.50    5.2  180.007  2.31     1.19  "
      ]
     },
     "execution_count": 189,
     "metadata": {},
     "output_type": "execute_result"
    }
   ],
   "source": [
    "data.head(5)"
   ]
  },
  {
   "cell_type": "code",
   "execution_count": 190,
   "id": "d60cf9a5",
   "metadata": {},
   "outputs": [
    {
     "data": {
      "text/html": [
       "<div>\n",
       "<style scoped>\n",
       "    .dataframe tbody tr th:only-of-type {\n",
       "        vertical-align: middle;\n",
       "    }\n",
       "\n",
       "    .dataframe tbody tr th {\n",
       "        vertical-align: top;\n",
       "    }\n",
       "\n",
       "    .dataframe thead th {\n",
       "        text-align: right;\n",
       "    }\n",
       "</style>\n",
       "<table border=\"1\" class=\"dataframe\">\n",
       "  <thead>\n",
       "    <tr style=\"text-align: right;\">\n",
       "      <th></th>\n",
       "      <th>year</th>\n",
       "      <th>quarter</th>\n",
       "      <th>realgdp</th>\n",
       "      <th>realcons</th>\n",
       "      <th>realinv</th>\n",
       "      <th>realgovt</th>\n",
       "      <th>realdpi</th>\n",
       "      <th>cpi</th>\n",
       "      <th>m1</th>\n",
       "      <th>tbilrate</th>\n",
       "      <th>unemp</th>\n",
       "      <th>pop</th>\n",
       "      <th>infl</th>\n",
       "      <th>realint</th>\n",
       "    </tr>\n",
       "  </thead>\n",
       "  <tbody>\n",
       "    <tr>\n",
       "      <th>0</th>\n",
       "      <td>1959.0</td>\n",
       "      <td>1.0</td>\n",
       "      <td>2710.349</td>\n",
       "      <td>1707.4</td>\n",
       "      <td>286.898</td>\n",
       "      <td>470.045</td>\n",
       "      <td>1886.9</td>\n",
       "      <td>28.980</td>\n",
       "      <td>139.7</td>\n",
       "      <td>2.82</td>\n",
       "      <td>5.8</td>\n",
       "      <td>177.146</td>\n",
       "      <td>0.00</td>\n",
       "      <td>0.00</td>\n",
       "    </tr>\n",
       "    <tr>\n",
       "      <th>1</th>\n",
       "      <td>1959.0</td>\n",
       "      <td>2.0</td>\n",
       "      <td>2778.801</td>\n",
       "      <td>1733.7</td>\n",
       "      <td>310.859</td>\n",
       "      <td>481.301</td>\n",
       "      <td>1919.7</td>\n",
       "      <td>29.150</td>\n",
       "      <td>141.7</td>\n",
       "      <td>3.08</td>\n",
       "      <td>5.1</td>\n",
       "      <td>177.830</td>\n",
       "      <td>2.34</td>\n",
       "      <td>0.74</td>\n",
       "    </tr>\n",
       "    <tr>\n",
       "      <th>2</th>\n",
       "      <td>1959.0</td>\n",
       "      <td>3.0</td>\n",
       "      <td>2775.488</td>\n",
       "      <td>1751.8</td>\n",
       "      <td>289.226</td>\n",
       "      <td>491.260</td>\n",
       "      <td>1916.4</td>\n",
       "      <td>29.350</td>\n",
       "      <td>140.5</td>\n",
       "      <td>3.82</td>\n",
       "      <td>5.3</td>\n",
       "      <td>178.657</td>\n",
       "      <td>2.74</td>\n",
       "      <td>1.09</td>\n",
       "    </tr>\n",
       "    <tr>\n",
       "      <th>3</th>\n",
       "      <td>1959.0</td>\n",
       "      <td>4.0</td>\n",
       "      <td>2785.204</td>\n",
       "      <td>1753.7</td>\n",
       "      <td>299.356</td>\n",
       "      <td>484.052</td>\n",
       "      <td>1931.3</td>\n",
       "      <td>29.370</td>\n",
       "      <td>140.0</td>\n",
       "      <td>4.33</td>\n",
       "      <td>5.6</td>\n",
       "      <td>179.386</td>\n",
       "      <td>0.27</td>\n",
       "      <td>4.06</td>\n",
       "    </tr>\n",
       "    <tr>\n",
       "      <th>4</th>\n",
       "      <td>1960.0</td>\n",
       "      <td>1.0</td>\n",
       "      <td>2847.699</td>\n",
       "      <td>1770.5</td>\n",
       "      <td>331.722</td>\n",
       "      <td>462.199</td>\n",
       "      <td>1955.5</td>\n",
       "      <td>29.540</td>\n",
       "      <td>139.6</td>\n",
       "      <td>3.50</td>\n",
       "      <td>5.2</td>\n",
       "      <td>180.007</td>\n",
       "      <td>2.31</td>\n",
       "      <td>1.19</td>\n",
       "    </tr>\n",
       "    <tr>\n",
       "      <th>...</th>\n",
       "      <td>...</td>\n",
       "      <td>...</td>\n",
       "      <td>...</td>\n",
       "      <td>...</td>\n",
       "      <td>...</td>\n",
       "      <td>...</td>\n",
       "      <td>...</td>\n",
       "      <td>...</td>\n",
       "      <td>...</td>\n",
       "      <td>...</td>\n",
       "      <td>...</td>\n",
       "      <td>...</td>\n",
       "      <td>...</td>\n",
       "      <td>...</td>\n",
       "    </tr>\n",
       "    <tr>\n",
       "      <th>198</th>\n",
       "      <td>2008.0</td>\n",
       "      <td>3.0</td>\n",
       "      <td>13324.600</td>\n",
       "      <td>9267.7</td>\n",
       "      <td>1990.693</td>\n",
       "      <td>991.551</td>\n",
       "      <td>9838.3</td>\n",
       "      <td>216.889</td>\n",
       "      <td>1474.7</td>\n",
       "      <td>1.17</td>\n",
       "      <td>6.0</td>\n",
       "      <td>305.270</td>\n",
       "      <td>-3.16</td>\n",
       "      <td>4.33</td>\n",
       "    </tr>\n",
       "    <tr>\n",
       "      <th>199</th>\n",
       "      <td>2008.0</td>\n",
       "      <td>4.0</td>\n",
       "      <td>13141.920</td>\n",
       "      <td>9195.3</td>\n",
       "      <td>1857.661</td>\n",
       "      <td>1007.273</td>\n",
       "      <td>9920.4</td>\n",
       "      <td>212.174</td>\n",
       "      <td>1576.5</td>\n",
       "      <td>0.12</td>\n",
       "      <td>6.9</td>\n",
       "      <td>305.952</td>\n",
       "      <td>-8.79</td>\n",
       "      <td>8.91</td>\n",
       "    </tr>\n",
       "    <tr>\n",
       "      <th>200</th>\n",
       "      <td>2009.0</td>\n",
       "      <td>1.0</td>\n",
       "      <td>12925.410</td>\n",
       "      <td>9209.2</td>\n",
       "      <td>1558.494</td>\n",
       "      <td>996.287</td>\n",
       "      <td>9926.4</td>\n",
       "      <td>212.671</td>\n",
       "      <td>1592.8</td>\n",
       "      <td>0.22</td>\n",
       "      <td>8.1</td>\n",
       "      <td>306.547</td>\n",
       "      <td>0.94</td>\n",
       "      <td>-0.71</td>\n",
       "    </tr>\n",
       "    <tr>\n",
       "      <th>201</th>\n",
       "      <td>2009.0</td>\n",
       "      <td>2.0</td>\n",
       "      <td>12901.504</td>\n",
       "      <td>9189.0</td>\n",
       "      <td>1456.678</td>\n",
       "      <td>1023.528</td>\n",
       "      <td>10077.5</td>\n",
       "      <td>214.469</td>\n",
       "      <td>1653.6</td>\n",
       "      <td>0.18</td>\n",
       "      <td>9.2</td>\n",
       "      <td>307.226</td>\n",
       "      <td>3.37</td>\n",
       "      <td>-3.19</td>\n",
       "    </tr>\n",
       "    <tr>\n",
       "      <th>202</th>\n",
       "      <td>2009.0</td>\n",
       "      <td>3.0</td>\n",
       "      <td>12990.341</td>\n",
       "      <td>9256.0</td>\n",
       "      <td>1486.398</td>\n",
       "      <td>1044.088</td>\n",
       "      <td>10040.6</td>\n",
       "      <td>216.385</td>\n",
       "      <td>1673.9</td>\n",
       "      <td>0.12</td>\n",
       "      <td>9.6</td>\n",
       "      <td>308.013</td>\n",
       "      <td>3.56</td>\n",
       "      <td>-3.44</td>\n",
       "    </tr>\n",
       "  </tbody>\n",
       "</table>\n",
       "<p>203 rows × 14 columns</p>\n",
       "</div>"
      ],
      "text/plain": [
       "       year  quarter    realgdp  realcons   realinv  realgovt  realdpi  \\\n",
       "0    1959.0      1.0   2710.349    1707.4   286.898   470.045   1886.9   \n",
       "1    1959.0      2.0   2778.801    1733.7   310.859   481.301   1919.7   \n",
       "2    1959.0      3.0   2775.488    1751.8   289.226   491.260   1916.4   \n",
       "3    1959.0      4.0   2785.204    1753.7   299.356   484.052   1931.3   \n",
       "4    1960.0      1.0   2847.699    1770.5   331.722   462.199   1955.5   \n",
       "..      ...      ...        ...       ...       ...       ...      ...   \n",
       "198  2008.0      3.0  13324.600    9267.7  1990.693   991.551   9838.3   \n",
       "199  2008.0      4.0  13141.920    9195.3  1857.661  1007.273   9920.4   \n",
       "200  2009.0      1.0  12925.410    9209.2  1558.494   996.287   9926.4   \n",
       "201  2009.0      2.0  12901.504    9189.0  1456.678  1023.528  10077.5   \n",
       "202  2009.0      3.0  12990.341    9256.0  1486.398  1044.088  10040.6   \n",
       "\n",
       "         cpi      m1  tbilrate  unemp      pop  infl  realint  \n",
       "0     28.980   139.7      2.82    5.8  177.146  0.00     0.00  \n",
       "1     29.150   141.7      3.08    5.1  177.830  2.34     0.74  \n",
       "2     29.350   140.5      3.82    5.3  178.657  2.74     1.09  \n",
       "3     29.370   140.0      4.33    5.6  179.386  0.27     4.06  \n",
       "4     29.540   139.6      3.50    5.2  180.007  2.31     1.19  \n",
       "..       ...     ...       ...    ...      ...   ...      ...  \n",
       "198  216.889  1474.7      1.17    6.0  305.270 -3.16     4.33  \n",
       "199  212.174  1576.5      0.12    6.9  305.952 -8.79     8.91  \n",
       "200  212.671  1592.8      0.22    8.1  306.547  0.94    -0.71  \n",
       "201  214.469  1653.6      0.18    9.2  307.226  3.37    -3.19  \n",
       "202  216.385  1673.9      0.12    9.6  308.013  3.56    -3.44  \n",
       "\n",
       "[203 rows x 14 columns]"
      ]
     },
     "execution_count": 190,
     "metadata": {},
     "output_type": "execute_result"
    }
   ],
   "source": [
    "data"
   ]
  },
  {
   "cell_type": "code",
   "execution_count": 191,
   "id": "25bfa750",
   "metadata": {},
   "outputs": [
    {
     "data": {
      "text/plain": [
       "0      1959.0\n",
       "1      1959.0\n",
       "2      1959.0\n",
       "3      1959.0\n",
       "4      1960.0\n",
       "        ...  \n",
       "198    2008.0\n",
       "199    2008.0\n",
       "200    2009.0\n",
       "201    2009.0\n",
       "202    2009.0\n",
       "Name: year, Length: 203, dtype: float64"
      ]
     },
     "execution_count": 191,
     "metadata": {},
     "output_type": "execute_result"
    }
   ],
   "source": [
    "data.year"
   ]
  },
  {
   "cell_type": "code",
   "execution_count": 192,
   "id": "7f054542",
   "metadata": {},
   "outputs": [
    {
     "data": {
      "text/plain": [
       "0      1.0\n",
       "1      2.0\n",
       "2      3.0\n",
       "3      4.0\n",
       "4      1.0\n",
       "      ... \n",
       "198    3.0\n",
       "199    4.0\n",
       "200    1.0\n",
       "201    2.0\n",
       "202    3.0\n",
       "Name: quarter, Length: 203, dtype: float64"
      ]
     },
     "execution_count": 192,
     "metadata": {},
     "output_type": "execute_result"
    }
   ],
   "source": [
    "data.quarter"
   ]
  },
  {
   "cell_type": "code",
   "execution_count": 193,
   "id": "93a0178c",
   "metadata": {},
   "outputs": [],
   "source": [
    "index = pd.PeriodIndex(year=data.year, quarter=data.quarter,\n",
    "                       freq='Q-DEC')"
   ]
  },
  {
   "cell_type": "code",
   "execution_count": 194,
   "id": "87918ba2",
   "metadata": {},
   "outputs": [
    {
     "data": {
      "text/plain": [
       "PeriodIndex(['1959Q1', '1959Q2', '1959Q3', '1959Q4', '1960Q1', '1960Q2',\n",
       "             '1960Q3', '1960Q4', '1961Q1', '1961Q2',\n",
       "             ...\n",
       "             '2007Q2', '2007Q3', '2007Q4', '2008Q1', '2008Q2', '2008Q3',\n",
       "             '2008Q4', '2009Q1', '2009Q2', '2009Q3'],\n",
       "            dtype='period[Q-DEC]', length=203)"
      ]
     },
     "execution_count": 194,
     "metadata": {},
     "output_type": "execute_result"
    }
   ],
   "source": [
    "index"
   ]
  },
  {
   "cell_type": "code",
   "execution_count": 195,
   "id": "02df7000",
   "metadata": {},
   "outputs": [],
   "source": [
    "data.index = index"
   ]
  },
  {
   "cell_type": "code",
   "execution_count": 196,
   "id": "e027c0e9",
   "metadata": {},
   "outputs": [
    {
     "data": {
      "text/plain": [
       "1959Q1    0.00\n",
       "1959Q2    2.34\n",
       "1959Q3    2.74\n",
       "1959Q4    0.27\n",
       "1960Q1    2.31\n",
       "          ... \n",
       "2008Q3   -3.16\n",
       "2008Q4   -8.79\n",
       "2009Q1    0.94\n",
       "2009Q2    3.37\n",
       "2009Q3    3.56\n",
       "Freq: Q-DEC, Name: infl, Length: 203, dtype: float64"
      ]
     },
     "execution_count": 196,
     "metadata": {},
     "output_type": "execute_result"
    }
   ],
   "source": [
    "data.infl"
   ]
  },
  {
   "cell_type": "code",
   "execution_count": 197,
   "id": "28c952eb",
   "metadata": {},
   "outputs": [],
   "source": [
    "rng = pd.date_range('2000-01-01', periods=100, freq='D')"
   ]
  },
  {
   "cell_type": "code",
   "execution_count": 198,
   "id": "8db6968a",
   "metadata": {},
   "outputs": [],
   "source": [
    "ts = pd.Series(np.random.randn(len(rng)), index=rng)"
   ]
  },
  {
   "cell_type": "code",
   "execution_count": 199,
   "id": "e91c6eb5",
   "metadata": {},
   "outputs": [
    {
     "data": {
      "text/plain": [
       "2000-01-01    0.194088\n",
       "2000-01-02   -0.068049\n",
       "2000-01-03    1.111878\n",
       "2000-01-04   -1.221743\n",
       "2000-01-05   -1.064229\n",
       "                ...   \n",
       "2000-04-05    0.485201\n",
       "2000-04-06    1.267533\n",
       "2000-04-07   -1.292325\n",
       "2000-04-08    0.037880\n",
       "2000-04-09   -0.394673\n",
       "Freq: D, Length: 100, dtype: float64"
      ]
     },
     "execution_count": 199,
     "metadata": {},
     "output_type": "execute_result"
    }
   ],
   "source": [
    "ts"
   ]
  },
  {
   "cell_type": "code",
   "execution_count": 200,
   "id": "9ae28da3",
   "metadata": {},
   "outputs": [
    {
     "data": {
      "text/plain": [
       "2000-01-31    0.151080\n",
       "2000-02-29   -0.261919\n",
       "2000-03-31    0.150660\n",
       "2000-04-30    0.170765\n",
       "Freq: M, dtype: float64"
      ]
     },
     "execution_count": 200,
     "metadata": {},
     "output_type": "execute_result"
    }
   ],
   "source": [
    "ts.resample('M').mean()"
   ]
  },
  {
   "cell_type": "code",
   "execution_count": 201,
   "id": "0531abab",
   "metadata": {},
   "outputs": [
    {
     "data": {
      "text/plain": [
       "2000-01    0.151080\n",
       "2000-02   -0.261919\n",
       "2000-03    0.150660\n",
       "2000-04    0.170765\n",
       "Freq: M, dtype: float64"
      ]
     },
     "execution_count": 201,
     "metadata": {},
     "output_type": "execute_result"
    }
   ],
   "source": [
    "ts.resample('M', kind='period').mean()"
   ]
  },
  {
   "cell_type": "code",
   "execution_count": 202,
   "id": "42a1a3c3",
   "metadata": {},
   "outputs": [],
   "source": [
    "rng = pd.date_range('2000-01-01', periods=12,freq='T')"
   ]
  },
  {
   "cell_type": "code",
   "execution_count": 203,
   "id": "06109539",
   "metadata": {},
   "outputs": [],
   "source": [
    "ts = pd.Series(np.arange(12), index=rng)"
   ]
  },
  {
   "cell_type": "code",
   "execution_count": 204,
   "id": "60439f62",
   "metadata": {},
   "outputs": [
    {
     "data": {
      "text/plain": [
       "2000-01-01 00:00:00     0\n",
       "2000-01-01 00:01:00     1\n",
       "2000-01-01 00:02:00     2\n",
       "2000-01-01 00:03:00     3\n",
       "2000-01-01 00:04:00     4\n",
       "2000-01-01 00:05:00     5\n",
       "2000-01-01 00:06:00     6\n",
       "2000-01-01 00:07:00     7\n",
       "2000-01-01 00:08:00     8\n",
       "2000-01-01 00:09:00     9\n",
       "2000-01-01 00:10:00    10\n",
       "2000-01-01 00:11:00    11\n",
       "Freq: T, dtype: int32"
      ]
     },
     "execution_count": 204,
     "metadata": {},
     "output_type": "execute_result"
    }
   ],
   "source": [
    "ts"
   ]
  },
  {
   "cell_type": "code",
   "execution_count": 205,
   "id": "65949822",
   "metadata": {},
   "outputs": [
    {
     "data": {
      "text/plain": [
       "1999-12-31 23:55:00     0\n",
       "2000-01-01 00:00:00    15\n",
       "2000-01-01 00:05:00    40\n",
       "2000-01-01 00:10:00    11\n",
       "Freq: 5T, dtype: int32"
      ]
     },
     "execution_count": 205,
     "metadata": {},
     "output_type": "execute_result"
    }
   ],
   "source": [
    "ts.resample('5min', closed='right').sum()"
   ]
  },
  {
   "cell_type": "code",
   "execution_count": 206,
   "id": "e3b37c73",
   "metadata": {},
   "outputs": [
    {
     "data": {
      "text/plain": [
       "2000-01-01 00:00:00    10\n",
       "2000-01-01 00:05:00    35\n",
       "2000-01-01 00:10:00    21\n",
       "Freq: 5T, dtype: int32"
      ]
     },
     "execution_count": 206,
     "metadata": {},
     "output_type": "execute_result"
    }
   ],
   "source": [
    "ts.resample('5min', closed='left').sum()"
   ]
  },
  {
   "cell_type": "code",
   "execution_count": 207,
   "id": "85fe46f7",
   "metadata": {},
   "outputs": [
    {
     "data": {
      "text/plain": [
       "2000-01-01 00:00:00     0\n",
       "2000-01-01 00:05:00    15\n",
       "2000-01-01 00:10:00    40\n",
       "2000-01-01 00:15:00    11\n",
       "Freq: 5T, dtype: int32"
      ]
     },
     "execution_count": 207,
     "metadata": {},
     "output_type": "execute_result"
    }
   ],
   "source": [
    "ts.resample('5min', closed='right', label='right').sum()"
   ]
  },
  {
   "cell_type": "code",
   "execution_count": 208,
   "id": "93fe218f",
   "metadata": {},
   "outputs": [],
   "source": [
    "from pandas.tseries.frequencies import to_offset\n",
    "ts = ts.resample('5min', closed='right', label='right').sum()\n",
    "ts.index += to_offset('-1s')"
   ]
  },
  {
   "cell_type": "code",
   "execution_count": 209,
   "id": "24a030e4",
   "metadata": {},
   "outputs": [
    {
     "data": {
      "text/plain": [
       "1999-12-31 23:59:59     0\n",
       "2000-01-01 00:04:59    15\n",
       "2000-01-01 00:09:59    40\n",
       "2000-01-01 00:14:59    11\n",
       "Freq: 5T, dtype: int32"
      ]
     },
     "execution_count": 209,
     "metadata": {},
     "output_type": "execute_result"
    }
   ],
   "source": [
    "ts"
   ]
  },
  {
   "cell_type": "code",
   "execution_count": 210,
   "id": "c367a6ba",
   "metadata": {},
   "outputs": [
    {
     "data": {
      "text/html": [
       "<div>\n",
       "<style scoped>\n",
       "    .dataframe tbody tr th:only-of-type {\n",
       "        vertical-align: middle;\n",
       "    }\n",
       "\n",
       "    .dataframe tbody tr th {\n",
       "        vertical-align: top;\n",
       "    }\n",
       "\n",
       "    .dataframe thead th {\n",
       "        text-align: right;\n",
       "    }\n",
       "</style>\n",
       "<table border=\"1\" class=\"dataframe\">\n",
       "  <thead>\n",
       "    <tr style=\"text-align: right;\">\n",
       "      <th></th>\n",
       "      <th>open</th>\n",
       "      <th>high</th>\n",
       "      <th>low</th>\n",
       "      <th>close</th>\n",
       "    </tr>\n",
       "  </thead>\n",
       "  <tbody>\n",
       "    <tr>\n",
       "      <th>1999-12-31 23:55:00</th>\n",
       "      <td>0</td>\n",
       "      <td>0</td>\n",
       "      <td>0</td>\n",
       "      <td>0</td>\n",
       "    </tr>\n",
       "    <tr>\n",
       "      <th>2000-01-01 00:00:00</th>\n",
       "      <td>15</td>\n",
       "      <td>15</td>\n",
       "      <td>15</td>\n",
       "      <td>15</td>\n",
       "    </tr>\n",
       "    <tr>\n",
       "      <th>2000-01-01 00:05:00</th>\n",
       "      <td>40</td>\n",
       "      <td>40</td>\n",
       "      <td>40</td>\n",
       "      <td>40</td>\n",
       "    </tr>\n",
       "    <tr>\n",
       "      <th>2000-01-01 00:10:00</th>\n",
       "      <td>11</td>\n",
       "      <td>11</td>\n",
       "      <td>11</td>\n",
       "      <td>11</td>\n",
       "    </tr>\n",
       "  </tbody>\n",
       "</table>\n",
       "</div>"
      ],
      "text/plain": [
       "                     open  high  low  close\n",
       "1999-12-31 23:55:00     0     0    0      0\n",
       "2000-01-01 00:00:00    15    15   15     15\n",
       "2000-01-01 00:05:00    40    40   40     40\n",
       "2000-01-01 00:10:00    11    11   11     11"
      ]
     },
     "execution_count": 210,
     "metadata": {},
     "output_type": "execute_result"
    }
   ],
   "source": [
    "ts.resample('5min').ohlc()"
   ]
  },
  {
   "cell_type": "code",
   "execution_count": 211,
   "id": "fcc206ac",
   "metadata": {},
   "outputs": [],
   "source": [
    "frame = pd.DataFrame(np.random.randn(2, 4),\n",
    "                     index=pd.date_range('1/1/2000', periods=2,\n",
    "                                         freq='W-WED'),\n",
    "                     columns=['Colorado', 'Texas', 'New York', 'Ohio'])"
   ]
  },
  {
   "cell_type": "code",
   "execution_count": 212,
   "id": "4a65e58f",
   "metadata": {},
   "outputs": [
    {
     "data": {
      "text/html": [
       "<div>\n",
       "<style scoped>\n",
       "    .dataframe tbody tr th:only-of-type {\n",
       "        vertical-align: middle;\n",
       "    }\n",
       "\n",
       "    .dataframe tbody tr th {\n",
       "        vertical-align: top;\n",
       "    }\n",
       "\n",
       "    .dataframe thead th {\n",
       "        text-align: right;\n",
       "    }\n",
       "</style>\n",
       "<table border=\"1\" class=\"dataframe\">\n",
       "  <thead>\n",
       "    <tr style=\"text-align: right;\">\n",
       "      <th></th>\n",
       "      <th>Colorado</th>\n",
       "      <th>Texas</th>\n",
       "      <th>New York</th>\n",
       "      <th>Ohio</th>\n",
       "    </tr>\n",
       "  </thead>\n",
       "  <tbody>\n",
       "    <tr>\n",
       "      <th>2000-01-05</th>\n",
       "      <td>0.819340</td>\n",
       "      <td>1.219106</td>\n",
       "      <td>1.221987</td>\n",
       "      <td>1.302834</td>\n",
       "    </tr>\n",
       "    <tr>\n",
       "      <th>2000-01-12</th>\n",
       "      <td>0.405917</td>\n",
       "      <td>-0.911991</td>\n",
       "      <td>-1.619918</td>\n",
       "      <td>-0.638528</td>\n",
       "    </tr>\n",
       "  </tbody>\n",
       "</table>\n",
       "</div>"
      ],
      "text/plain": [
       "            Colorado     Texas  New York      Ohio\n",
       "2000-01-05  0.819340  1.219106  1.221987  1.302834\n",
       "2000-01-12  0.405917 -0.911991 -1.619918 -0.638528"
      ]
     },
     "execution_count": 212,
     "metadata": {},
     "output_type": "execute_result"
    }
   ],
   "source": [
    "frame"
   ]
  },
  {
   "cell_type": "code",
   "execution_count": 213,
   "id": "541e2c0f",
   "metadata": {},
   "outputs": [],
   "source": [
    "df_daily = frame.resample('D').asfreq()"
   ]
  },
  {
   "cell_type": "code",
   "execution_count": 214,
   "id": "e5b4edbe",
   "metadata": {},
   "outputs": [
    {
     "data": {
      "text/html": [
       "<div>\n",
       "<style scoped>\n",
       "    .dataframe tbody tr th:only-of-type {\n",
       "        vertical-align: middle;\n",
       "    }\n",
       "\n",
       "    .dataframe tbody tr th {\n",
       "        vertical-align: top;\n",
       "    }\n",
       "\n",
       "    .dataframe thead th {\n",
       "        text-align: right;\n",
       "    }\n",
       "</style>\n",
       "<table border=\"1\" class=\"dataframe\">\n",
       "  <thead>\n",
       "    <tr style=\"text-align: right;\">\n",
       "      <th></th>\n",
       "      <th>Colorado</th>\n",
       "      <th>Texas</th>\n",
       "      <th>New York</th>\n",
       "      <th>Ohio</th>\n",
       "    </tr>\n",
       "  </thead>\n",
       "  <tbody>\n",
       "    <tr>\n",
       "      <th>2000-01-05</th>\n",
       "      <td>0.819340</td>\n",
       "      <td>1.219106</td>\n",
       "      <td>1.221987</td>\n",
       "      <td>1.302834</td>\n",
       "    </tr>\n",
       "    <tr>\n",
       "      <th>2000-01-06</th>\n",
       "      <td>NaN</td>\n",
       "      <td>NaN</td>\n",
       "      <td>NaN</td>\n",
       "      <td>NaN</td>\n",
       "    </tr>\n",
       "    <tr>\n",
       "      <th>2000-01-07</th>\n",
       "      <td>NaN</td>\n",
       "      <td>NaN</td>\n",
       "      <td>NaN</td>\n",
       "      <td>NaN</td>\n",
       "    </tr>\n",
       "    <tr>\n",
       "      <th>2000-01-08</th>\n",
       "      <td>NaN</td>\n",
       "      <td>NaN</td>\n",
       "      <td>NaN</td>\n",
       "      <td>NaN</td>\n",
       "    </tr>\n",
       "    <tr>\n",
       "      <th>2000-01-09</th>\n",
       "      <td>NaN</td>\n",
       "      <td>NaN</td>\n",
       "      <td>NaN</td>\n",
       "      <td>NaN</td>\n",
       "    </tr>\n",
       "    <tr>\n",
       "      <th>2000-01-10</th>\n",
       "      <td>NaN</td>\n",
       "      <td>NaN</td>\n",
       "      <td>NaN</td>\n",
       "      <td>NaN</td>\n",
       "    </tr>\n",
       "    <tr>\n",
       "      <th>2000-01-11</th>\n",
       "      <td>NaN</td>\n",
       "      <td>NaN</td>\n",
       "      <td>NaN</td>\n",
       "      <td>NaN</td>\n",
       "    </tr>\n",
       "    <tr>\n",
       "      <th>2000-01-12</th>\n",
       "      <td>0.405917</td>\n",
       "      <td>-0.911991</td>\n",
       "      <td>-1.619918</td>\n",
       "      <td>-0.638528</td>\n",
       "    </tr>\n",
       "  </tbody>\n",
       "</table>\n",
       "</div>"
      ],
      "text/plain": [
       "            Colorado     Texas  New York      Ohio\n",
       "2000-01-05  0.819340  1.219106  1.221987  1.302834\n",
       "2000-01-06       NaN       NaN       NaN       NaN\n",
       "2000-01-07       NaN       NaN       NaN       NaN\n",
       "2000-01-08       NaN       NaN       NaN       NaN\n",
       "2000-01-09       NaN       NaN       NaN       NaN\n",
       "2000-01-10       NaN       NaN       NaN       NaN\n",
       "2000-01-11       NaN       NaN       NaN       NaN\n",
       "2000-01-12  0.405917 -0.911991 -1.619918 -0.638528"
      ]
     },
     "execution_count": 214,
     "metadata": {},
     "output_type": "execute_result"
    }
   ],
   "source": [
    "df_daily"
   ]
  },
  {
   "cell_type": "code",
   "execution_count": 215,
   "id": "f80d68a2",
   "metadata": {},
   "outputs": [
    {
     "data": {
      "text/html": [
       "<div>\n",
       "<style scoped>\n",
       "    .dataframe tbody tr th:only-of-type {\n",
       "        vertical-align: middle;\n",
       "    }\n",
       "\n",
       "    .dataframe tbody tr th {\n",
       "        vertical-align: top;\n",
       "    }\n",
       "\n",
       "    .dataframe thead th {\n",
       "        text-align: right;\n",
       "    }\n",
       "</style>\n",
       "<table border=\"1\" class=\"dataframe\">\n",
       "  <thead>\n",
       "    <tr style=\"text-align: right;\">\n",
       "      <th></th>\n",
       "      <th>Colorado</th>\n",
       "      <th>Texas</th>\n",
       "      <th>New York</th>\n",
       "      <th>Ohio</th>\n",
       "    </tr>\n",
       "  </thead>\n",
       "  <tbody>\n",
       "    <tr>\n",
       "      <th>2000-01-05</th>\n",
       "      <td>0.819340</td>\n",
       "      <td>1.219106</td>\n",
       "      <td>1.221987</td>\n",
       "      <td>1.302834</td>\n",
       "    </tr>\n",
       "    <tr>\n",
       "      <th>2000-01-06</th>\n",
       "      <td>0.819340</td>\n",
       "      <td>1.219106</td>\n",
       "      <td>1.221987</td>\n",
       "      <td>1.302834</td>\n",
       "    </tr>\n",
       "    <tr>\n",
       "      <th>2000-01-07</th>\n",
       "      <td>0.819340</td>\n",
       "      <td>1.219106</td>\n",
       "      <td>1.221987</td>\n",
       "      <td>1.302834</td>\n",
       "    </tr>\n",
       "    <tr>\n",
       "      <th>2000-01-08</th>\n",
       "      <td>0.819340</td>\n",
       "      <td>1.219106</td>\n",
       "      <td>1.221987</td>\n",
       "      <td>1.302834</td>\n",
       "    </tr>\n",
       "    <tr>\n",
       "      <th>2000-01-09</th>\n",
       "      <td>0.819340</td>\n",
       "      <td>1.219106</td>\n",
       "      <td>1.221987</td>\n",
       "      <td>1.302834</td>\n",
       "    </tr>\n",
       "    <tr>\n",
       "      <th>2000-01-10</th>\n",
       "      <td>0.819340</td>\n",
       "      <td>1.219106</td>\n",
       "      <td>1.221987</td>\n",
       "      <td>1.302834</td>\n",
       "    </tr>\n",
       "    <tr>\n",
       "      <th>2000-01-11</th>\n",
       "      <td>0.819340</td>\n",
       "      <td>1.219106</td>\n",
       "      <td>1.221987</td>\n",
       "      <td>1.302834</td>\n",
       "    </tr>\n",
       "    <tr>\n",
       "      <th>2000-01-12</th>\n",
       "      <td>0.405917</td>\n",
       "      <td>-0.911991</td>\n",
       "      <td>-1.619918</td>\n",
       "      <td>-0.638528</td>\n",
       "    </tr>\n",
       "  </tbody>\n",
       "</table>\n",
       "</div>"
      ],
      "text/plain": [
       "            Colorado     Texas  New York      Ohio\n",
       "2000-01-05  0.819340  1.219106  1.221987  1.302834\n",
       "2000-01-06  0.819340  1.219106  1.221987  1.302834\n",
       "2000-01-07  0.819340  1.219106  1.221987  1.302834\n",
       "2000-01-08  0.819340  1.219106  1.221987  1.302834\n",
       "2000-01-09  0.819340  1.219106  1.221987  1.302834\n",
       "2000-01-10  0.819340  1.219106  1.221987  1.302834\n",
       "2000-01-11  0.819340  1.219106  1.221987  1.302834\n",
       "2000-01-12  0.405917 -0.911991 -1.619918 -0.638528"
      ]
     },
     "execution_count": 215,
     "metadata": {},
     "output_type": "execute_result"
    }
   ],
   "source": [
    "frame.resample('D').ffill()"
   ]
  },
  {
   "cell_type": "code",
   "execution_count": 216,
   "id": "bdb87bab",
   "metadata": {},
   "outputs": [
    {
     "data": {
      "text/html": [
       "<div>\n",
       "<style scoped>\n",
       "    .dataframe tbody tr th:only-of-type {\n",
       "        vertical-align: middle;\n",
       "    }\n",
       "\n",
       "    .dataframe tbody tr th {\n",
       "        vertical-align: top;\n",
       "    }\n",
       "\n",
       "    .dataframe thead th {\n",
       "        text-align: right;\n",
       "    }\n",
       "</style>\n",
       "<table border=\"1\" class=\"dataframe\">\n",
       "  <thead>\n",
       "    <tr style=\"text-align: right;\">\n",
       "      <th></th>\n",
       "      <th>Colorado</th>\n",
       "      <th>Texas</th>\n",
       "      <th>New York</th>\n",
       "      <th>Ohio</th>\n",
       "    </tr>\n",
       "  </thead>\n",
       "  <tbody>\n",
       "    <tr>\n",
       "      <th>2000-01-05</th>\n",
       "      <td>0.819340</td>\n",
       "      <td>1.219106</td>\n",
       "      <td>1.221987</td>\n",
       "      <td>1.302834</td>\n",
       "    </tr>\n",
       "    <tr>\n",
       "      <th>2000-01-06</th>\n",
       "      <td>0.819340</td>\n",
       "      <td>1.219106</td>\n",
       "      <td>1.221987</td>\n",
       "      <td>1.302834</td>\n",
       "    </tr>\n",
       "    <tr>\n",
       "      <th>2000-01-07</th>\n",
       "      <td>0.819340</td>\n",
       "      <td>1.219106</td>\n",
       "      <td>1.221987</td>\n",
       "      <td>1.302834</td>\n",
       "    </tr>\n",
       "    <tr>\n",
       "      <th>2000-01-08</th>\n",
       "      <td>NaN</td>\n",
       "      <td>NaN</td>\n",
       "      <td>NaN</td>\n",
       "      <td>NaN</td>\n",
       "    </tr>\n",
       "    <tr>\n",
       "      <th>2000-01-09</th>\n",
       "      <td>NaN</td>\n",
       "      <td>NaN</td>\n",
       "      <td>NaN</td>\n",
       "      <td>NaN</td>\n",
       "    </tr>\n",
       "    <tr>\n",
       "      <th>2000-01-10</th>\n",
       "      <td>NaN</td>\n",
       "      <td>NaN</td>\n",
       "      <td>NaN</td>\n",
       "      <td>NaN</td>\n",
       "    </tr>\n",
       "    <tr>\n",
       "      <th>2000-01-11</th>\n",
       "      <td>NaN</td>\n",
       "      <td>NaN</td>\n",
       "      <td>NaN</td>\n",
       "      <td>NaN</td>\n",
       "    </tr>\n",
       "    <tr>\n",
       "      <th>2000-01-12</th>\n",
       "      <td>0.405917</td>\n",
       "      <td>-0.911991</td>\n",
       "      <td>-1.619918</td>\n",
       "      <td>-0.638528</td>\n",
       "    </tr>\n",
       "  </tbody>\n",
       "</table>\n",
       "</div>"
      ],
      "text/plain": [
       "            Colorado     Texas  New York      Ohio\n",
       "2000-01-05  0.819340  1.219106  1.221987  1.302834\n",
       "2000-01-06  0.819340  1.219106  1.221987  1.302834\n",
       "2000-01-07  0.819340  1.219106  1.221987  1.302834\n",
       "2000-01-08       NaN       NaN       NaN       NaN\n",
       "2000-01-09       NaN       NaN       NaN       NaN\n",
       "2000-01-10       NaN       NaN       NaN       NaN\n",
       "2000-01-11       NaN       NaN       NaN       NaN\n",
       "2000-01-12  0.405917 -0.911991 -1.619918 -0.638528"
      ]
     },
     "execution_count": 216,
     "metadata": {},
     "output_type": "execute_result"
    }
   ],
   "source": [
    "frame.resample('D').ffill(limit=2)"
   ]
  },
  {
   "cell_type": "code",
   "execution_count": 217,
   "id": "44520484",
   "metadata": {},
   "outputs": [
    {
     "data": {
      "text/html": [
       "<div>\n",
       "<style scoped>\n",
       "    .dataframe tbody tr th:only-of-type {\n",
       "        vertical-align: middle;\n",
       "    }\n",
       "\n",
       "    .dataframe tbody tr th {\n",
       "        vertical-align: top;\n",
       "    }\n",
       "\n",
       "    .dataframe thead th {\n",
       "        text-align: right;\n",
       "    }\n",
       "</style>\n",
       "<table border=\"1\" class=\"dataframe\">\n",
       "  <thead>\n",
       "    <tr style=\"text-align: right;\">\n",
       "      <th></th>\n",
       "      <th>Colorado</th>\n",
       "      <th>Texas</th>\n",
       "      <th>New York</th>\n",
       "      <th>Ohio</th>\n",
       "    </tr>\n",
       "  </thead>\n",
       "  <tbody>\n",
       "    <tr>\n",
       "      <th>2000-01-06</th>\n",
       "      <td>0.819340</td>\n",
       "      <td>1.219106</td>\n",
       "      <td>1.221987</td>\n",
       "      <td>1.302834</td>\n",
       "    </tr>\n",
       "    <tr>\n",
       "      <th>2000-01-13</th>\n",
       "      <td>0.405917</td>\n",
       "      <td>-0.911991</td>\n",
       "      <td>-1.619918</td>\n",
       "      <td>-0.638528</td>\n",
       "    </tr>\n",
       "  </tbody>\n",
       "</table>\n",
       "</div>"
      ],
      "text/plain": [
       "            Colorado     Texas  New York      Ohio\n",
       "2000-01-06  0.819340  1.219106  1.221987  1.302834\n",
       "2000-01-13  0.405917 -0.911991 -1.619918 -0.638528"
      ]
     },
     "execution_count": 217,
     "metadata": {},
     "output_type": "execute_result"
    }
   ],
   "source": [
    "frame.resample('W-THU').ffill()"
   ]
  },
  {
   "cell_type": "code",
   "execution_count": 218,
   "id": "a5774769",
   "metadata": {},
   "outputs": [],
   "source": [
    "frame = pd.DataFrame(np.random.randn(24, 4),\n",
    "                     index=pd.period_range('1-2000', '12-2001',\n",
    "                                           freq='M'),\n",
    "                     columns=['Colorado', 'Texas', 'New York', 'Ohio'])"
   ]
  },
  {
   "cell_type": "code",
   "execution_count": 219,
   "id": "c3e0d584",
   "metadata": {},
   "outputs": [
    {
     "data": {
      "text/html": [
       "<div>\n",
       "<style scoped>\n",
       "    .dataframe tbody tr th:only-of-type {\n",
       "        vertical-align: middle;\n",
       "    }\n",
       "\n",
       "    .dataframe tbody tr th {\n",
       "        vertical-align: top;\n",
       "    }\n",
       "\n",
       "    .dataframe thead th {\n",
       "        text-align: right;\n",
       "    }\n",
       "</style>\n",
       "<table border=\"1\" class=\"dataframe\">\n",
       "  <thead>\n",
       "    <tr style=\"text-align: right;\">\n",
       "      <th></th>\n",
       "      <th>Colorado</th>\n",
       "      <th>Texas</th>\n",
       "      <th>New York</th>\n",
       "      <th>Ohio</th>\n",
       "    </tr>\n",
       "  </thead>\n",
       "  <tbody>\n",
       "    <tr>\n",
       "      <th>2000-01</th>\n",
       "      <td>1.127581</td>\n",
       "      <td>1.361986</td>\n",
       "      <td>-0.808233</td>\n",
       "      <td>-0.588521</td>\n",
       "    </tr>\n",
       "    <tr>\n",
       "      <th>2000-02</th>\n",
       "      <td>0.489894</td>\n",
       "      <td>0.732548</td>\n",
       "      <td>-1.038316</td>\n",
       "      <td>2.287207</td>\n",
       "    </tr>\n",
       "    <tr>\n",
       "      <th>2000-03</th>\n",
       "      <td>-0.569739</td>\n",
       "      <td>-0.501960</td>\n",
       "      <td>-0.438432</td>\n",
       "      <td>-0.217285</td>\n",
       "    </tr>\n",
       "    <tr>\n",
       "      <th>2000-04</th>\n",
       "      <td>-1.138541</td>\n",
       "      <td>0.499962</td>\n",
       "      <td>-0.817449</td>\n",
       "      <td>0.061238</td>\n",
       "    </tr>\n",
       "    <tr>\n",
       "      <th>2000-05</th>\n",
       "      <td>-2.846556</td>\n",
       "      <td>0.107132</td>\n",
       "      <td>-0.294704</td>\n",
       "      <td>0.294090</td>\n",
       "    </tr>\n",
       "  </tbody>\n",
       "</table>\n",
       "</div>"
      ],
      "text/plain": [
       "         Colorado     Texas  New York      Ohio\n",
       "2000-01  1.127581  1.361986 -0.808233 -0.588521\n",
       "2000-02  0.489894  0.732548 -1.038316  2.287207\n",
       "2000-03 -0.569739 -0.501960 -0.438432 -0.217285\n",
       "2000-04 -1.138541  0.499962 -0.817449  0.061238\n",
       "2000-05 -2.846556  0.107132 -0.294704  0.294090"
      ]
     },
     "execution_count": 219,
     "metadata": {},
     "output_type": "execute_result"
    }
   ],
   "source": [
    "frame[:5]"
   ]
  },
  {
   "cell_type": "code",
   "execution_count": 220,
   "id": "fd1dd825",
   "metadata": {},
   "outputs": [],
   "source": [
    "annual_frame = frame.resample('A-DEC').mean()"
   ]
  },
  {
   "cell_type": "code",
   "execution_count": 221,
   "id": "0305a05a",
   "metadata": {},
   "outputs": [
    {
     "data": {
      "text/html": [
       "<div>\n",
       "<style scoped>\n",
       "    .dataframe tbody tr th:only-of-type {\n",
       "        vertical-align: middle;\n",
       "    }\n",
       "\n",
       "    .dataframe tbody tr th {\n",
       "        vertical-align: top;\n",
       "    }\n",
       "\n",
       "    .dataframe thead th {\n",
       "        text-align: right;\n",
       "    }\n",
       "</style>\n",
       "<table border=\"1\" class=\"dataframe\">\n",
       "  <thead>\n",
       "    <tr style=\"text-align: right;\">\n",
       "      <th></th>\n",
       "      <th>Colorado</th>\n",
       "      <th>Texas</th>\n",
       "      <th>New York</th>\n",
       "      <th>Ohio</th>\n",
       "    </tr>\n",
       "  </thead>\n",
       "  <tbody>\n",
       "    <tr>\n",
       "      <th>2000</th>\n",
       "      <td>-0.091705</td>\n",
       "      <td>0.014616</td>\n",
       "      <td>-0.247348</td>\n",
       "      <td>0.577293</td>\n",
       "    </tr>\n",
       "    <tr>\n",
       "      <th>2001</th>\n",
       "      <td>-0.272322</td>\n",
       "      <td>0.055646</td>\n",
       "      <td>0.531626</td>\n",
       "      <td>-0.065970</td>\n",
       "    </tr>\n",
       "  </tbody>\n",
       "</table>\n",
       "</div>"
      ],
      "text/plain": [
       "      Colorado     Texas  New York      Ohio\n",
       "2000 -0.091705  0.014616 -0.247348  0.577293\n",
       "2001 -0.272322  0.055646  0.531626 -0.065970"
      ]
     },
     "execution_count": 221,
     "metadata": {},
     "output_type": "execute_result"
    }
   ],
   "source": [
    "annual_frame"
   ]
  },
  {
   "cell_type": "code",
   "execution_count": 222,
   "id": "ad02f376",
   "metadata": {},
   "outputs": [
    {
     "data": {
      "text/html": [
       "<div>\n",
       "<style scoped>\n",
       "    .dataframe tbody tr th:only-of-type {\n",
       "        vertical-align: middle;\n",
       "    }\n",
       "\n",
       "    .dataframe tbody tr th {\n",
       "        vertical-align: top;\n",
       "    }\n",
       "\n",
       "    .dataframe thead th {\n",
       "        text-align: right;\n",
       "    }\n",
       "</style>\n",
       "<table border=\"1\" class=\"dataframe\">\n",
       "  <thead>\n",
       "    <tr style=\"text-align: right;\">\n",
       "      <th></th>\n",
       "      <th>Colorado</th>\n",
       "      <th>Texas</th>\n",
       "      <th>New York</th>\n",
       "      <th>Ohio</th>\n",
       "    </tr>\n",
       "  </thead>\n",
       "  <tbody>\n",
       "    <tr>\n",
       "      <th>2000Q1</th>\n",
       "      <td>-0.091705</td>\n",
       "      <td>0.014616</td>\n",
       "      <td>-0.247348</td>\n",
       "      <td>0.577293</td>\n",
       "    </tr>\n",
       "    <tr>\n",
       "      <th>2000Q2</th>\n",
       "      <td>-0.091705</td>\n",
       "      <td>0.014616</td>\n",
       "      <td>-0.247348</td>\n",
       "      <td>0.577293</td>\n",
       "    </tr>\n",
       "    <tr>\n",
       "      <th>2000Q3</th>\n",
       "      <td>-0.091705</td>\n",
       "      <td>0.014616</td>\n",
       "      <td>-0.247348</td>\n",
       "      <td>0.577293</td>\n",
       "    </tr>\n",
       "    <tr>\n",
       "      <th>2000Q4</th>\n",
       "      <td>-0.091705</td>\n",
       "      <td>0.014616</td>\n",
       "      <td>-0.247348</td>\n",
       "      <td>0.577293</td>\n",
       "    </tr>\n",
       "    <tr>\n",
       "      <th>2001Q1</th>\n",
       "      <td>-0.272322</td>\n",
       "      <td>0.055646</td>\n",
       "      <td>0.531626</td>\n",
       "      <td>-0.065970</td>\n",
       "    </tr>\n",
       "    <tr>\n",
       "      <th>2001Q2</th>\n",
       "      <td>-0.272322</td>\n",
       "      <td>0.055646</td>\n",
       "      <td>0.531626</td>\n",
       "      <td>-0.065970</td>\n",
       "    </tr>\n",
       "    <tr>\n",
       "      <th>2001Q3</th>\n",
       "      <td>-0.272322</td>\n",
       "      <td>0.055646</td>\n",
       "      <td>0.531626</td>\n",
       "      <td>-0.065970</td>\n",
       "    </tr>\n",
       "    <tr>\n",
       "      <th>2001Q4</th>\n",
       "      <td>-0.272322</td>\n",
       "      <td>0.055646</td>\n",
       "      <td>0.531626</td>\n",
       "      <td>-0.065970</td>\n",
       "    </tr>\n",
       "  </tbody>\n",
       "</table>\n",
       "</div>"
      ],
      "text/plain": [
       "        Colorado     Texas  New York      Ohio\n",
       "2000Q1 -0.091705  0.014616 -0.247348  0.577293\n",
       "2000Q2 -0.091705  0.014616 -0.247348  0.577293\n",
       "2000Q3 -0.091705  0.014616 -0.247348  0.577293\n",
       "2000Q4 -0.091705  0.014616 -0.247348  0.577293\n",
       "2001Q1 -0.272322  0.055646  0.531626 -0.065970\n",
       "2001Q2 -0.272322  0.055646  0.531626 -0.065970\n",
       "2001Q3 -0.272322  0.055646  0.531626 -0.065970\n",
       "2001Q4 -0.272322  0.055646  0.531626 -0.065970"
      ]
     },
     "execution_count": 222,
     "metadata": {},
     "output_type": "execute_result"
    }
   ],
   "source": [
    "annual_frame.resample('Q-DEC').ffill()"
   ]
  },
  {
   "cell_type": "code",
   "execution_count": 223,
   "id": "74648baa",
   "metadata": {},
   "outputs": [
    {
     "data": {
      "text/html": [
       "<div>\n",
       "<style scoped>\n",
       "    .dataframe tbody tr th:only-of-type {\n",
       "        vertical-align: middle;\n",
       "    }\n",
       "\n",
       "    .dataframe tbody tr th {\n",
       "        vertical-align: top;\n",
       "    }\n",
       "\n",
       "    .dataframe thead th {\n",
       "        text-align: right;\n",
       "    }\n",
       "</style>\n",
       "<table border=\"1\" class=\"dataframe\">\n",
       "  <thead>\n",
       "    <tr style=\"text-align: right;\">\n",
       "      <th></th>\n",
       "      <th>Colorado</th>\n",
       "      <th>Texas</th>\n",
       "      <th>New York</th>\n",
       "      <th>Ohio</th>\n",
       "    </tr>\n",
       "  </thead>\n",
       "  <tbody>\n",
       "    <tr>\n",
       "      <th>2000Q4</th>\n",
       "      <td>-0.091705</td>\n",
       "      <td>0.014616</td>\n",
       "      <td>-0.247348</td>\n",
       "      <td>0.577293</td>\n",
       "    </tr>\n",
       "    <tr>\n",
       "      <th>2001Q1</th>\n",
       "      <td>-0.091705</td>\n",
       "      <td>0.014616</td>\n",
       "      <td>-0.247348</td>\n",
       "      <td>0.577293</td>\n",
       "    </tr>\n",
       "    <tr>\n",
       "      <th>2001Q2</th>\n",
       "      <td>-0.091705</td>\n",
       "      <td>0.014616</td>\n",
       "      <td>-0.247348</td>\n",
       "      <td>0.577293</td>\n",
       "    </tr>\n",
       "    <tr>\n",
       "      <th>2001Q3</th>\n",
       "      <td>-0.091705</td>\n",
       "      <td>0.014616</td>\n",
       "      <td>-0.247348</td>\n",
       "      <td>0.577293</td>\n",
       "    </tr>\n",
       "    <tr>\n",
       "      <th>2001Q4</th>\n",
       "      <td>-0.272322</td>\n",
       "      <td>0.055646</td>\n",
       "      <td>0.531626</td>\n",
       "      <td>-0.065970</td>\n",
       "    </tr>\n",
       "  </tbody>\n",
       "</table>\n",
       "</div>"
      ],
      "text/plain": [
       "        Colorado     Texas  New York      Ohio\n",
       "2000Q4 -0.091705  0.014616 -0.247348  0.577293\n",
       "2001Q1 -0.091705  0.014616 -0.247348  0.577293\n",
       "2001Q2 -0.091705  0.014616 -0.247348  0.577293\n",
       "2001Q3 -0.091705  0.014616 -0.247348  0.577293\n",
       "2001Q4 -0.272322  0.055646  0.531626 -0.065970"
      ]
     },
     "execution_count": 223,
     "metadata": {},
     "output_type": "execute_result"
    }
   ],
   "source": [
    "annual_frame.resample('Q-DEC', convention='end').ffill()"
   ]
  },
  {
   "cell_type": "code",
   "execution_count": 224,
   "id": "458757b3",
   "metadata": {},
   "outputs": [
    {
     "data": {
      "text/html": [
       "<div>\n",
       "<style scoped>\n",
       "    .dataframe tbody tr th:only-of-type {\n",
       "        vertical-align: middle;\n",
       "    }\n",
       "\n",
       "    .dataframe tbody tr th {\n",
       "        vertical-align: top;\n",
       "    }\n",
       "\n",
       "    .dataframe thead th {\n",
       "        text-align: right;\n",
       "    }\n",
       "</style>\n",
       "<table border=\"1\" class=\"dataframe\">\n",
       "  <thead>\n",
       "    <tr style=\"text-align: right;\">\n",
       "      <th></th>\n",
       "      <th>Colorado</th>\n",
       "      <th>Texas</th>\n",
       "      <th>New York</th>\n",
       "      <th>Ohio</th>\n",
       "    </tr>\n",
       "  </thead>\n",
       "  <tbody>\n",
       "    <tr>\n",
       "      <th>2000Q4</th>\n",
       "      <td>-0.091705</td>\n",
       "      <td>0.014616</td>\n",
       "      <td>-0.247348</td>\n",
       "      <td>0.577293</td>\n",
       "    </tr>\n",
       "    <tr>\n",
       "      <th>2001Q1</th>\n",
       "      <td>-0.091705</td>\n",
       "      <td>0.014616</td>\n",
       "      <td>-0.247348</td>\n",
       "      <td>0.577293</td>\n",
       "    </tr>\n",
       "    <tr>\n",
       "      <th>2001Q2</th>\n",
       "      <td>-0.091705</td>\n",
       "      <td>0.014616</td>\n",
       "      <td>-0.247348</td>\n",
       "      <td>0.577293</td>\n",
       "    </tr>\n",
       "    <tr>\n",
       "      <th>2001Q3</th>\n",
       "      <td>-0.091705</td>\n",
       "      <td>0.014616</td>\n",
       "      <td>-0.247348</td>\n",
       "      <td>0.577293</td>\n",
       "    </tr>\n",
       "    <tr>\n",
       "      <th>2001Q4</th>\n",
       "      <td>-0.272322</td>\n",
       "      <td>0.055646</td>\n",
       "      <td>0.531626</td>\n",
       "      <td>-0.065970</td>\n",
       "    </tr>\n",
       "    <tr>\n",
       "      <th>2002Q1</th>\n",
       "      <td>-0.272322</td>\n",
       "      <td>0.055646</td>\n",
       "      <td>0.531626</td>\n",
       "      <td>-0.065970</td>\n",
       "    </tr>\n",
       "    <tr>\n",
       "      <th>2002Q2</th>\n",
       "      <td>-0.272322</td>\n",
       "      <td>0.055646</td>\n",
       "      <td>0.531626</td>\n",
       "      <td>-0.065970</td>\n",
       "    </tr>\n",
       "    <tr>\n",
       "      <th>2002Q3</th>\n",
       "      <td>-0.272322</td>\n",
       "      <td>0.055646</td>\n",
       "      <td>0.531626</td>\n",
       "      <td>-0.065970</td>\n",
       "    </tr>\n",
       "  </tbody>\n",
       "</table>\n",
       "</div>"
      ],
      "text/plain": [
       "        Colorado     Texas  New York      Ohio\n",
       "2000Q4 -0.091705  0.014616 -0.247348  0.577293\n",
       "2001Q1 -0.091705  0.014616 -0.247348  0.577293\n",
       "2001Q2 -0.091705  0.014616 -0.247348  0.577293\n",
       "2001Q3 -0.091705  0.014616 -0.247348  0.577293\n",
       "2001Q4 -0.272322  0.055646  0.531626 -0.065970\n",
       "2002Q1 -0.272322  0.055646  0.531626 -0.065970\n",
       "2002Q2 -0.272322  0.055646  0.531626 -0.065970\n",
       "2002Q3 -0.272322  0.055646  0.531626 -0.065970"
      ]
     },
     "execution_count": 224,
     "metadata": {},
     "output_type": "execute_result"
    }
   ],
   "source": [
    "annual_frame.resample('Q-MAR').ffill()"
   ]
  },
  {
   "cell_type": "code",
   "execution_count": 225,
   "id": "b01a2c91",
   "metadata": {},
   "outputs": [],
   "source": [
    "close_px_all = pd.read_csv('examples/stock_px_2.csv',\n",
    "                           parse_dates=True, index_col=0)"
   ]
  },
  {
   "cell_type": "code",
   "execution_count": 226,
   "id": "848775cb",
   "metadata": {},
   "outputs": [],
   "source": [
    "close_px = close_px_all[['AAPL', 'MSFT', 'XOM']]"
   ]
  },
  {
   "cell_type": "code",
   "execution_count": 227,
   "id": "41812b02",
   "metadata": {},
   "outputs": [],
   "source": [
    "close_px = close_px.resample('B').ffill()"
   ]
  },
  {
   "cell_type": "code",
   "execution_count": 228,
   "id": "064ac619",
   "metadata": {},
   "outputs": [],
   "source": [
    "import matplotlib.pyplot as plt\n",
    "import addcopyfighandler "
   ]
  },
  {
   "cell_type": "code",
   "execution_count": 268,
   "id": "37821a58",
   "metadata": {},
   "outputs": [],
   "source": [
    "%matplotlib notebook"
   ]
  },
  {
   "cell_type": "code",
   "execution_count": 272,
   "id": "61cb8cc6",
   "metadata": {
    "scrolled": true
   },
   "outputs": [
    {
     "data": {
      "application/javascript": [
       "/* Put everything inside the global mpl namespace */\n",
       "/* global mpl */\n",
       "window.mpl = {};\n",
       "\n",
       "mpl.get_websocket_type = function () {\n",
       "    if (typeof WebSocket !== 'undefined') {\n",
       "        return WebSocket;\n",
       "    } else if (typeof MozWebSocket !== 'undefined') {\n",
       "        return MozWebSocket;\n",
       "    } else {\n",
       "        alert(\n",
       "            'Your browser does not have WebSocket support. ' +\n",
       "                'Please try Chrome, Safari or Firefox ≥ 6. ' +\n",
       "                'Firefox 4 and 5 are also supported but you ' +\n",
       "                'have to enable WebSockets in about:config.'\n",
       "        );\n",
       "    }\n",
       "};\n",
       "\n",
       "mpl.figure = function (figure_id, websocket, ondownload, parent_element) {\n",
       "    this.id = figure_id;\n",
       "\n",
       "    this.ws = websocket;\n",
       "\n",
       "    this.supports_binary = this.ws.binaryType !== undefined;\n",
       "\n",
       "    if (!this.supports_binary) {\n",
       "        var warnings = document.getElementById('mpl-warnings');\n",
       "        if (warnings) {\n",
       "            warnings.style.display = 'block';\n",
       "            warnings.textContent =\n",
       "                'This browser does not support binary websocket messages. ' +\n",
       "                'Performance may be slow.';\n",
       "        }\n",
       "    }\n",
       "\n",
       "    this.imageObj = new Image();\n",
       "\n",
       "    this.context = undefined;\n",
       "    this.message = undefined;\n",
       "    this.canvas = undefined;\n",
       "    this.rubberband_canvas = undefined;\n",
       "    this.rubberband_context = undefined;\n",
       "    this.format_dropdown = undefined;\n",
       "\n",
       "    this.image_mode = 'full';\n",
       "\n",
       "    this.root = document.createElement('div');\n",
       "    this.root.setAttribute('style', 'display: inline-block');\n",
       "    this._root_extra_style(this.root);\n",
       "\n",
       "    parent_element.appendChild(this.root);\n",
       "\n",
       "    this._init_header(this);\n",
       "    this._init_canvas(this);\n",
       "    this._init_toolbar(this);\n",
       "\n",
       "    var fig = this;\n",
       "\n",
       "    this.waiting = false;\n",
       "\n",
       "    this.ws.onopen = function () {\n",
       "        fig.send_message('supports_binary', { value: fig.supports_binary });\n",
       "        fig.send_message('send_image_mode', {});\n",
       "        if (fig.ratio !== 1) {\n",
       "            fig.send_message('set_device_pixel_ratio', {\n",
       "                device_pixel_ratio: fig.ratio,\n",
       "            });\n",
       "        }\n",
       "        fig.send_message('refresh', {});\n",
       "    };\n",
       "\n",
       "    this.imageObj.onload = function () {\n",
       "        if (fig.image_mode === 'full') {\n",
       "            // Full images could contain transparency (where diff images\n",
       "            // almost always do), so we need to clear the canvas so that\n",
       "            // there is no ghosting.\n",
       "            fig.context.clearRect(0, 0, fig.canvas.width, fig.canvas.height);\n",
       "        }\n",
       "        fig.context.drawImage(fig.imageObj, 0, 0);\n",
       "    };\n",
       "\n",
       "    this.imageObj.onunload = function () {\n",
       "        fig.ws.close();\n",
       "    };\n",
       "\n",
       "    this.ws.onmessage = this._make_on_message_function(this);\n",
       "\n",
       "    this.ondownload = ondownload;\n",
       "};\n",
       "\n",
       "mpl.figure.prototype._init_header = function () {\n",
       "    var titlebar = document.createElement('div');\n",
       "    titlebar.classList =\n",
       "        'ui-dialog-titlebar ui-widget-header ui-corner-all ui-helper-clearfix';\n",
       "    var titletext = document.createElement('div');\n",
       "    titletext.classList = 'ui-dialog-title';\n",
       "    titletext.setAttribute(\n",
       "        'style',\n",
       "        'width: 100%; text-align: center; padding: 3px;'\n",
       "    );\n",
       "    titlebar.appendChild(titletext);\n",
       "    this.root.appendChild(titlebar);\n",
       "    this.header = titletext;\n",
       "};\n",
       "\n",
       "mpl.figure.prototype._canvas_extra_style = function (_canvas_div) {};\n",
       "\n",
       "mpl.figure.prototype._root_extra_style = function (_canvas_div) {};\n",
       "\n",
       "mpl.figure.prototype._init_canvas = function () {\n",
       "    var fig = this;\n",
       "\n",
       "    var canvas_div = (this.canvas_div = document.createElement('div'));\n",
       "    canvas_div.setAttribute(\n",
       "        'style',\n",
       "        'border: 1px solid #ddd;' +\n",
       "            'box-sizing: content-box;' +\n",
       "            'clear: both;' +\n",
       "            'min-height: 1px;' +\n",
       "            'min-width: 1px;' +\n",
       "            'outline: 0;' +\n",
       "            'overflow: hidden;' +\n",
       "            'position: relative;' +\n",
       "            'resize: both;'\n",
       "    );\n",
       "\n",
       "    function on_keyboard_event_closure(name) {\n",
       "        return function (event) {\n",
       "            return fig.key_event(event, name);\n",
       "        };\n",
       "    }\n",
       "\n",
       "    canvas_div.addEventListener(\n",
       "        'keydown',\n",
       "        on_keyboard_event_closure('key_press')\n",
       "    );\n",
       "    canvas_div.addEventListener(\n",
       "        'keyup',\n",
       "        on_keyboard_event_closure('key_release')\n",
       "    );\n",
       "\n",
       "    this._canvas_extra_style(canvas_div);\n",
       "    this.root.appendChild(canvas_div);\n",
       "\n",
       "    var canvas = (this.canvas = document.createElement('canvas'));\n",
       "    canvas.classList.add('mpl-canvas');\n",
       "    canvas.setAttribute('style', 'box-sizing: content-box;');\n",
       "\n",
       "    this.context = canvas.getContext('2d');\n",
       "\n",
       "    var backingStore =\n",
       "        this.context.backingStorePixelRatio ||\n",
       "        this.context.webkitBackingStorePixelRatio ||\n",
       "        this.context.mozBackingStorePixelRatio ||\n",
       "        this.context.msBackingStorePixelRatio ||\n",
       "        this.context.oBackingStorePixelRatio ||\n",
       "        this.context.backingStorePixelRatio ||\n",
       "        1;\n",
       "\n",
       "    this.ratio = (window.devicePixelRatio || 1) / backingStore;\n",
       "\n",
       "    var rubberband_canvas = (this.rubberband_canvas = document.createElement(\n",
       "        'canvas'\n",
       "    ));\n",
       "    rubberband_canvas.setAttribute(\n",
       "        'style',\n",
       "        'box-sizing: content-box; position: absolute; left: 0; top: 0; z-index: 1;'\n",
       "    );\n",
       "\n",
       "    // Apply a ponyfill if ResizeObserver is not implemented by browser.\n",
       "    if (this.ResizeObserver === undefined) {\n",
       "        if (window.ResizeObserver !== undefined) {\n",
       "            this.ResizeObserver = window.ResizeObserver;\n",
       "        } else {\n",
       "            var obs = _JSXTOOLS_RESIZE_OBSERVER({});\n",
       "            this.ResizeObserver = obs.ResizeObserver;\n",
       "        }\n",
       "    }\n",
       "\n",
       "    this.resizeObserverInstance = new this.ResizeObserver(function (entries) {\n",
       "        var nentries = entries.length;\n",
       "        for (var i = 0; i < nentries; i++) {\n",
       "            var entry = entries[i];\n",
       "            var width, height;\n",
       "            if (entry.contentBoxSize) {\n",
       "                if (entry.contentBoxSize instanceof Array) {\n",
       "                    // Chrome 84 implements new version of spec.\n",
       "                    width = entry.contentBoxSize[0].inlineSize;\n",
       "                    height = entry.contentBoxSize[0].blockSize;\n",
       "                } else {\n",
       "                    // Firefox implements old version of spec.\n",
       "                    width = entry.contentBoxSize.inlineSize;\n",
       "                    height = entry.contentBoxSize.blockSize;\n",
       "                }\n",
       "            } else {\n",
       "                // Chrome <84 implements even older version of spec.\n",
       "                width = entry.contentRect.width;\n",
       "                height = entry.contentRect.height;\n",
       "            }\n",
       "\n",
       "            // Keep the size of the canvas and rubber band canvas in sync with\n",
       "            // the canvas container.\n",
       "            if (entry.devicePixelContentBoxSize) {\n",
       "                // Chrome 84 implements new version of spec.\n",
       "                canvas.setAttribute(\n",
       "                    'width',\n",
       "                    entry.devicePixelContentBoxSize[0].inlineSize\n",
       "                );\n",
       "                canvas.setAttribute(\n",
       "                    'height',\n",
       "                    entry.devicePixelContentBoxSize[0].blockSize\n",
       "                );\n",
       "            } else {\n",
       "                canvas.setAttribute('width', width * fig.ratio);\n",
       "                canvas.setAttribute('height', height * fig.ratio);\n",
       "            }\n",
       "            canvas.setAttribute(\n",
       "                'style',\n",
       "                'width: ' + width + 'px; height: ' + height + 'px;'\n",
       "            );\n",
       "\n",
       "            rubberband_canvas.setAttribute('width', width);\n",
       "            rubberband_canvas.setAttribute('height', height);\n",
       "\n",
       "            // And update the size in Python. We ignore the initial 0/0 size\n",
       "            // that occurs as the element is placed into the DOM, which should\n",
       "            // otherwise not happen due to the minimum size styling.\n",
       "            if (fig.ws.readyState == 1 && width != 0 && height != 0) {\n",
       "                fig.request_resize(width, height);\n",
       "            }\n",
       "        }\n",
       "    });\n",
       "    this.resizeObserverInstance.observe(canvas_div);\n",
       "\n",
       "    function on_mouse_event_closure(name) {\n",
       "        return function (event) {\n",
       "            return fig.mouse_event(event, name);\n",
       "        };\n",
       "    }\n",
       "\n",
       "    rubberband_canvas.addEventListener(\n",
       "        'mousedown',\n",
       "        on_mouse_event_closure('button_press')\n",
       "    );\n",
       "    rubberband_canvas.addEventListener(\n",
       "        'mouseup',\n",
       "        on_mouse_event_closure('button_release')\n",
       "    );\n",
       "    rubberband_canvas.addEventListener(\n",
       "        'dblclick',\n",
       "        on_mouse_event_closure('dblclick')\n",
       "    );\n",
       "    // Throttle sequential mouse events to 1 every 20ms.\n",
       "    rubberband_canvas.addEventListener(\n",
       "        'mousemove',\n",
       "        on_mouse_event_closure('motion_notify')\n",
       "    );\n",
       "\n",
       "    rubberband_canvas.addEventListener(\n",
       "        'mouseenter',\n",
       "        on_mouse_event_closure('figure_enter')\n",
       "    );\n",
       "    rubberband_canvas.addEventListener(\n",
       "        'mouseleave',\n",
       "        on_mouse_event_closure('figure_leave')\n",
       "    );\n",
       "\n",
       "    canvas_div.addEventListener('wheel', function (event) {\n",
       "        if (event.deltaY < 0) {\n",
       "            event.step = 1;\n",
       "        } else {\n",
       "            event.step = -1;\n",
       "        }\n",
       "        on_mouse_event_closure('scroll')(event);\n",
       "    });\n",
       "\n",
       "    canvas_div.appendChild(canvas);\n",
       "    canvas_div.appendChild(rubberband_canvas);\n",
       "\n",
       "    this.rubberband_context = rubberband_canvas.getContext('2d');\n",
       "    this.rubberband_context.strokeStyle = '#000000';\n",
       "\n",
       "    this._resize_canvas = function (width, height, forward) {\n",
       "        if (forward) {\n",
       "            canvas_div.style.width = width + 'px';\n",
       "            canvas_div.style.height = height + 'px';\n",
       "        }\n",
       "    };\n",
       "\n",
       "    // Disable right mouse context menu.\n",
       "    this.rubberband_canvas.addEventListener('contextmenu', function (_e) {\n",
       "        event.preventDefault();\n",
       "        return false;\n",
       "    });\n",
       "\n",
       "    function set_focus() {\n",
       "        canvas.focus();\n",
       "        canvas_div.focus();\n",
       "    }\n",
       "\n",
       "    window.setTimeout(set_focus, 100);\n",
       "};\n",
       "\n",
       "mpl.figure.prototype._init_toolbar = function () {\n",
       "    var fig = this;\n",
       "\n",
       "    var toolbar = document.createElement('div');\n",
       "    toolbar.classList = 'mpl-toolbar';\n",
       "    this.root.appendChild(toolbar);\n",
       "\n",
       "    function on_click_closure(name) {\n",
       "        return function (_event) {\n",
       "            return fig.toolbar_button_onclick(name);\n",
       "        };\n",
       "    }\n",
       "\n",
       "    function on_mouseover_closure(tooltip) {\n",
       "        return function (event) {\n",
       "            if (!event.currentTarget.disabled) {\n",
       "                return fig.toolbar_button_onmouseover(tooltip);\n",
       "            }\n",
       "        };\n",
       "    }\n",
       "\n",
       "    fig.buttons = {};\n",
       "    var buttonGroup = document.createElement('div');\n",
       "    buttonGroup.classList = 'mpl-button-group';\n",
       "    for (var toolbar_ind in mpl.toolbar_items) {\n",
       "        var name = mpl.toolbar_items[toolbar_ind][0];\n",
       "        var tooltip = mpl.toolbar_items[toolbar_ind][1];\n",
       "        var image = mpl.toolbar_items[toolbar_ind][2];\n",
       "        var method_name = mpl.toolbar_items[toolbar_ind][3];\n",
       "\n",
       "        if (!name) {\n",
       "            /* Instead of a spacer, we start a new button group. */\n",
       "            if (buttonGroup.hasChildNodes()) {\n",
       "                toolbar.appendChild(buttonGroup);\n",
       "            }\n",
       "            buttonGroup = document.createElement('div');\n",
       "            buttonGroup.classList = 'mpl-button-group';\n",
       "            continue;\n",
       "        }\n",
       "\n",
       "        var button = (fig.buttons[name] = document.createElement('button'));\n",
       "        button.classList = 'mpl-widget';\n",
       "        button.setAttribute('role', 'button');\n",
       "        button.setAttribute('aria-disabled', 'false');\n",
       "        button.addEventListener('click', on_click_closure(method_name));\n",
       "        button.addEventListener('mouseover', on_mouseover_closure(tooltip));\n",
       "\n",
       "        var icon_img = document.createElement('img');\n",
       "        icon_img.src = '_images/' + image + '.png';\n",
       "        icon_img.srcset = '_images/' + image + '_large.png 2x';\n",
       "        icon_img.alt = tooltip;\n",
       "        button.appendChild(icon_img);\n",
       "\n",
       "        buttonGroup.appendChild(button);\n",
       "    }\n",
       "\n",
       "    if (buttonGroup.hasChildNodes()) {\n",
       "        toolbar.appendChild(buttonGroup);\n",
       "    }\n",
       "\n",
       "    var fmt_picker = document.createElement('select');\n",
       "    fmt_picker.classList = 'mpl-widget';\n",
       "    toolbar.appendChild(fmt_picker);\n",
       "    this.format_dropdown = fmt_picker;\n",
       "\n",
       "    for (var ind in mpl.extensions) {\n",
       "        var fmt = mpl.extensions[ind];\n",
       "        var option = document.createElement('option');\n",
       "        option.selected = fmt === mpl.default_extension;\n",
       "        option.innerHTML = fmt;\n",
       "        fmt_picker.appendChild(option);\n",
       "    }\n",
       "\n",
       "    var status_bar = document.createElement('span');\n",
       "    status_bar.classList = 'mpl-message';\n",
       "    toolbar.appendChild(status_bar);\n",
       "    this.message = status_bar;\n",
       "};\n",
       "\n",
       "mpl.figure.prototype.request_resize = function (x_pixels, y_pixels) {\n",
       "    // Request matplotlib to resize the figure. Matplotlib will then trigger a resize in the client,\n",
       "    // which will in turn request a refresh of the image.\n",
       "    this.send_message('resize', { width: x_pixels, height: y_pixels });\n",
       "};\n",
       "\n",
       "mpl.figure.prototype.send_message = function (type, properties) {\n",
       "    properties['type'] = type;\n",
       "    properties['figure_id'] = this.id;\n",
       "    this.ws.send(JSON.stringify(properties));\n",
       "};\n",
       "\n",
       "mpl.figure.prototype.send_draw_message = function () {\n",
       "    if (!this.waiting) {\n",
       "        this.waiting = true;\n",
       "        this.ws.send(JSON.stringify({ type: 'draw', figure_id: this.id }));\n",
       "    }\n",
       "};\n",
       "\n",
       "mpl.figure.prototype.handle_save = function (fig, _msg) {\n",
       "    var format_dropdown = fig.format_dropdown;\n",
       "    var format = format_dropdown.options[format_dropdown.selectedIndex].value;\n",
       "    fig.ondownload(fig, format);\n",
       "};\n",
       "\n",
       "mpl.figure.prototype.handle_resize = function (fig, msg) {\n",
       "    var size = msg['size'];\n",
       "    if (size[0] !== fig.canvas.width || size[1] !== fig.canvas.height) {\n",
       "        fig._resize_canvas(size[0], size[1], msg['forward']);\n",
       "        fig.send_message('refresh', {});\n",
       "    }\n",
       "};\n",
       "\n",
       "mpl.figure.prototype.handle_rubberband = function (fig, msg) {\n",
       "    var x0 = msg['x0'] / fig.ratio;\n",
       "    var y0 = (fig.canvas.height - msg['y0']) / fig.ratio;\n",
       "    var x1 = msg['x1'] / fig.ratio;\n",
       "    var y1 = (fig.canvas.height - msg['y1']) / fig.ratio;\n",
       "    x0 = Math.floor(x0) + 0.5;\n",
       "    y0 = Math.floor(y0) + 0.5;\n",
       "    x1 = Math.floor(x1) + 0.5;\n",
       "    y1 = Math.floor(y1) + 0.5;\n",
       "    var min_x = Math.min(x0, x1);\n",
       "    var min_y = Math.min(y0, y1);\n",
       "    var width = Math.abs(x1 - x0);\n",
       "    var height = Math.abs(y1 - y0);\n",
       "\n",
       "    fig.rubberband_context.clearRect(\n",
       "        0,\n",
       "        0,\n",
       "        fig.canvas.width / fig.ratio,\n",
       "        fig.canvas.height / fig.ratio\n",
       "    );\n",
       "\n",
       "    fig.rubberband_context.strokeRect(min_x, min_y, width, height);\n",
       "};\n",
       "\n",
       "mpl.figure.prototype.handle_figure_label = function (fig, msg) {\n",
       "    // Updates the figure title.\n",
       "    fig.header.textContent = msg['label'];\n",
       "};\n",
       "\n",
       "mpl.figure.prototype.handle_cursor = function (fig, msg) {\n",
       "    fig.rubberband_canvas.style.cursor = msg['cursor'];\n",
       "};\n",
       "\n",
       "mpl.figure.prototype.handle_message = function (fig, msg) {\n",
       "    fig.message.textContent = msg['message'];\n",
       "};\n",
       "\n",
       "mpl.figure.prototype.handle_draw = function (fig, _msg) {\n",
       "    // Request the server to send over a new figure.\n",
       "    fig.send_draw_message();\n",
       "};\n",
       "\n",
       "mpl.figure.prototype.handle_image_mode = function (fig, msg) {\n",
       "    fig.image_mode = msg['mode'];\n",
       "};\n",
       "\n",
       "mpl.figure.prototype.handle_history_buttons = function (fig, msg) {\n",
       "    for (var key in msg) {\n",
       "        if (!(key in fig.buttons)) {\n",
       "            continue;\n",
       "        }\n",
       "        fig.buttons[key].disabled = !msg[key];\n",
       "        fig.buttons[key].setAttribute('aria-disabled', !msg[key]);\n",
       "    }\n",
       "};\n",
       "\n",
       "mpl.figure.prototype.handle_navigate_mode = function (fig, msg) {\n",
       "    if (msg['mode'] === 'PAN') {\n",
       "        fig.buttons['Pan'].classList.add('active');\n",
       "        fig.buttons['Zoom'].classList.remove('active');\n",
       "    } else if (msg['mode'] === 'ZOOM') {\n",
       "        fig.buttons['Pan'].classList.remove('active');\n",
       "        fig.buttons['Zoom'].classList.add('active');\n",
       "    } else {\n",
       "        fig.buttons['Pan'].classList.remove('active');\n",
       "        fig.buttons['Zoom'].classList.remove('active');\n",
       "    }\n",
       "};\n",
       "\n",
       "mpl.figure.prototype.updated_canvas_event = function () {\n",
       "    // Called whenever the canvas gets updated.\n",
       "    this.send_message('ack', {});\n",
       "};\n",
       "\n",
       "// A function to construct a web socket function for onmessage handling.\n",
       "// Called in the figure constructor.\n",
       "mpl.figure.prototype._make_on_message_function = function (fig) {\n",
       "    return function socket_on_message(evt) {\n",
       "        if (evt.data instanceof Blob) {\n",
       "            var img = evt.data;\n",
       "            if (img.type !== 'image/png') {\n",
       "                /* FIXME: We get \"Resource interpreted as Image but\n",
       "                 * transferred with MIME type text/plain:\" errors on\n",
       "                 * Chrome.  But how to set the MIME type?  It doesn't seem\n",
       "                 * to be part of the websocket stream */\n",
       "                img.type = 'image/png';\n",
       "            }\n",
       "\n",
       "            /* Free the memory for the previous frames */\n",
       "            if (fig.imageObj.src) {\n",
       "                (window.URL || window.webkitURL).revokeObjectURL(\n",
       "                    fig.imageObj.src\n",
       "                );\n",
       "            }\n",
       "\n",
       "            fig.imageObj.src = (window.URL || window.webkitURL).createObjectURL(\n",
       "                img\n",
       "            );\n",
       "            fig.updated_canvas_event();\n",
       "            fig.waiting = false;\n",
       "            return;\n",
       "        } else if (\n",
       "            typeof evt.data === 'string' &&\n",
       "            evt.data.slice(0, 21) === 'data:image/png;base64'\n",
       "        ) {\n",
       "            fig.imageObj.src = evt.data;\n",
       "            fig.updated_canvas_event();\n",
       "            fig.waiting = false;\n",
       "            return;\n",
       "        }\n",
       "\n",
       "        var msg = JSON.parse(evt.data);\n",
       "        var msg_type = msg['type'];\n",
       "\n",
       "        // Call the  \"handle_{type}\" callback, which takes\n",
       "        // the figure and JSON message as its only arguments.\n",
       "        try {\n",
       "            var callback = fig['handle_' + msg_type];\n",
       "        } catch (e) {\n",
       "            console.log(\n",
       "                \"No handler for the '\" + msg_type + \"' message type: \",\n",
       "                msg\n",
       "            );\n",
       "            return;\n",
       "        }\n",
       "\n",
       "        if (callback) {\n",
       "            try {\n",
       "                // console.log(\"Handling '\" + msg_type + \"' message: \", msg);\n",
       "                callback(fig, msg);\n",
       "            } catch (e) {\n",
       "                console.log(\n",
       "                    \"Exception inside the 'handler_\" + msg_type + \"' callback:\",\n",
       "                    e,\n",
       "                    e.stack,\n",
       "                    msg\n",
       "                );\n",
       "            }\n",
       "        }\n",
       "    };\n",
       "};\n",
       "\n",
       "// from https://stackoverflow.com/questions/1114465/getting-mouse-location-in-canvas\n",
       "mpl.findpos = function (e) {\n",
       "    //this section is from http://www.quirksmode.org/js/events_properties.html\n",
       "    var targ;\n",
       "    if (!e) {\n",
       "        e = window.event;\n",
       "    }\n",
       "    if (e.target) {\n",
       "        targ = e.target;\n",
       "    } else if (e.srcElement) {\n",
       "        targ = e.srcElement;\n",
       "    }\n",
       "    if (targ.nodeType === 3) {\n",
       "        // defeat Safari bug\n",
       "        targ = targ.parentNode;\n",
       "    }\n",
       "\n",
       "    // pageX,Y are the mouse positions relative to the document\n",
       "    var boundingRect = targ.getBoundingClientRect();\n",
       "    var x = e.pageX - (boundingRect.left + document.body.scrollLeft);\n",
       "    var y = e.pageY - (boundingRect.top + document.body.scrollTop);\n",
       "\n",
       "    return { x: x, y: y };\n",
       "};\n",
       "\n",
       "/*\n",
       " * return a copy of an object with only non-object keys\n",
       " * we need this to avoid circular references\n",
       " * https://stackoverflow.com/a/24161582/3208463\n",
       " */\n",
       "function simpleKeys(original) {\n",
       "    return Object.keys(original).reduce(function (obj, key) {\n",
       "        if (typeof original[key] !== 'object') {\n",
       "            obj[key] = original[key];\n",
       "        }\n",
       "        return obj;\n",
       "    }, {});\n",
       "}\n",
       "\n",
       "mpl.figure.prototype.mouse_event = function (event, name) {\n",
       "    var canvas_pos = mpl.findpos(event);\n",
       "\n",
       "    if (name === 'button_press') {\n",
       "        this.canvas.focus();\n",
       "        this.canvas_div.focus();\n",
       "    }\n",
       "\n",
       "    var x = canvas_pos.x * this.ratio;\n",
       "    var y = canvas_pos.y * this.ratio;\n",
       "\n",
       "    this.send_message(name, {\n",
       "        x: x,\n",
       "        y: y,\n",
       "        button: event.button,\n",
       "        step: event.step,\n",
       "        guiEvent: simpleKeys(event),\n",
       "    });\n",
       "\n",
       "    /* This prevents the web browser from automatically changing to\n",
       "     * the text insertion cursor when the button is pressed.  We want\n",
       "     * to control all of the cursor setting manually through the\n",
       "     * 'cursor' event from matplotlib */\n",
       "    event.preventDefault();\n",
       "    return false;\n",
       "};\n",
       "\n",
       "mpl.figure.prototype._key_event_extra = function (_event, _name) {\n",
       "    // Handle any extra behaviour associated with a key event\n",
       "};\n",
       "\n",
       "mpl.figure.prototype.key_event = function (event, name) {\n",
       "    // Prevent repeat events\n",
       "    if (name === 'key_press') {\n",
       "        if (event.key === this._key) {\n",
       "            return;\n",
       "        } else {\n",
       "            this._key = event.key;\n",
       "        }\n",
       "    }\n",
       "    if (name === 'key_release') {\n",
       "        this._key = null;\n",
       "    }\n",
       "\n",
       "    var value = '';\n",
       "    if (event.ctrlKey && event.key !== 'Control') {\n",
       "        value += 'ctrl+';\n",
       "    }\n",
       "    else if (event.altKey && event.key !== 'Alt') {\n",
       "        value += 'alt+';\n",
       "    }\n",
       "    else if (event.shiftKey && event.key !== 'Shift') {\n",
       "        value += 'shift+';\n",
       "    }\n",
       "\n",
       "    value += 'k' + event.key;\n",
       "\n",
       "    this._key_event_extra(event, name);\n",
       "\n",
       "    this.send_message(name, { key: value, guiEvent: simpleKeys(event) });\n",
       "    return false;\n",
       "};\n",
       "\n",
       "mpl.figure.prototype.toolbar_button_onclick = function (name) {\n",
       "    if (name === 'download') {\n",
       "        this.handle_save(this, null);\n",
       "    } else {\n",
       "        this.send_message('toolbar_button', { name: name });\n",
       "    }\n",
       "};\n",
       "\n",
       "mpl.figure.prototype.toolbar_button_onmouseover = function (tooltip) {\n",
       "    this.message.textContent = tooltip;\n",
       "};\n",
       "\n",
       "///////////////// REMAINING CONTENT GENERATED BY embed_js.py /////////////////\n",
       "// prettier-ignore\n",
       "var _JSXTOOLS_RESIZE_OBSERVER=function(A){var t,i=new WeakMap,n=new WeakMap,a=new WeakMap,r=new WeakMap,o=new Set;function s(e){if(!(this instanceof s))throw new TypeError(\"Constructor requires 'new' operator\");i.set(this,e)}function h(){throw new TypeError(\"Function is not a constructor\")}function c(e,t,i,n){e=0 in arguments?Number(arguments[0]):0,t=1 in arguments?Number(arguments[1]):0,i=2 in arguments?Number(arguments[2]):0,n=3 in arguments?Number(arguments[3]):0,this.right=(this.x=this.left=e)+(this.width=i),this.bottom=(this.y=this.top=t)+(this.height=n),Object.freeze(this)}function d(){t=requestAnimationFrame(d);var s=new WeakMap,p=new Set;o.forEach((function(t){r.get(t).forEach((function(i){var r=t instanceof window.SVGElement,o=a.get(t),d=r?0:parseFloat(o.paddingTop),f=r?0:parseFloat(o.paddingRight),l=r?0:parseFloat(o.paddingBottom),u=r?0:parseFloat(o.paddingLeft),g=r?0:parseFloat(o.borderTopWidth),m=r?0:parseFloat(o.borderRightWidth),w=r?0:parseFloat(o.borderBottomWidth),b=u+f,F=d+l,v=(r?0:parseFloat(o.borderLeftWidth))+m,W=g+w,y=r?0:t.offsetHeight-W-t.clientHeight,E=r?0:t.offsetWidth-v-t.clientWidth,R=b+v,z=F+W,M=r?t.width:parseFloat(o.width)-R-E,O=r?t.height:parseFloat(o.height)-z-y;if(n.has(t)){var k=n.get(t);if(k[0]===M&&k[1]===O)return}n.set(t,[M,O]);var S=Object.create(h.prototype);S.target=t,S.contentRect=new c(u,d,M,O),s.has(i)||(s.set(i,[]),p.add(i)),s.get(i).push(S)}))})),p.forEach((function(e){i.get(e).call(e,s.get(e),e)}))}return s.prototype.observe=function(i){if(i instanceof window.Element){r.has(i)||(r.set(i,new Set),o.add(i),a.set(i,window.getComputedStyle(i)));var n=r.get(i);n.has(this)||n.add(this),cancelAnimationFrame(t),t=requestAnimationFrame(d)}},s.prototype.unobserve=function(i){if(i instanceof window.Element&&r.has(i)){var n=r.get(i);n.has(this)&&(n.delete(this),n.size||(r.delete(i),o.delete(i))),n.size||r.delete(i),o.size||cancelAnimationFrame(t)}},A.DOMRectReadOnly=c,A.ResizeObserver=s,A.ResizeObserverEntry=h,A}; // eslint-disable-line\n",
       "mpl.toolbar_items = [[\"Home\", \"Reset original view\", \"fa fa-home icon-home\", \"home\"], [\"Back\", \"Back to previous view\", \"fa fa-arrow-left icon-arrow-left\", \"back\"], [\"Forward\", \"Forward to next view\", \"fa fa-arrow-right icon-arrow-right\", \"forward\"], [\"\", \"\", \"\", \"\"], [\"Pan\", \"Left button pans, Right button zooms\\nx/y fixes axis, CTRL fixes aspect\", \"fa fa-arrows icon-move\", \"pan\"], [\"Zoom\", \"Zoom to rectangle\\nx/y fixes axis\", \"fa fa-square-o icon-check-empty\", \"zoom\"], [\"\", \"\", \"\", \"\"], [\"Download\", \"Download plot\", \"fa fa-floppy-o icon-save\", \"download\"]];\n",
       "\n",
       "mpl.extensions = [\"eps\", \"jpeg\", \"pgf\", \"pdf\", \"png\", \"ps\", \"raw\", \"svg\", \"tif\"];\n",
       "\n",
       "mpl.default_extension = \"png\";/* global mpl */\n",
       "\n",
       "var comm_websocket_adapter = function (comm) {\n",
       "    // Create a \"websocket\"-like object which calls the given IPython comm\n",
       "    // object with the appropriate methods. Currently this is a non binary\n",
       "    // socket, so there is still some room for performance tuning.\n",
       "    var ws = {};\n",
       "\n",
       "    ws.binaryType = comm.kernel.ws.binaryType;\n",
       "    ws.readyState = comm.kernel.ws.readyState;\n",
       "    function updateReadyState(_event) {\n",
       "        if (comm.kernel.ws) {\n",
       "            ws.readyState = comm.kernel.ws.readyState;\n",
       "        } else {\n",
       "            ws.readyState = 3; // Closed state.\n",
       "        }\n",
       "    }\n",
       "    comm.kernel.ws.addEventListener('open', updateReadyState);\n",
       "    comm.kernel.ws.addEventListener('close', updateReadyState);\n",
       "    comm.kernel.ws.addEventListener('error', updateReadyState);\n",
       "\n",
       "    ws.close = function () {\n",
       "        comm.close();\n",
       "    };\n",
       "    ws.send = function (m) {\n",
       "        //console.log('sending', m);\n",
       "        comm.send(m);\n",
       "    };\n",
       "    // Register the callback with on_msg.\n",
       "    comm.on_msg(function (msg) {\n",
       "        //console.log('receiving', msg['content']['data'], msg);\n",
       "        var data = msg['content']['data'];\n",
       "        if (data['blob'] !== undefined) {\n",
       "            data = {\n",
       "                data: new Blob(msg['buffers'], { type: data['blob'] }),\n",
       "            };\n",
       "        }\n",
       "        // Pass the mpl event to the overridden (by mpl) onmessage function.\n",
       "        ws.onmessage(data);\n",
       "    });\n",
       "    return ws;\n",
       "};\n",
       "\n",
       "mpl.mpl_figure_comm = function (comm, msg) {\n",
       "    // This is the function which gets called when the mpl process\n",
       "    // starts-up an IPython Comm through the \"matplotlib\" channel.\n",
       "\n",
       "    var id = msg.content.data.id;\n",
       "    // Get hold of the div created by the display call when the Comm\n",
       "    // socket was opened in Python.\n",
       "    var element = document.getElementById(id);\n",
       "    var ws_proxy = comm_websocket_adapter(comm);\n",
       "\n",
       "    function ondownload(figure, _format) {\n",
       "        window.open(figure.canvas.toDataURL());\n",
       "    }\n",
       "\n",
       "    var fig = new mpl.figure(id, ws_proxy, ondownload, element);\n",
       "\n",
       "    // Call onopen now - mpl needs it, as it is assuming we've passed it a real\n",
       "    // web socket which is closed, not our websocket->open comm proxy.\n",
       "    ws_proxy.onopen();\n",
       "\n",
       "    fig.parent_element = element;\n",
       "    fig.cell_info = mpl.find_output_cell(\"<div id='\" + id + \"'></div>\");\n",
       "    if (!fig.cell_info) {\n",
       "        console.error('Failed to find cell for figure', id, fig);\n",
       "        return;\n",
       "    }\n",
       "    fig.cell_info[0].output_area.element.on(\n",
       "        'cleared',\n",
       "        { fig: fig },\n",
       "        fig._remove_fig_handler\n",
       "    );\n",
       "};\n",
       "\n",
       "mpl.figure.prototype.handle_close = function (fig, msg) {\n",
       "    var width = fig.canvas.width / fig.ratio;\n",
       "    fig.cell_info[0].output_area.element.off(\n",
       "        'cleared',\n",
       "        fig._remove_fig_handler\n",
       "    );\n",
       "    fig.resizeObserverInstance.unobserve(fig.canvas_div);\n",
       "\n",
       "    // Update the output cell to use the data from the current canvas.\n",
       "    fig.push_to_output();\n",
       "    var dataURL = fig.canvas.toDataURL();\n",
       "    // Re-enable the keyboard manager in IPython - without this line, in FF,\n",
       "    // the notebook keyboard shortcuts fail.\n",
       "    IPython.keyboard_manager.enable();\n",
       "    fig.parent_element.innerHTML =\n",
       "        '<img src=\"' + dataURL + '\" width=\"' + width + '\">';\n",
       "    fig.close_ws(fig, msg);\n",
       "};\n",
       "\n",
       "mpl.figure.prototype.close_ws = function (fig, msg) {\n",
       "    fig.send_message('closing', msg);\n",
       "    // fig.ws.close()\n",
       "};\n",
       "\n",
       "mpl.figure.prototype.push_to_output = function (_remove_interactive) {\n",
       "    // Turn the data on the canvas into data in the output cell.\n",
       "    var width = this.canvas.width / this.ratio;\n",
       "    var dataURL = this.canvas.toDataURL();\n",
       "    this.cell_info[1]['text/html'] =\n",
       "        '<img src=\"' + dataURL + '\" width=\"' + width + '\">';\n",
       "};\n",
       "\n",
       "mpl.figure.prototype.updated_canvas_event = function () {\n",
       "    // Tell IPython that the notebook contents must change.\n",
       "    IPython.notebook.set_dirty(true);\n",
       "    this.send_message('ack', {});\n",
       "    var fig = this;\n",
       "    // Wait a second, then push the new image to the DOM so\n",
       "    // that it is saved nicely (might be nice to debounce this).\n",
       "    setTimeout(function () {\n",
       "        fig.push_to_output();\n",
       "    }, 1000);\n",
       "};\n",
       "\n",
       "mpl.figure.prototype._init_toolbar = function () {\n",
       "    var fig = this;\n",
       "\n",
       "    var toolbar = document.createElement('div');\n",
       "    toolbar.classList = 'btn-toolbar';\n",
       "    this.root.appendChild(toolbar);\n",
       "\n",
       "    function on_click_closure(name) {\n",
       "        return function (_event) {\n",
       "            return fig.toolbar_button_onclick(name);\n",
       "        };\n",
       "    }\n",
       "\n",
       "    function on_mouseover_closure(tooltip) {\n",
       "        return function (event) {\n",
       "            if (!event.currentTarget.disabled) {\n",
       "                return fig.toolbar_button_onmouseover(tooltip);\n",
       "            }\n",
       "        };\n",
       "    }\n",
       "\n",
       "    fig.buttons = {};\n",
       "    var buttonGroup = document.createElement('div');\n",
       "    buttonGroup.classList = 'btn-group';\n",
       "    var button;\n",
       "    for (var toolbar_ind in mpl.toolbar_items) {\n",
       "        var name = mpl.toolbar_items[toolbar_ind][0];\n",
       "        var tooltip = mpl.toolbar_items[toolbar_ind][1];\n",
       "        var image = mpl.toolbar_items[toolbar_ind][2];\n",
       "        var method_name = mpl.toolbar_items[toolbar_ind][3];\n",
       "\n",
       "        if (!name) {\n",
       "            /* Instead of a spacer, we start a new button group. */\n",
       "            if (buttonGroup.hasChildNodes()) {\n",
       "                toolbar.appendChild(buttonGroup);\n",
       "            }\n",
       "            buttonGroup = document.createElement('div');\n",
       "            buttonGroup.classList = 'btn-group';\n",
       "            continue;\n",
       "        }\n",
       "\n",
       "        button = fig.buttons[name] = document.createElement('button');\n",
       "        button.classList = 'btn btn-default';\n",
       "        button.href = '#';\n",
       "        button.title = name;\n",
       "        button.innerHTML = '<i class=\"fa ' + image + ' fa-lg\"></i>';\n",
       "        button.addEventListener('click', on_click_closure(method_name));\n",
       "        button.addEventListener('mouseover', on_mouseover_closure(tooltip));\n",
       "        buttonGroup.appendChild(button);\n",
       "    }\n",
       "\n",
       "    if (buttonGroup.hasChildNodes()) {\n",
       "        toolbar.appendChild(buttonGroup);\n",
       "    }\n",
       "\n",
       "    // Add the status bar.\n",
       "    var status_bar = document.createElement('span');\n",
       "    status_bar.classList = 'mpl-message pull-right';\n",
       "    toolbar.appendChild(status_bar);\n",
       "    this.message = status_bar;\n",
       "\n",
       "    // Add the close button to the window.\n",
       "    var buttongrp = document.createElement('div');\n",
       "    buttongrp.classList = 'btn-group inline pull-right';\n",
       "    button = document.createElement('button');\n",
       "    button.classList = 'btn btn-mini btn-primary';\n",
       "    button.href = '#';\n",
       "    button.title = 'Stop Interaction';\n",
       "    button.innerHTML = '<i class=\"fa fa-power-off icon-remove icon-large\"></i>';\n",
       "    button.addEventListener('click', function (_evt) {\n",
       "        fig.handle_close(fig, {});\n",
       "    });\n",
       "    button.addEventListener(\n",
       "        'mouseover',\n",
       "        on_mouseover_closure('Stop Interaction')\n",
       "    );\n",
       "    buttongrp.appendChild(button);\n",
       "    var titlebar = this.root.querySelector('.ui-dialog-titlebar');\n",
       "    titlebar.insertBefore(buttongrp, titlebar.firstChild);\n",
       "};\n",
       "\n",
       "mpl.figure.prototype._remove_fig_handler = function (event) {\n",
       "    var fig = event.data.fig;\n",
       "    if (event.target !== this) {\n",
       "        // Ignore bubbled events from children.\n",
       "        return;\n",
       "    }\n",
       "    fig.close_ws(fig, {});\n",
       "};\n",
       "\n",
       "mpl.figure.prototype._root_extra_style = function (el) {\n",
       "    el.style.boxSizing = 'content-box'; // override notebook setting of border-box.\n",
       "};\n",
       "\n",
       "mpl.figure.prototype._canvas_extra_style = function (el) {\n",
       "    // this is important to make the div 'focusable\n",
       "    el.setAttribute('tabindex', 0);\n",
       "    // reach out to IPython and tell the keyboard manager to turn it's self\n",
       "    // off when our div gets focus\n",
       "\n",
       "    // location in version 3\n",
       "    if (IPython.notebook.keyboard_manager) {\n",
       "        IPython.notebook.keyboard_manager.register_events(el);\n",
       "    } else {\n",
       "        // location in version 2\n",
       "        IPython.keyboard_manager.register_events(el);\n",
       "    }\n",
       "};\n",
       "\n",
       "mpl.figure.prototype._key_event_extra = function (event, _name) {\n",
       "    // Check for shift+enter\n",
       "    if (event.shiftKey && event.which === 13) {\n",
       "        this.canvas_div.blur();\n",
       "        // select the cell after this one\n",
       "        var index = IPython.notebook.find_cell_index(this.cell_info[0]);\n",
       "        IPython.notebook.select(index + 1);\n",
       "    }\n",
       "};\n",
       "\n",
       "mpl.figure.prototype.handle_save = function (fig, _msg) {\n",
       "    fig.ondownload(fig, null);\n",
       "};\n",
       "\n",
       "mpl.find_output_cell = function (html_output) {\n",
       "    // Return the cell and output element which can be found *uniquely* in the notebook.\n",
       "    // Note - this is a bit hacky, but it is done because the \"notebook_saving.Notebook\"\n",
       "    // IPython event is triggered only after the cells have been serialised, which for\n",
       "    // our purposes (turning an active figure into a static one), is too late.\n",
       "    var cells = IPython.notebook.get_cells();\n",
       "    var ncells = cells.length;\n",
       "    for (var i = 0; i < ncells; i++) {\n",
       "        var cell = cells[i];\n",
       "        if (cell.cell_type === 'code') {\n",
       "            for (var j = 0; j < cell.output_area.outputs.length; j++) {\n",
       "                var data = cell.output_area.outputs[j];\n",
       "                if (data.data) {\n",
       "                    // IPython >= 3 moved mimebundle to data attribute of output\n",
       "                    data = data.data;\n",
       "                }\n",
       "                if (data['text/html'] === html_output) {\n",
       "                    return [cell, data, j];\n",
       "                }\n",
       "            }\n",
       "        }\n",
       "    }\n",
       "};\n",
       "\n",
       "// Register the function which deals with the matplotlib target/channel.\n",
       "// The kernel may be null if the page has been refreshed.\n",
       "if (IPython.notebook.kernel !== null) {\n",
       "    IPython.notebook.kernel.comm_manager.register_target(\n",
       "        'matplotlib',\n",
       "        mpl.mpl_figure_comm\n",
       "    );\n",
       "}\n"
      ],
      "text/plain": [
       "<IPython.core.display.Javascript object>"
      ]
     },
     "metadata": {},
     "output_type": "display_data"
    },
    {
     "data": {
      "text/html": [
       "<img src=\"data:image/png;base64,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\" width=\"640\">"
      ],
      "text/plain": [
       "<IPython.core.display.HTML object>"
      ]
     },
     "metadata": {},
     "output_type": "display_data"
    },
    {
     "data": {
      "text/plain": [
       "[<matplotlib.lines.Line2D at 0x1c746468790>]"
      ]
     },
     "execution_count": 272,
     "metadata": {},
     "output_type": "execute_result"
    }
   ],
   "source": [
    "fig = plt.figure()\n",
    "ax = fig.add_subplot(1, 1, 1)\n",
    "ax.plot(close_px.AAPL)\n",
    "ax.plot(close_px.AAPL.rolling(250, closed='right').max())"
   ]
  },
  {
   "cell_type": "code",
   "execution_count": 270,
   "id": "da186989",
   "metadata": {},
   "outputs": [
    {
     "data": {
      "text/plain": [
       "2003-01-02      7.40\n",
       "2003-01-03      7.45\n",
       "2003-01-06      7.45\n",
       "2003-01-07      7.43\n",
       "2003-01-08      7.28\n",
       "               ...  \n",
       "2011-10-10    388.81\n",
       "2011-10-11    400.29\n",
       "2011-10-12    402.19\n",
       "2011-10-13    408.43\n",
       "2011-10-14    422.00\n",
       "Freq: B, Name: AAPL, Length: 2292, dtype: float64"
      ]
     },
     "execution_count": 270,
     "metadata": {},
     "output_type": "execute_result"
    }
   ],
   "source": [
    "close_px.AAPL"
   ]
  },
  {
   "cell_type": "code",
   "execution_count": 261,
   "id": "ffff2061",
   "metadata": {},
   "outputs": [
    {
     "data": {
      "text/plain": [
       "[<matplotlib.lines.Line2D at 0x1c7352b3190>]"
      ]
     },
     "execution_count": 261,
     "metadata": {},
     "output_type": "execute_result"
    }
   ],
   "source": []
  },
  {
   "cell_type": "code",
   "execution_count": 262,
   "id": "0564dbd1",
   "metadata": {},
   "outputs": [
    {
     "data": {
      "text/plain": [
       "<AxesSubplot:>"
      ]
     },
     "execution_count": 262,
     "metadata": {},
     "output_type": "execute_result"
    },
    {
     "data": {
      "image/png": "[encoded data removed]",
      "text/plain": [
       "<Figure size 432x288 with 1 Axes>"
      ]
     },
     "metadata": {
      "needs_background": "light"
     },
     "output_type": "display_data"
    }
   ],
   "source": [
    "close_px.AAPL.rolling(250).mean().plot()"
   ]
  },
  {
   "cell_type": "code",
   "execution_count": 232,
   "id": "83e7d371",
   "metadata": {},
   "outputs": [],
   "source": [
    "appl_std250 = close_px.AAPL.rolling(250, min_periods=10).std()"
   ]
  },
  {
   "cell_type": "code",
   "execution_count": null,
   "id": "db2082e9",
   "metadata": {},
   "outputs": [],
   "source": []
  },
  {
   "cell_type": "code",
   "execution_count": 233,
   "id": "2306b3a1",
   "metadata": {},
   "outputs": [
    {
     "data": {
      "text/plain": [
       "2003-01-09         NaN\n",
       "2003-01-10         NaN\n",
       "2003-01-13         NaN\n",
       "2003-01-14         NaN\n",
       "2003-01-15    0.077496\n",
       "2003-01-16    0.074760\n",
       "2003-01-17    0.112368\n",
       "Freq: B, Name: AAPL, dtype: float64"
      ]
     },
     "execution_count": 233,
     "metadata": {},
     "output_type": "execute_result"
    }
   ],
   "source": [
    "appl_std250[5:12]"
   ]
  },
  {
   "cell_type": "code",
   "execution_count": 234,
   "id": "65e11da4",
   "metadata": {},
   "outputs": [
    {
     "data": {
      "text/plain": [
       "<AxesSubplot:>"
      ]
     },
     "execution_count": 234,
     "metadata": {},
     "output_type": "execute_result"
    },
    {
     "data": {
      "image/png": "[encoded data removed]",
      "text/plain": [
       "<Figure size 432x288 with 1 Axes>"
      ]
     },
     "metadata": {
      "needs_background": "light"
     },
     "output_type": "display_data"
    }
   ],
   "source": [
    "appl_std250.plot()"
   ]
  },
  {
   "cell_type": "code",
   "execution_count": 235,
   "id": "d6f28fd8",
   "metadata": {},
   "outputs": [],
   "source": [
    "expanding_mean = appl_std250.expanding().mean()"
   ]
  },
  {
   "cell_type": "code",
   "execution_count": 236,
   "id": "85a1dafb",
   "metadata": {},
   "outputs": [
    {
     "data": {
      "text/plain": [
       "<AxesSubplot:>"
      ]
     },
     "execution_count": 236,
     "metadata": {},
     "output_type": "execute_result"
    },
    {
     "data": {
      "image/png": "[encoded data removed]",
      "text/plain": [
       "<Figure size 432x288 with 1 Axes>"
      ]
     },
     "metadata": {
      "needs_background": "light"
     },
     "output_type": "display_data"
    }
   ],
   "source": [
    "close_px.rolling(60).mean().plot(logy=True)"
   ]
  },
  {
   "cell_type": "code",
   "execution_count": 237,
   "id": "5e8686a1",
   "metadata": {},
   "outputs": [
    {
     "data": {
      "text/html": [
       "<div>\n",
       "<style scoped>\n",
       "    .dataframe tbody tr th:only-of-type {\n",
       "        vertical-align: middle;\n",
       "    }\n",
       "\n",
       "    .dataframe tbody tr th {\n",
       "        vertical-align: top;\n",
       "    }\n",
       "\n",
       "    .dataframe thead th {\n",
       "        text-align: right;\n",
       "    }\n",
       "</style>\n",
       "<table border=\"1\" class=\"dataframe\">\n",
       "  <thead>\n",
       "    <tr style=\"text-align: right;\">\n",
       "      <th></th>\n",
       "      <th>AAPL</th>\n",
       "      <th>MSFT</th>\n",
       "      <th>XOM</th>\n",
       "    </tr>\n",
       "  </thead>\n",
       "  <tbody>\n",
       "    <tr>\n",
       "      <th>2003-01-02</th>\n",
       "      <td>7.400000</td>\n",
       "      <td>21.110000</td>\n",
       "      <td>29.220000</td>\n",
       "    </tr>\n",
       "    <tr>\n",
       "      <th>2003-01-03</th>\n",
       "      <td>7.425000</td>\n",
       "      <td>21.125000</td>\n",
       "      <td>29.230000</td>\n",
       "    </tr>\n",
       "    <tr>\n",
       "      <th>2003-01-06</th>\n",
       "      <td>7.433333</td>\n",
       "      <td>21.256667</td>\n",
       "      <td>29.473333</td>\n",
       "    </tr>\n",
       "    <tr>\n",
       "      <th>2003-01-07</th>\n",
       "      <td>7.432500</td>\n",
       "      <td>21.425000</td>\n",
       "      <td>29.342500</td>\n",
       "    </tr>\n",
       "    <tr>\n",
       "      <th>2003-01-08</th>\n",
       "      <td>7.402000</td>\n",
       "      <td>21.402000</td>\n",
       "      <td>29.240000</td>\n",
       "    </tr>\n",
       "    <tr>\n",
       "      <th>...</th>\n",
       "      <td>...</td>\n",
       "      <td>...</td>\n",
       "      <td>...</td>\n",
       "    </tr>\n",
       "    <tr>\n",
       "      <th>2011-10-10</th>\n",
       "      <td>389.351429</td>\n",
       "      <td>25.602143</td>\n",
       "      <td>72.527857</td>\n",
       "    </tr>\n",
       "    <tr>\n",
       "      <th>2011-10-11</th>\n",
       "      <td>388.505000</td>\n",
       "      <td>25.674286</td>\n",
       "      <td>72.835000</td>\n",
       "    </tr>\n",
       "    <tr>\n",
       "      <th>2011-10-12</th>\n",
       "      <td>388.531429</td>\n",
       "      <td>25.810000</td>\n",
       "      <td>73.400714</td>\n",
       "    </tr>\n",
       "    <tr>\n",
       "      <th>2011-10-13</th>\n",
       "      <td>388.826429</td>\n",
       "      <td>25.961429</td>\n",
       "      <td>73.905000</td>\n",
       "    </tr>\n",
       "    <tr>\n",
       "      <th>2011-10-14</th>\n",
       "      <td>391.038000</td>\n",
       "      <td>26.048667</td>\n",
       "      <td>74.185333</td>\n",
       "    </tr>\n",
       "  </tbody>\n",
       "</table>\n",
       "<p>2292 rows × 3 columns</p>\n",
       "</div>"
      ],
      "text/plain": [
       "                  AAPL       MSFT        XOM\n",
       "2003-01-02    7.400000  21.110000  29.220000\n",
       "2003-01-03    7.425000  21.125000  29.230000\n",
       "2003-01-06    7.433333  21.256667  29.473333\n",
       "2003-01-07    7.432500  21.425000  29.342500\n",
       "2003-01-08    7.402000  21.402000  29.240000\n",
       "...                ...        ...        ...\n",
       "2011-10-10  389.351429  25.602143  72.527857\n",
       "2011-10-11  388.505000  25.674286  72.835000\n",
       "2011-10-12  388.531429  25.810000  73.400714\n",
       "2011-10-13  388.826429  25.961429  73.905000\n",
       "2011-10-14  391.038000  26.048667  74.185333\n",
       "\n",
       "[2292 rows x 3 columns]"
      ]
     },
     "execution_count": 237,
     "metadata": {},
     "output_type": "execute_result"
    }
   ],
   "source": [
    "close_px.rolling('20D').mean()"
   ]
  },
  {
   "cell_type": "code",
   "execution_count": 238,
   "id": "8d42114e",
   "metadata": {},
   "outputs": [
    {
     "data": {
      "text/plain": [
       "<Figure size 432x288 with 0 Axes>"
      ]
     },
     "metadata": {},
     "output_type": "display_data"
    }
   ],
   "source": [
    "fig = plt.figure()"
   ]
  },
  {
   "cell_type": "code",
   "execution_count": 239,
   "id": "2eb4c3d8",
   "metadata": {},
   "outputs": [],
   "source": [
    "aapl_px = close_px.AAPL['2006': '2007']"
   ]
  },
  {
   "cell_type": "code",
   "execution_count": 240,
   "id": "f7d5a92f",
   "metadata": {},
   "outputs": [],
   "source": [
    "ma60 = aapl_px.rolling(30, min_periods=20).mean()"
   ]
  },
  {
   "cell_type": "code",
   "execution_count": 241,
   "id": "3071cc89",
   "metadata": {},
   "outputs": [],
   "source": [
    "ewma60 = aapl_px.ewm(span=30).mean()"
   ]
  },
  {
   "cell_type": "code",
   "execution_count": 242,
   "id": "159b9568",
   "metadata": {},
   "outputs": [
    {
     "data": {
      "text/plain": [
       "<AxesSubplot:>"
      ]
     },
     "execution_count": 242,
     "metadata": {},
     "output_type": "execute_result"
    },
    {
     "data": {
      "image/png": "[encoded data removed]",
      "text/plain": [
       "<Figure size 432x288 with 1 Axes>"
      ]
     },
     "metadata": {
      "needs_background": "light"
     },
     "output_type": "display_data"
    }
   ],
   "source": [
    "ma60.plot(style='k--', label='Simple MA')"
   ]
  },
  {
   "cell_type": "code",
   "execution_count": 243,
   "id": "bb9fc7de",
   "metadata": {},
   "outputs": [
    {
     "data": {
      "text/plain": [
       "<AxesSubplot:>"
      ]
     },
     "execution_count": 243,
     "metadata": {},
     "output_type": "execute_result"
    },
    {
     "data": {
      "image/png": "[encoded data removed]",
      "text/plain": [
       "<Figure size 432x288 with 1 Axes>"
      ]
     },
     "metadata": {
      "needs_background": "light"
     },
     "output_type": "display_data"
    }
   ],
   "source": [
    "ewma60.plot(style='k-', label='EW MA')"
   ]
  },
  {
   "cell_type": "code",
   "execution_count": 244,
   "id": "eae03800",
   "metadata": {},
   "outputs": [
    {
     "name": "stderr",
     "output_type": "stream",
     "text": [
      "No artists with labels found to put in legend.  Note that artists whose label start with an underscore are ignored when legend() is called with no argument.\n"
     ]
    },
    {
     "data": {
      "text/plain": [
       "<matplotlib.legend.Legend at 0x1c735194c70>"
      ]
     },
     "execution_count": 244,
     "metadata": {},
     "output_type": "execute_result"
    },
    {
     "data": {
      "image/png": "[encoded data removed]",
      "text/plain": [
       "<Figure size 432x288 with 1 Axes>"
      ]
     },
     "metadata": {
      "needs_background": "light"
     },
     "output_type": "display_data"
    }
   ],
   "source": [
    "plt.legend()"
   ]
  },
  {
   "cell_type": "code",
   "execution_count": 245,
   "id": "b02a0507",
   "metadata": {},
   "outputs": [],
   "source": [
    "spx_px = close_px_all['SPX']"
   ]
  },
  {
   "cell_type": "code",
   "execution_count": 246,
   "id": "ea6cfb21",
   "metadata": {},
   "outputs": [],
   "source": [
    "spx_rets = spx_px.pct_change()"
   ]
  },
  {
   "cell_type": "code",
   "execution_count": 247,
   "id": "aaaff7c5",
   "metadata": {},
   "outputs": [],
   "source": [
    "returns = close_px.pct_change()"
   ]
  },
  {
   "cell_type": "code",
   "execution_count": 248,
   "id": "de0f9bff",
   "metadata": {},
   "outputs": [],
   "source": [
    "corr = returns.AAPL.rolling(125, min_periods=100).corr(spx_rets)"
   ]
  },
  {
   "cell_type": "code",
   "execution_count": 249,
   "id": "b17867b3",
   "metadata": {},
   "outputs": [
    {
     "data": {
      "text/plain": [
       "<Figure size 432x288 with 0 Axes>"
      ]
     },
     "metadata": {},
     "output_type": "display_data"
    }
   ],
   "source": [
    "fig = plt.figure()"
   ]
  },
  {
   "cell_type": "code",
   "execution_count": 250,
   "id": "391218ad",
   "metadata": {},
   "outputs": [
    {
     "data": {
      "text/plain": [
       "<AxesSubplot:>"
      ]
     },
     "execution_count": 250,
     "metadata": {},
     "output_type": "execute_result"
    },
    {
     "data": {
      "image/png": "[encoded data removed]",
      "text/plain": [
       "<Figure size 432x288 with 1 Axes>"
      ]
     },
     "metadata": {
      "needs_background": "light"
     },
     "output_type": "display_data"
    }
   ],
   "source": [
    "corr.plot()"
   ]
  },
  {
   "cell_type": "code",
   "execution_count": 251,
   "id": "4a36955d",
   "metadata": {},
   "outputs": [],
   "source": [
    "corr = returns.rolling(125, min_periods=100).corr(spx_rets)"
   ]
  },
  {
   "cell_type": "code",
   "execution_count": 252,
   "id": "78cb01dc",
   "metadata": {},
   "outputs": [
    {
     "data": {
      "text/plain": [
       "<AxesSubplot:>"
      ]
     },
     "execution_count": 252,
     "metadata": {},
     "output_type": "execute_result"
    },
    {
     "data": {
      "image/png": "[encoded data removed]",
      "text/plain": [
       "<Figure size 432x288 with 1 Axes>"
      ]
     },
     "metadata": {
      "needs_background": "light"
     },
     "output_type": "display_data"
    }
   ],
   "source": [
    "corr.plot()"
   ]
  },
  {
   "cell_type": "code",
   "execution_count": 253,
   "id": "fa0f6b21",
   "metadata": {},
   "outputs": [],
   "source": [
    "from scipy.stats import percentileofscore"
   ]
  },
  {
   "cell_type": "code",
   "execution_count": 254,
   "id": "839325af",
   "metadata": {},
   "outputs": [],
   "source": [
    "score_at_2percent = lambda x: percentileofscore(x, 0.02)"
   ]
  },
  {
   "cell_type": "code",
   "execution_count": 255,
   "id": "0532bfe0",
   "metadata": {},
   "outputs": [],
   "source": [
    "result = returns.AAPL.rolling(250).apply(score_at_2percent)"
   ]
  },
  {
   "cell_type": "code",
   "execution_count": 256,
   "id": "7a9b3748",
   "metadata": {},
   "outputs": [
    {
     "data": {
      "text/plain": [
       "<Figure size 432x288 with 0 Axes>"
      ]
     },
     "metadata": {},
     "output_type": "display_data"
    }
   ],
   "source": [
    "fig = plt.figure()"
   ]
  },
  {
   "cell_type": "code",
   "execution_count": 257,
   "id": "f8596538",
   "metadata": {},
   "outputs": [
    {
     "data": {
      "text/plain": [
       "<AxesSubplot:>"
      ]
     },
     "execution_count": 257,
     "metadata": {},
     "output_type": "execute_result"
    },
    {
     "data": {
      "image/png": "[encoded data removed]",
      "text/plain": [
       "<Figure size 432x288 with 1 Axes>"
      ]
     },
     "metadata": {
      "needs_background": "light"
     },
     "output_type": "display_data"
    }
   ],
   "source": [
    "result.plot()"
   ]
  },
  {
   "cell_type": "code",
   "execution_count": null,
   "id": "0496bdfa",
   "metadata": {},
   "outputs": [],
   "source": []
  }
 ],
 "metadata": {
  "kernelspec": {
   "display_name": "Python 3 (ipykernel)",
   "language": "python",
   "name": "python3"
  },
  "language_info": {
   "codemirror_mode": {
    "name": "ipython",
    "version": 3
   },
   "file_extension": ".py",
   "mimetype": "text/x-python",
   "name": "python",
   "nbconvert_exporter": "python",
   "pygments_lexer": "ipython3",
   "version": "3.10.0"
  }
 },
 "nbformat": 4,
 "nbformat_minor": 5
}
