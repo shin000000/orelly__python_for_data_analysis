{
 "cells": [
  {
   "cell_type": "code",
   "execution_count": 1,
   "id": "2f0770ac",
   "metadata": {},
   "outputs": [],
   "source": [
    "import numpy as np"
   ]
  },
  {
   "cell_type": "code",
   "execution_count": 2,
   "id": "0307650d",
   "metadata": {},
   "outputs": [],
   "source": [
    "data = np.random.randn(2, 3)"
   ]
  },
  {
   "cell_type": "code",
   "execution_count": 3,
   "id": "0d8213a7",
   "metadata": {},
   "outputs": [
    {
     "data": {
      "text/plain": [
       "array([[-1.98248004, -0.56599113, -0.990243  ],\n",
       "       [-0.6469024 , -0.07925513, -0.16198917]])"
      ]
     },
     "execution_count": 3,
     "metadata": {},
     "output_type": "execute_result"
    }
   ],
   "source": [
    "data"
   ]
  },
  {
   "cell_type": "code",
   "execution_count": 4,
   "id": "24c87a46",
   "metadata": {},
   "outputs": [
    {
     "data": {
      "text/plain": [
       "array([[-19.82480045,  -5.6599113 ,  -9.90242999],\n",
       "       [ -6.46902403,  -0.79255132,  -1.61989168]])"
      ]
     },
     "execution_count": 4,
     "metadata": {},
     "output_type": "execute_result"
    }
   ],
   "source": [
    "data * 10"
   ]
  },
  {
   "cell_type": "code",
   "execution_count": 5,
   "id": "02ef1eed",
   "metadata": {},
   "outputs": [
    {
     "data": {
      "text/plain": [
       "array([[-3.96496009, -1.13198226, -1.980486  ],\n",
       "       [-1.29380481, -0.15851026, -0.32397834]])"
      ]
     },
     "execution_count": 5,
     "metadata": {},
     "output_type": "execute_result"
    }
   ],
   "source": [
    "data + data"
   ]
  },
  {
   "cell_type": "code",
   "execution_count": 6,
   "id": "f62b6ce2",
   "metadata": {},
   "outputs": [
    {
     "data": {
      "text/plain": [
       "(2, 3)"
      ]
     },
     "execution_count": 6,
     "metadata": {},
     "output_type": "execute_result"
    }
   ],
   "source": [
    "data.shape"
   ]
  },
  {
   "cell_type": "code",
   "execution_count": 7,
   "id": "adef2574",
   "metadata": {},
   "outputs": [
    {
     "data": {
      "text/plain": [
       "dtype('float64')"
      ]
     },
     "execution_count": 7,
     "metadata": {},
     "output_type": "execute_result"
    }
   ],
   "source": [
    "data.dtype"
   ]
  },
  {
   "cell_type": "code",
   "execution_count": 8,
   "id": "7c57ad5f",
   "metadata": {},
   "outputs": [],
   "source": [
    "data1 = [6, 7.5, 8, 0, 1]"
   ]
  },
  {
   "cell_type": "code",
   "execution_count": 9,
   "id": "18ac3ada",
   "metadata": {},
   "outputs": [],
   "source": [
    "arr1 = np.array(data1)"
   ]
  },
  {
   "cell_type": "code",
   "execution_count": 10,
   "id": "14f156c0",
   "metadata": {},
   "outputs": [
    {
     "data": {
      "text/plain": [
       "array([6. , 7.5, 8. , 0. , 1. ])"
      ]
     },
     "execution_count": 10,
     "metadata": {},
     "output_type": "execute_result"
    }
   ],
   "source": [
    "arr1"
   ]
  },
  {
   "cell_type": "code",
   "execution_count": 11,
   "id": "4fcd1024",
   "metadata": {},
   "outputs": [],
   "source": [
    "data2 = [[1, 2, 3, 4], [5, 6, 7, 8]]"
   ]
  },
  {
   "cell_type": "code",
   "execution_count": 12,
   "id": "366b61a6",
   "metadata": {},
   "outputs": [],
   "source": [
    "arr2 = np.array(data2)"
   ]
  },
  {
   "cell_type": "code",
   "execution_count": 13,
   "id": "b0f8ee7f",
   "metadata": {},
   "outputs": [
    {
     "data": {
      "text/plain": [
       "array([6. , 7.5, 8. , 0. , 1. ])"
      ]
     },
     "execution_count": 13,
     "metadata": {},
     "output_type": "execute_result"
    }
   ],
   "source": [
    "arr1"
   ]
  },
  {
   "cell_type": "code",
   "execution_count": 14,
   "id": "85f50d30",
   "metadata": {},
   "outputs": [
    {
     "data": {
      "text/plain": [
       "array([[1, 2, 3, 4],\n",
       "       [5, 6, 7, 8]])"
      ]
     },
     "execution_count": 14,
     "metadata": {},
     "output_type": "execute_result"
    }
   ],
   "source": [
    "arr2"
   ]
  },
  {
   "cell_type": "code",
   "execution_count": 15,
   "id": "31ae738b",
   "metadata": {},
   "outputs": [
    {
     "data": {
      "text/plain": [
       "2"
      ]
     },
     "execution_count": 15,
     "metadata": {},
     "output_type": "execute_result"
    }
   ],
   "source": [
    "arr2.ndim"
   ]
  },
  {
   "cell_type": "code",
   "execution_count": 16,
   "id": "f635e5c4",
   "metadata": {},
   "outputs": [
    {
     "data": {
      "text/plain": [
       "(2, 4)"
      ]
     },
     "execution_count": 16,
     "metadata": {},
     "output_type": "execute_result"
    }
   ],
   "source": [
    "arr2.shape"
   ]
  },
  {
   "cell_type": "code",
   "execution_count": 17,
   "id": "029638f1",
   "metadata": {},
   "outputs": [
    {
     "data": {
      "text/plain": [
       "dtype('float64')"
      ]
     },
     "execution_count": 17,
     "metadata": {},
     "output_type": "execute_result"
    }
   ],
   "source": [
    "arr1.dtype"
   ]
  },
  {
   "cell_type": "code",
   "execution_count": 18,
   "id": "2d3aa355",
   "metadata": {},
   "outputs": [
    {
     "data": {
      "text/plain": [
       "dtype('int32')"
      ]
     },
     "execution_count": 18,
     "metadata": {},
     "output_type": "execute_result"
    }
   ],
   "source": [
    "arr2.dtype"
   ]
  },
  {
   "cell_type": "code",
   "execution_count": 19,
   "id": "7515a6ef",
   "metadata": {},
   "outputs": [
    {
     "data": {
      "text/plain": [
       "array([0., 0., 0., 0., 0., 0., 0., 0., 0., 0.])"
      ]
     },
     "execution_count": 19,
     "metadata": {},
     "output_type": "execute_result"
    }
   ],
   "source": [
    "np.zeros(10)"
   ]
  },
  {
   "cell_type": "code",
   "execution_count": 20,
   "id": "dc64d1d4",
   "metadata": {},
   "outputs": [
    {
     "data": {
      "text/plain": [
       "array([[0., 0., 0., 0., 0., 0.],\n",
       "       [0., 0., 0., 0., 0., 0.],\n",
       "       [0., 0., 0., 0., 0., 0.]])"
      ]
     },
     "execution_count": 20,
     "metadata": {},
     "output_type": "execute_result"
    }
   ],
   "source": [
    "np.zeros((3,6))"
   ]
  },
  {
   "cell_type": "code",
   "execution_count": 21,
   "id": "6ebea8ac",
   "metadata": {},
   "outputs": [
    {
     "data": {
      "text/plain": [
       "array([[[8.59296271e-312, 3.16202013e-322],\n",
       "        [0.00000000e+000, 0.00000000e+000],\n",
       "        [9.34611147e-307, 2.87730018e+180]],\n",
       "\n",
       "       [[2.64826742e-032, 2.25518272e+180],\n",
       "        [3.12226694e-033, 1.21480180e-046],\n",
       "        [1.25666817e-075, 1.52823991e+160]]])"
      ]
     },
     "execution_count": 21,
     "metadata": {},
     "output_type": "execute_result"
    }
   ],
   "source": [
    "np.empty((2, 3, 2))"
   ]
  },
  {
   "cell_type": "code",
   "execution_count": 22,
   "id": "13ac5749",
   "metadata": {},
   "outputs": [
    {
     "data": {
      "text/plain": [
       "array([ 0,  1,  2,  3,  4,  5,  6,  7,  8,  9, 10, 11, 12, 13, 14])"
      ]
     },
     "execution_count": 22,
     "metadata": {},
     "output_type": "execute_result"
    }
   ],
   "source": [
    "np.arange(15)"
   ]
  },
  {
   "cell_type": "code",
   "execution_count": 23,
   "id": "99c3513b",
   "metadata": {},
   "outputs": [],
   "source": [
    "arr1 = np.array([1, 2, 3], dtype=np.float64)"
   ]
  },
  {
   "cell_type": "code",
   "execution_count": 24,
   "id": "6ae4daa5",
   "metadata": {},
   "outputs": [],
   "source": [
    "arr2 = np.array([1, 2, 3], dtype=np.int32)"
   ]
  },
  {
   "cell_type": "code",
   "execution_count": 25,
   "id": "f3f1a2ca",
   "metadata": {},
   "outputs": [
    {
     "data": {
      "text/plain": [
       "dtype('float64')"
      ]
     },
     "execution_count": 25,
     "metadata": {},
     "output_type": "execute_result"
    }
   ],
   "source": [
    "arr1.dtype"
   ]
  },
  {
   "cell_type": "code",
   "execution_count": 26,
   "id": "1a6de21b",
   "metadata": {},
   "outputs": [
    {
     "data": {
      "text/plain": [
       "dtype('int32')"
      ]
     },
     "execution_count": 26,
     "metadata": {},
     "output_type": "execute_result"
    }
   ],
   "source": [
    "arr2.dtype"
   ]
  },
  {
   "cell_type": "code",
   "execution_count": 27,
   "id": "b87922ad",
   "metadata": {},
   "outputs": [
    {
     "data": {
      "text/plain": [
       "dtype('int32')"
      ]
     },
     "execution_count": 27,
     "metadata": {},
     "output_type": "execute_result"
    }
   ],
   "source": [
    "arr2.dtype"
   ]
  },
  {
   "cell_type": "code",
   "execution_count": 28,
   "id": "2c41defe",
   "metadata": {},
   "outputs": [],
   "source": [
    "arr = np.array([1, 2, 3, 4, 5])"
   ]
  },
  {
   "cell_type": "code",
   "execution_count": 29,
   "id": "49ce03e4",
   "metadata": {},
   "outputs": [
    {
     "data": {
      "text/plain": [
       "dtype('int32')"
      ]
     },
     "execution_count": 29,
     "metadata": {},
     "output_type": "execute_result"
    }
   ],
   "source": [
    "arr.dtype"
   ]
  },
  {
   "cell_type": "code",
   "execution_count": 30,
   "id": "dca79f80",
   "metadata": {},
   "outputs": [],
   "source": [
    "float_arr = arr.astype(np.float64)"
   ]
  },
  {
   "cell_type": "code",
   "execution_count": 31,
   "id": "46cd7e8f",
   "metadata": {},
   "outputs": [
    {
     "data": {
      "text/plain": [
       "dtype('float64')"
      ]
     },
     "execution_count": 31,
     "metadata": {},
     "output_type": "execute_result"
    }
   ],
   "source": [
    "float_arr.dtype"
   ]
  },
  {
   "cell_type": "code",
   "execution_count": 32,
   "id": "fafd6fa1",
   "metadata": {},
   "outputs": [],
   "source": [
    "arr = np.array([3.7, -1.2, -2.6, 0.5, 12.9, 12.1])"
   ]
  },
  {
   "cell_type": "code",
   "execution_count": 33,
   "id": "bee08233",
   "metadata": {},
   "outputs": [
    {
     "data": {
      "text/plain": [
       "array([ 3.7, -1.2, -2.6,  0.5, 12.9, 12.1])"
      ]
     },
     "execution_count": 33,
     "metadata": {},
     "output_type": "execute_result"
    }
   ],
   "source": [
    "arr"
   ]
  },
  {
   "cell_type": "code",
   "execution_count": 34,
   "id": "6517836f",
   "metadata": {},
   "outputs": [
    {
     "data": {
      "text/plain": [
       "array([ 3, -1, -2,  0, 12, 12])"
      ]
     },
     "execution_count": 34,
     "metadata": {},
     "output_type": "execute_result"
    }
   ],
   "source": [
    "arr.astype(np.int32)"
   ]
  },
  {
   "cell_type": "code",
   "execution_count": 35,
   "id": "a6aff17e",
   "metadata": {},
   "outputs": [
    {
     "data": {
      "text/plain": [
       "array([ 3.7, -1.2, -2.6,  0.5, 12.9, 12.1])"
      ]
     },
     "execution_count": 35,
     "metadata": {},
     "output_type": "execute_result"
    }
   ],
   "source": [
    "arr"
   ]
  },
  {
   "cell_type": "code",
   "execution_count": 36,
   "id": "34b47a06",
   "metadata": {},
   "outputs": [],
   "source": [
    "numeric_strings = np.array(['1.25', '-0.8', '3.4'], dtype=np.string_)"
   ]
  },
  {
   "cell_type": "code",
   "execution_count": 37,
   "id": "59a06c47",
   "metadata": {},
   "outputs": [
    {
     "data": {
      "text/plain": [
       "array([ 1.25, -0.8 ,  3.4 ])"
      ]
     },
     "execution_count": 37,
     "metadata": {},
     "output_type": "execute_result"
    }
   ],
   "source": [
    "numeric_strings.astype(float)"
   ]
  },
  {
   "cell_type": "code",
   "execution_count": 38,
   "id": "46175dab",
   "metadata": {},
   "outputs": [],
   "source": [
    "int_array = np.arange(10)"
   ]
  },
  {
   "cell_type": "code",
   "execution_count": 39,
   "id": "8b317073",
   "metadata": {},
   "outputs": [],
   "source": [
    "calibers = np.array([.22, .270, .357, .380, .44, .50], dtype=np.float64)"
   ]
  },
  {
   "cell_type": "code",
   "execution_count": 40,
   "id": "bfd01d23",
   "metadata": {},
   "outputs": [
    {
     "data": {
      "text/plain": [
       "array([0., 1., 2., 3., 4., 5., 6., 7., 8., 9.])"
      ]
     },
     "execution_count": 40,
     "metadata": {},
     "output_type": "execute_result"
    }
   ],
   "source": [
    "int_array.astype(calibers.dtype)"
   ]
  },
  {
   "cell_type": "code",
   "execution_count": 41,
   "id": "fe5ffdc9",
   "metadata": {},
   "outputs": [
    {
     "data": {
      "text/plain": [
       "array([0, 1, 2, 3, 4, 5, 6, 7, 8, 9])"
      ]
     },
     "execution_count": 41,
     "metadata": {},
     "output_type": "execute_result"
    }
   ],
   "source": [
    "int_array"
   ]
  },
  {
   "cell_type": "code",
   "execution_count": 42,
   "id": "285e7b10",
   "metadata": {},
   "outputs": [],
   "source": [
    "int_array = int_array.astype(calibers.dtype)"
   ]
  },
  {
   "cell_type": "code",
   "execution_count": 43,
   "id": "98a4a813",
   "metadata": {},
   "outputs": [
    {
     "data": {
      "text/plain": [
       "array([0., 1., 2., 3., 4., 5., 6., 7., 8., 9.])"
      ]
     },
     "execution_count": 43,
     "metadata": {},
     "output_type": "execute_result"
    }
   ],
   "source": [
    "int_array"
   ]
  },
  {
   "cell_type": "code",
   "execution_count": 44,
   "id": "c4a4dca2",
   "metadata": {},
   "outputs": [],
   "source": [
    "empty_uint32 = np.empty(8, dtype='u4')"
   ]
  },
  {
   "cell_type": "code",
   "execution_count": 45,
   "id": "29cb3d63",
   "metadata": {},
   "outputs": [
    {
     "data": {
      "text/plain": [
       "array([         0, 1075314688,          0, 1075707904,          0,\n",
       "       1075838976,          0, 1072693248], dtype=uint32)"
      ]
     },
     "execution_count": 45,
     "metadata": {},
     "output_type": "execute_result"
    }
   ],
   "source": [
    "empty_uint32"
   ]
  },
  {
   "cell_type": "code",
   "execution_count": 46,
   "id": "b514bd0b",
   "metadata": {},
   "outputs": [],
   "source": [
    "arr = np.array([[1., 2., 3.], [4., 5., 6.]])"
   ]
  },
  {
   "cell_type": "code",
   "execution_count": 47,
   "id": "6a037b00",
   "metadata": {},
   "outputs": [
    {
     "data": {
      "text/plain": [
       "array([[1., 2., 3.],\n",
       "       [4., 5., 6.]])"
      ]
     },
     "execution_count": 47,
     "metadata": {},
     "output_type": "execute_result"
    }
   ],
   "source": [
    "arr"
   ]
  },
  {
   "cell_type": "code",
   "execution_count": 48,
   "id": "767abbb5",
   "metadata": {},
   "outputs": [
    {
     "data": {
      "text/plain": [
       "dtype('float64')"
      ]
     },
     "execution_count": 48,
     "metadata": {},
     "output_type": "execute_result"
    }
   ],
   "source": [
    "arr.dtype"
   ]
  },
  {
   "cell_type": "code",
   "execution_count": 49,
   "id": "47379563",
   "metadata": {},
   "outputs": [
    {
     "data": {
      "text/plain": [
       "array([[ 1.,  4.,  9.],\n",
       "       [16., 25., 36.]])"
      ]
     },
     "execution_count": 49,
     "metadata": {},
     "output_type": "execute_result"
    }
   ],
   "source": [
    "arr * arr"
   ]
  },
  {
   "cell_type": "code",
   "execution_count": 50,
   "id": "88c7c223",
   "metadata": {},
   "outputs": [
    {
     "data": {
      "text/plain": [
       "array([[0., 0., 0.],\n",
       "       [0., 0., 0.]])"
      ]
     },
     "execution_count": 50,
     "metadata": {},
     "output_type": "execute_result"
    }
   ],
   "source": [
    "arr - arr"
   ]
  },
  {
   "cell_type": "code",
   "execution_count": 51,
   "id": "e4a3472d",
   "metadata": {},
   "outputs": [
    {
     "data": {
      "text/plain": [
       "array([[1.        , 0.5       , 0.33333333],\n",
       "       [0.25      , 0.2       , 0.16666667]])"
      ]
     },
     "execution_count": 51,
     "metadata": {},
     "output_type": "execute_result"
    }
   ],
   "source": [
    "1 / arr"
   ]
  },
  {
   "cell_type": "code",
   "execution_count": 52,
   "id": "46a72fb6",
   "metadata": {},
   "outputs": [
    {
     "data": {
      "text/plain": [
       "array([[1.        , 1.41421356, 1.73205081],\n",
       "       [2.        , 2.23606798, 2.44948974]])"
      ]
     },
     "execution_count": 52,
     "metadata": {},
     "output_type": "execute_result"
    }
   ],
   "source": [
    "arr ** 0.5"
   ]
  },
  {
   "cell_type": "code",
   "execution_count": 53,
   "id": "087529a9",
   "metadata": {},
   "outputs": [],
   "source": [
    "arr2 = np.array([[0., 4., 1.], [7., 2., 12.]])"
   ]
  },
  {
   "cell_type": "code",
   "execution_count": 54,
   "id": "8a377137",
   "metadata": {},
   "outputs": [
    {
     "data": {
      "text/plain": [
       "array([[ 0.,  4.,  1.],\n",
       "       [ 7.,  2., 12.]])"
      ]
     },
     "execution_count": 54,
     "metadata": {},
     "output_type": "execute_result"
    }
   ],
   "source": [
    "arr2"
   ]
  },
  {
   "cell_type": "code",
   "execution_count": 55,
   "id": "8c259002",
   "metadata": {},
   "outputs": [
    {
     "data": {
      "text/plain": [
       "array([[False,  True, False],\n",
       "       [ True, False,  True]])"
      ]
     },
     "execution_count": 55,
     "metadata": {},
     "output_type": "execute_result"
    }
   ],
   "source": [
    "arr2 > arr"
   ]
  },
  {
   "cell_type": "code",
   "execution_count": 56,
   "id": "ceb131b4",
   "metadata": {},
   "outputs": [],
   "source": [
    "arr = np.arange(10)"
   ]
  },
  {
   "cell_type": "code",
   "execution_count": 57,
   "id": "f430bf38",
   "metadata": {},
   "outputs": [
    {
     "data": {
      "text/plain": [
       "array([0, 1, 2, 3, 4, 5, 6, 7, 8, 9])"
      ]
     },
     "execution_count": 57,
     "metadata": {},
     "output_type": "execute_result"
    }
   ],
   "source": [
    "arr"
   ]
  },
  {
   "cell_type": "code",
   "execution_count": 58,
   "id": "703b1eb9",
   "metadata": {},
   "outputs": [
    {
     "data": {
      "text/plain": [
       "5"
      ]
     },
     "execution_count": 58,
     "metadata": {},
     "output_type": "execute_result"
    }
   ],
   "source": [
    "arr[5]"
   ]
  },
  {
   "cell_type": "code",
   "execution_count": 59,
   "id": "cdbf2c40",
   "metadata": {},
   "outputs": [
    {
     "data": {
      "text/plain": [
       "array([5, 6, 7])"
      ]
     },
     "execution_count": 59,
     "metadata": {},
     "output_type": "execute_result"
    }
   ],
   "source": [
    "arr[5:8]"
   ]
  },
  {
   "cell_type": "code",
   "execution_count": 60,
   "id": "3c0c2df3",
   "metadata": {},
   "outputs": [],
   "source": [
    "arr[5:8] = 12"
   ]
  },
  {
   "cell_type": "code",
   "execution_count": 61,
   "id": "aa006803",
   "metadata": {},
   "outputs": [
    {
     "data": {
      "text/plain": [
       "array([ 0,  1,  2,  3,  4, 12, 12, 12,  8,  9])"
      ]
     },
     "execution_count": 61,
     "metadata": {},
     "output_type": "execute_result"
    }
   ],
   "source": [
    "arr"
   ]
  },
  {
   "cell_type": "code",
   "execution_count": 62,
   "id": "b959e491",
   "metadata": {},
   "outputs": [],
   "source": [
    "arr_slice = arr[5:8]"
   ]
  },
  {
   "cell_type": "code",
   "execution_count": 63,
   "id": "05d40d2a",
   "metadata": {},
   "outputs": [
    {
     "data": {
      "text/plain": [
       "array([12, 12, 12])"
      ]
     },
     "execution_count": 63,
     "metadata": {},
     "output_type": "execute_result"
    }
   ],
   "source": [
    "arr_slice"
   ]
  },
  {
   "cell_type": "code",
   "execution_count": 64,
   "id": "43c50415",
   "metadata": {},
   "outputs": [],
   "source": [
    "arr_slice[1] = 12345"
   ]
  },
  {
   "cell_type": "code",
   "execution_count": 65,
   "id": "6e611408",
   "metadata": {},
   "outputs": [
    {
     "data": {
      "text/plain": [
       "array([    0,     1,     2,     3,     4,    12, 12345,    12,     8,\n",
       "           9])"
      ]
     },
     "execution_count": 65,
     "metadata": {},
     "output_type": "execute_result"
    }
   ],
   "source": [
    "arr"
   ]
  },
  {
   "cell_type": "code",
   "execution_count": 66,
   "id": "ce5e6beb",
   "metadata": {},
   "outputs": [],
   "source": [
    "arr_slice[:] = 64"
   ]
  },
  {
   "cell_type": "code",
   "execution_count": 67,
   "id": "fb1e2ee2",
   "metadata": {},
   "outputs": [
    {
     "data": {
      "text/plain": [
       "array([ 0,  1,  2,  3,  4, 64, 64, 64,  8,  9])"
      ]
     },
     "execution_count": 67,
     "metadata": {},
     "output_type": "execute_result"
    }
   ],
   "source": [
    "arr"
   ]
  },
  {
   "cell_type": "code",
   "execution_count": 68,
   "id": "3a734f6e",
   "metadata": {},
   "outputs": [],
   "source": [
    "arr2d = np.array([[1, 2, 3], [4, 5, 6], [7, 8, 9]])"
   ]
  },
  {
   "cell_type": "code",
   "execution_count": 69,
   "id": "1bfdac5a",
   "metadata": {},
   "outputs": [
    {
     "data": {
      "text/plain": [
       "array([7, 8, 9])"
      ]
     },
     "execution_count": 69,
     "metadata": {},
     "output_type": "execute_result"
    }
   ],
   "source": [
    "arr2d[2]"
   ]
  },
  {
   "cell_type": "code",
   "execution_count": 70,
   "id": "4e3473a3",
   "metadata": {},
   "outputs": [
    {
     "data": {
      "text/plain": [
       "3"
      ]
     },
     "execution_count": 70,
     "metadata": {},
     "output_type": "execute_result"
    }
   ],
   "source": [
    "arr2d[0][2]"
   ]
  },
  {
   "cell_type": "code",
   "execution_count": 71,
   "id": "42d6762d",
   "metadata": {},
   "outputs": [
    {
     "data": {
      "text/plain": [
       "3"
      ]
     },
     "execution_count": 71,
     "metadata": {},
     "output_type": "execute_result"
    }
   ],
   "source": [
    "arr2d[0, 2]"
   ]
  },
  {
   "cell_type": "code",
   "execution_count": 72,
   "id": "d9c91dda",
   "metadata": {},
   "outputs": [],
   "source": [
    "arr3d = np.array([[[1, 2, 3], [4, 5, 6]],[[7, 8, 9], [10, 11, 12]]])"
   ]
  },
  {
   "cell_type": "code",
   "execution_count": 73,
   "id": "37d1a76b",
   "metadata": {},
   "outputs": [
    {
     "data": {
      "text/plain": [
       "array([[1, 2, 3],\n",
       "       [4, 5, 6]])"
      ]
     },
     "execution_count": 73,
     "metadata": {},
     "output_type": "execute_result"
    }
   ],
   "source": [
    "arr3d[0]"
   ]
  },
  {
   "cell_type": "code",
   "execution_count": 74,
   "id": "cbf41bf0",
   "metadata": {},
   "outputs": [
    {
     "data": {
      "text/plain": [
       "array([[ 7,  8,  9],\n",
       "       [10, 11, 12]])"
      ]
     },
     "execution_count": 74,
     "metadata": {},
     "output_type": "execute_result"
    }
   ],
   "source": [
    "arr3d[1]"
   ]
  },
  {
   "cell_type": "code",
   "execution_count": 75,
   "id": "bf9590b7",
   "metadata": {},
   "outputs": [],
   "source": [
    "old_values = arr3d[0].copy()"
   ]
  },
  {
   "cell_type": "code",
   "execution_count": 76,
   "id": "385e041c",
   "metadata": {},
   "outputs": [],
   "source": [
    "arr3d[0] = 42"
   ]
  },
  {
   "cell_type": "code",
   "execution_count": 77,
   "id": "d7194ddd",
   "metadata": {},
   "outputs": [
    {
     "data": {
      "text/plain": [
       "array([[[42, 42, 42],\n",
       "        [42, 42, 42]],\n",
       "\n",
       "       [[ 7,  8,  9],\n",
       "        [10, 11, 12]]])"
      ]
     },
     "execution_count": 77,
     "metadata": {},
     "output_type": "execute_result"
    }
   ],
   "source": [
    "arr3d"
   ]
  },
  {
   "cell_type": "code",
   "execution_count": 78,
   "id": "f6a79281",
   "metadata": {},
   "outputs": [],
   "source": [
    "arr3d[0] = old_values"
   ]
  },
  {
   "cell_type": "code",
   "execution_count": 79,
   "id": "a6a2b0f1",
   "metadata": {},
   "outputs": [
    {
     "data": {
      "text/plain": [
       "array([[[ 1,  2,  3],\n",
       "        [ 4,  5,  6]],\n",
       "\n",
       "       [[ 7,  8,  9],\n",
       "        [10, 11, 12]]])"
      ]
     },
     "execution_count": 79,
     "metadata": {},
     "output_type": "execute_result"
    }
   ],
   "source": [
    "arr3d"
   ]
  },
  {
   "cell_type": "code",
   "execution_count": 80,
   "id": "6fa7f8e5",
   "metadata": {},
   "outputs": [
    {
     "data": {
      "text/plain": [
       "array([7, 8, 9])"
      ]
     },
     "execution_count": 80,
     "metadata": {},
     "output_type": "execute_result"
    }
   ],
   "source": [
    "arr3d[1, 0]"
   ]
  },
  {
   "cell_type": "code",
   "execution_count": 81,
   "id": "999448c1",
   "metadata": {},
   "outputs": [],
   "source": [
    "x = arr3d[1]"
   ]
  },
  {
   "cell_type": "code",
   "execution_count": 82,
   "id": "798d0ee2",
   "metadata": {},
   "outputs": [
    {
     "data": {
      "text/plain": [
       "array([[ 7,  8,  9],\n",
       "       [10, 11, 12]])"
      ]
     },
     "execution_count": 82,
     "metadata": {},
     "output_type": "execute_result"
    }
   ],
   "source": [
    "x"
   ]
  },
  {
   "cell_type": "code",
   "execution_count": 83,
   "id": "4b3909b2",
   "metadata": {},
   "outputs": [
    {
     "data": {
      "text/plain": [
       "array([7, 8, 9])"
      ]
     },
     "execution_count": 83,
     "metadata": {},
     "output_type": "execute_result"
    }
   ],
   "source": [
    "x[0]"
   ]
  },
  {
   "cell_type": "code",
   "execution_count": 84,
   "id": "646fd3a7",
   "metadata": {},
   "outputs": [
    {
     "data": {
      "text/plain": [
       "array([ 0,  1,  2,  3,  4, 64, 64, 64,  8,  9])"
      ]
     },
     "execution_count": 84,
     "metadata": {},
     "output_type": "execute_result"
    }
   ],
   "source": [
    "arr"
   ]
  },
  {
   "cell_type": "code",
   "execution_count": 85,
   "id": "c18e2325",
   "metadata": {},
   "outputs": [
    {
     "data": {
      "text/plain": [
       "array([ 1,  2,  3,  4, 64])"
      ]
     },
     "execution_count": 85,
     "metadata": {},
     "output_type": "execute_result"
    }
   ],
   "source": [
    "arr[1:6]"
   ]
  },
  {
   "cell_type": "code",
   "execution_count": 86,
   "id": "8469e147",
   "metadata": {},
   "outputs": [
    {
     "data": {
      "text/plain": [
       "array([[1, 2, 3],\n",
       "       [4, 5, 6],\n",
       "       [7, 8, 9]])"
      ]
     },
     "execution_count": 86,
     "metadata": {},
     "output_type": "execute_result"
    }
   ],
   "source": [
    "arr2d"
   ]
  },
  {
   "cell_type": "code",
   "execution_count": 87,
   "id": "ce9a31ae",
   "metadata": {},
   "outputs": [
    {
     "data": {
      "text/plain": [
       "array([[1, 2, 3],\n",
       "       [4, 5, 6]])"
      ]
     },
     "execution_count": 87,
     "metadata": {},
     "output_type": "execute_result"
    }
   ],
   "source": [
    "arr2d[:2]"
   ]
  },
  {
   "cell_type": "code",
   "execution_count": 88,
   "id": "990d4b87",
   "metadata": {},
   "outputs": [
    {
     "data": {
      "text/plain": [
       "array([[2, 3],\n",
       "       [5, 6]])"
      ]
     },
     "execution_count": 88,
     "metadata": {},
     "output_type": "execute_result"
    }
   ],
   "source": [
    "arr2d[:2, 1:]"
   ]
  },
  {
   "cell_type": "code",
   "execution_count": 89,
   "id": "97efb9a0",
   "metadata": {},
   "outputs": [],
   "source": [
    "names = np.array(['Bob', 'Joe', 'Will', 'Bob', 'Will', 'Joe', 'Joe'])"
   ]
  },
  {
   "cell_type": "code",
   "execution_count": 90,
   "id": "1d7bee28",
   "metadata": {},
   "outputs": [],
   "source": [
    "data = np.random.randn(7, 4)"
   ]
  },
  {
   "cell_type": "code",
   "execution_count": 91,
   "id": "a2fd07d3",
   "metadata": {},
   "outputs": [
    {
     "data": {
      "text/plain": [
       "array(['Bob', 'Joe', 'Will', 'Bob', 'Will', 'Joe', 'Joe'], dtype='<U4')"
      ]
     },
     "execution_count": 91,
     "metadata": {},
     "output_type": "execute_result"
    }
   ],
   "source": [
    "names"
   ]
  },
  {
   "cell_type": "code",
   "execution_count": 92,
   "id": "c10e10c6",
   "metadata": {},
   "outputs": [
    {
     "data": {
      "text/plain": [
       "array([[ 0.53720918,  0.75816087,  1.12244337,  0.46989016],\n",
       "       [-0.72179322,  2.74828942,  0.54899287,  1.57987467],\n",
       "       [-1.18692392,  0.09254231,  1.18105505, -0.31023001],\n",
       "       [ 1.74496982,  2.04671148,  0.1453375 , -0.33704966],\n",
       "       [ 1.21163912,  1.37486084,  1.155683  , -0.45395645],\n",
       "       [-0.93880477, -0.3001324 , -0.90698703, -1.71074771],\n",
       "       [ 0.78371083, -0.12182352,  1.02900365,  2.08627088]])"
      ]
     },
     "execution_count": 92,
     "metadata": {},
     "output_type": "execute_result"
    }
   ],
   "source": [
    "data"
   ]
  },
  {
   "cell_type": "code",
   "execution_count": 93,
   "id": "89b141aa",
   "metadata": {},
   "outputs": [
    {
     "data": {
      "text/plain": [
       "array([ True, False, False,  True, False, False, False])"
      ]
     },
     "execution_count": 93,
     "metadata": {},
     "output_type": "execute_result"
    }
   ],
   "source": [
    "names == 'Bob'"
   ]
  },
  {
   "cell_type": "code",
   "execution_count": 94,
   "id": "08f1d740",
   "metadata": {},
   "outputs": [
    {
     "data": {
      "text/plain": [
       "array([[ 0.53720918,  0.75816087,  1.12244337,  0.46989016],\n",
       "       [ 1.74496982,  2.04671148,  0.1453375 , -0.33704966]])"
      ]
     },
     "execution_count": 94,
     "metadata": {},
     "output_type": "execute_result"
    }
   ],
   "source": [
    "data[names == 'Bob']"
   ]
  },
  {
   "cell_type": "code",
   "execution_count": 95,
   "id": "fa677b0b",
   "metadata": {},
   "outputs": [
    {
     "data": {
      "text/plain": [
       "array([[ 1.12244337,  0.46989016],\n",
       "       [ 0.1453375 , -0.33704966]])"
      ]
     },
     "execution_count": 95,
     "metadata": {},
     "output_type": "execute_result"
    }
   ],
   "source": [
    "data[names == 'Bob', 2:]"
   ]
  },
  {
   "cell_type": "code",
   "execution_count": 96,
   "id": "a67cdec8",
   "metadata": {},
   "outputs": [
    {
     "data": {
      "text/plain": [
       "array([[ 0.53720918,  0.75816087,  1.12244337,  0.46989016],\n",
       "       [-0.72179322,  2.74828942,  0.54899287,  1.57987467],\n",
       "       [-1.18692392,  0.09254231,  1.18105505, -0.31023001],\n",
       "       [ 1.74496982,  2.04671148,  0.1453375 , -0.33704966],\n",
       "       [ 1.21163912,  1.37486084,  1.155683  , -0.45395645],\n",
       "       [-0.93880477, -0.3001324 , -0.90698703, -1.71074771],\n",
       "       [ 0.78371083, -0.12182352,  1.02900365,  2.08627088]])"
      ]
     },
     "execution_count": 96,
     "metadata": {},
     "output_type": "execute_result"
    }
   ],
   "source": [
    "data"
   ]
  },
  {
   "cell_type": "code",
   "execution_count": 97,
   "id": "247053e9",
   "metadata": {},
   "outputs": [
    {
     "data": {
      "text/plain": [
       "array([False,  True,  True, False,  True,  True,  True])"
      ]
     },
     "execution_count": 97,
     "metadata": {},
     "output_type": "execute_result"
    }
   ],
   "source": [
    "names != 'Bob'"
   ]
  },
  {
   "cell_type": "code",
   "execution_count": 98,
   "id": "831028b9",
   "metadata": {},
   "outputs": [
    {
     "data": {
      "text/plain": [
       "array([[-0.72179322,  2.74828942,  0.54899287,  1.57987467],\n",
       "       [-1.18692392,  0.09254231,  1.18105505, -0.31023001],\n",
       "       [ 1.21163912,  1.37486084,  1.155683  , -0.45395645],\n",
       "       [-0.93880477, -0.3001324 , -0.90698703, -1.71074771],\n",
       "       [ 0.78371083, -0.12182352,  1.02900365,  2.08627088]])"
      ]
     },
     "execution_count": 98,
     "metadata": {},
     "output_type": "execute_result"
    }
   ],
   "source": [
    "data[~(names == 'Bob')]"
   ]
  },
  {
   "cell_type": "code",
   "execution_count": 99,
   "id": "9885136b",
   "metadata": {},
   "outputs": [],
   "source": [
    "cond = names == 'Bob'"
   ]
  },
  {
   "cell_type": "code",
   "execution_count": 100,
   "id": "80585b85",
   "metadata": {},
   "outputs": [
    {
     "data": {
      "text/plain": [
       "array([[-0.72179322,  2.74828942,  0.54899287,  1.57987467],\n",
       "       [-1.18692392,  0.09254231,  1.18105505, -0.31023001],\n",
       "       [ 1.21163912,  1.37486084,  1.155683  , -0.45395645],\n",
       "       [-0.93880477, -0.3001324 , -0.90698703, -1.71074771],\n",
       "       [ 0.78371083, -0.12182352,  1.02900365,  2.08627088]])"
      ]
     },
     "execution_count": 100,
     "metadata": {},
     "output_type": "execute_result"
    }
   ],
   "source": [
    "data[~cond]"
   ]
  },
  {
   "cell_type": "code",
   "execution_count": 101,
   "id": "8fa20369",
   "metadata": {},
   "outputs": [],
   "source": [
    "mask = (names == 'Bob') | (names == 'Will')"
   ]
  },
  {
   "cell_type": "code",
   "execution_count": 102,
   "id": "c1d6433c",
   "metadata": {},
   "outputs": [
    {
     "data": {
      "text/plain": [
       "array([ True, False,  True,  True,  True, False, False])"
      ]
     },
     "execution_count": 102,
     "metadata": {},
     "output_type": "execute_result"
    }
   ],
   "source": [
    "mask"
   ]
  },
  {
   "cell_type": "code",
   "execution_count": 103,
   "id": "6a908e99",
   "metadata": {},
   "outputs": [
    {
     "data": {
      "text/plain": [
       "array([[ 0.53720918,  0.75816087,  1.12244337,  0.46989016],\n",
       "       [-1.18692392,  0.09254231,  1.18105505, -0.31023001],\n",
       "       [ 1.74496982,  2.04671148,  0.1453375 , -0.33704966],\n",
       "       [ 1.21163912,  1.37486084,  1.155683  , -0.45395645]])"
      ]
     },
     "execution_count": 103,
     "metadata": {},
     "output_type": "execute_result"
    }
   ],
   "source": [
    "data[mask]"
   ]
  },
  {
   "cell_type": "code",
   "execution_count": 104,
   "id": "885acbae",
   "metadata": {},
   "outputs": [],
   "source": [
    "data[data < 0] = 0"
   ]
  },
  {
   "cell_type": "code",
   "execution_count": 105,
   "id": "844f59b2",
   "metadata": {},
   "outputs": [
    {
     "data": {
      "text/plain": [
       "array([[0.53720918, 0.75816087, 1.12244337, 0.46989016],\n",
       "       [0.        , 2.74828942, 0.54899287, 1.57987467],\n",
       "       [0.        , 0.09254231, 1.18105505, 0.        ],\n",
       "       [1.74496982, 2.04671148, 0.1453375 , 0.        ],\n",
       "       [1.21163912, 1.37486084, 1.155683  , 0.        ],\n",
       "       [0.        , 0.        , 0.        , 0.        ],\n",
       "       [0.78371083, 0.        , 1.02900365, 2.08627088]])"
      ]
     },
     "execution_count": 105,
     "metadata": {},
     "output_type": "execute_result"
    }
   ],
   "source": [
    "data"
   ]
  },
  {
   "cell_type": "code",
   "execution_count": 106,
   "id": "fe3f95bd",
   "metadata": {},
   "outputs": [],
   "source": [
    "points = np.arange(-5, 5, 0.01)"
   ]
  },
  {
   "cell_type": "code",
   "execution_count": 107,
   "id": "97db4cf8",
   "metadata": {},
   "outputs": [],
   "source": [
    "xs, ys = np.meshgrid(points, points)"
   ]
  },
  {
   "cell_type": "code",
   "execution_count": 108,
   "id": "ab26a91e",
   "metadata": {},
   "outputs": [
    {
     "data": {
      "text/plain": [
       "array([[-5.  , -5.  , -5.  , ..., -5.  , -5.  , -5.  ],\n",
       "       [-4.99, -4.99, -4.99, ..., -4.99, -4.99, -4.99],\n",
       "       [-4.98, -4.98, -4.98, ..., -4.98, -4.98, -4.98],\n",
       "       ...,\n",
       "       [ 4.97,  4.97,  4.97, ...,  4.97,  4.97,  4.97],\n",
       "       [ 4.98,  4.98,  4.98, ...,  4.98,  4.98,  4.98],\n",
       "       [ 4.99,  4.99,  4.99, ...,  4.99,  4.99,  4.99]])"
      ]
     },
     "execution_count": 108,
     "metadata": {},
     "output_type": "execute_result"
    }
   ],
   "source": [
    "ys"
   ]
  },
  {
   "cell_type": "code",
   "execution_count": 109,
   "id": "62b1e354",
   "metadata": {},
   "outputs": [],
   "source": [
    "z = np.sqrt(xs ** 2 + ys ** 2)"
   ]
  },
  {
   "cell_type": "code",
   "execution_count": 110,
   "id": "209fa659",
   "metadata": {},
   "outputs": [
    {
     "data": {
      "text/plain": [
       "array([[7.07106781, 7.06400028, 7.05693985, ..., 7.04988652, 7.05693985,\n",
       "        7.06400028],\n",
       "       [7.06400028, 7.05692568, 7.04985815, ..., 7.04279774, 7.04985815,\n",
       "        7.05692568],\n",
       "       [7.05693985, 7.04985815, 7.04278354, ..., 7.03571603, 7.04278354,\n",
       "        7.04985815],\n",
       "       ...,\n",
       "       [7.04988652, 7.04279774, 7.03571603, ..., 7.0286414 , 7.03571603,\n",
       "        7.04279774],\n",
       "       [7.05693985, 7.04985815, 7.04278354, ..., 7.03571603, 7.04278354,\n",
       "        7.04985815],\n",
       "       [7.06400028, 7.05692568, 7.04985815, ..., 7.04279774, 7.04985815,\n",
       "        7.05692568]])"
      ]
     },
     "execution_count": 110,
     "metadata": {},
     "output_type": "execute_result"
    }
   ],
   "source": [
    "z"
   ]
  },
  {
   "cell_type": "code",
   "execution_count": 111,
   "id": "b7a13d64",
   "metadata": {},
   "outputs": [],
   "source": [
    "import matplotlib.pyplot as plt"
   ]
  },
  {
   "cell_type": "code",
   "execution_count": 112,
   "id": "51dd5f42",
   "metadata": {},
   "outputs": [
    {
     "data": {
      "text/plain": [
       "Text(0.5, 1.0, 'image plot of $\\\\sqrt{x^2 + y^2}$ for a grid of values')"
      ]
     },
     "execution_count": 112,
     "metadata": {},
     "output_type": "execute_result"
    },
    {
     "data": {
      "image/png": "[encoded data removed]",
      "text/plain": [
       "<Figure size 432x288 with 2 Axes>"
      ]
     },
     "metadata": {
      "needs_background": "light"
     },
     "output_type": "display_data"
    }
   ],
   "source": [
    "plt.imshow(z, cmap=plt.cm.gray); plt.colorbar();\n",
    "plt.title(\"image plot of $\\sqrt{x^2 + y^2}$ for a grid of values\")"
   ]
  },
  {
   "cell_type": "code",
   "execution_count": 113,
   "id": "1619168b",
   "metadata": {},
   "outputs": [],
   "source": [
    "xarr = np.array([1.1, 1.2, 1.3, 1.4, 1.5])"
   ]
  },
  {
   "cell_type": "code",
   "execution_count": 114,
   "id": "c8a11bd2",
   "metadata": {},
   "outputs": [],
   "source": [
    "yarr = np.array([2.1, 2.2, 2.3, 2.4, 2.5])"
   ]
  },
  {
   "cell_type": "code",
   "execution_count": 115,
   "id": "59da9b7b",
   "metadata": {},
   "outputs": [],
   "source": [
    "cond = np.array([True, False, True, True, False])"
   ]
  },
  {
   "cell_type": "code",
   "execution_count": 116,
   "id": "8fb09e5e",
   "metadata": {},
   "outputs": [],
   "source": [
    "result = [x if c else y for x, y, c in zip(xarr, yarr, cond)]"
   ]
  },
  {
   "cell_type": "code",
   "execution_count": 117,
   "id": "e069aba5",
   "metadata": {},
   "outputs": [
    {
     "data": {
      "text/plain": [
       "[1.1, 2.2, 1.3, 1.4, 2.5]"
      ]
     },
     "execution_count": 117,
     "metadata": {},
     "output_type": "execute_result"
    }
   ],
   "source": [
    "result"
   ]
  },
  {
   "cell_type": "code",
   "execution_count": 118,
   "id": "fc96518c",
   "metadata": {},
   "outputs": [],
   "source": [
    "result = np.where(cond, xarr, yarr)"
   ]
  },
  {
   "cell_type": "code",
   "execution_count": 119,
   "id": "06e3db07",
   "metadata": {},
   "outputs": [
    {
     "data": {
      "text/plain": [
       "array([1.1, 2.2, 1.3, 1.4, 2.5])"
      ]
     },
     "execution_count": 119,
     "metadata": {},
     "output_type": "execute_result"
    }
   ],
   "source": [
    "result"
   ]
  },
  {
   "cell_type": "code",
   "execution_count": 120,
   "id": "136956f4",
   "metadata": {},
   "outputs": [],
   "source": [
    "arr = np.random.randn(4, 4)"
   ]
  },
  {
   "cell_type": "code",
   "execution_count": 121,
   "id": "fde11498",
   "metadata": {},
   "outputs": [
    {
     "data": {
      "text/plain": [
       "array([[ 0.58359705,  0.87659179,  0.40878885, -1.45458444],\n",
       "       [ 0.40713078,  0.97373577,  0.32390934, -1.12961014],\n",
       "       [-0.32867978,  1.21650066, -2.39434985, -0.46700276],\n",
       "       [ 0.15033058,  0.82930367,  0.25596146,  0.78560793]])"
      ]
     },
     "execution_count": 121,
     "metadata": {},
     "output_type": "execute_result"
    }
   ],
   "source": [
    "arr"
   ]
  },
  {
   "cell_type": "code",
   "execution_count": 122,
   "id": "2ce38760",
   "metadata": {},
   "outputs": [
    {
     "data": {
      "text/plain": [
       "array([[ True,  True,  True, False],\n",
       "       [ True,  True,  True, False],\n",
       "       [False,  True, False, False],\n",
       "       [ True,  True,  True,  True]])"
      ]
     },
     "execution_count": 122,
     "metadata": {},
     "output_type": "execute_result"
    }
   ],
   "source": [
    "arr > 0"
   ]
  },
  {
   "cell_type": "code",
   "execution_count": 123,
   "id": "97827a54",
   "metadata": {},
   "outputs": [
    {
     "data": {
      "text/plain": [
       "array([[ 2,  2,  2, -2],\n",
       "       [ 2,  2,  2, -2],\n",
       "       [-2,  2, -2, -2],\n",
       "       [ 2,  2,  2,  2]])"
      ]
     },
     "execution_count": 123,
     "metadata": {},
     "output_type": "execute_result"
    }
   ],
   "source": [
    "np.where(arr > 0, 2, -2)"
   ]
  },
  {
   "cell_type": "code",
   "execution_count": 124,
   "id": "f0e020c6",
   "metadata": {},
   "outputs": [
    {
     "data": {
      "text/plain": [
       "array([[ 2.        ,  2.        ,  2.        , -1.45458444],\n",
       "       [ 2.        ,  2.        ,  2.        , -1.12961014],\n",
       "       [-0.32867978,  2.        , -2.39434985, -0.46700276],\n",
       "       [ 2.        ,  2.        ,  2.        ,  2.        ]])"
      ]
     },
     "execution_count": 124,
     "metadata": {},
     "output_type": "execute_result"
    }
   ],
   "source": [
    "np.where(arr > 0, 2 ,arr) #set only positive value to 2"
   ]
  },
  {
   "cell_type": "code",
   "execution_count": 125,
   "id": "8e158948",
   "metadata": {},
   "outputs": [],
   "source": [
    "arr = np.random.randn(5, 4)"
   ]
  },
  {
   "cell_type": "code",
   "execution_count": 126,
   "id": "e9266cdf",
   "metadata": {},
   "outputs": [
    {
     "data": {
      "text/plain": [
       "array([[ 0.37760246,  0.23559007, -0.26780349, -1.96966584],\n",
       "       [ 1.14545246,  0.63855616, -0.65465744,  0.25520795],\n",
       "       [-0.35296305,  0.53797899, -0.09854225, -2.21286864],\n",
       "       [-1.26845859,  0.81646962, -0.38520745,  0.82600551],\n",
       "       [-0.10389919,  0.69357287, -0.84718717, -0.66648973]])"
      ]
     },
     "execution_count": 126,
     "metadata": {},
     "output_type": "execute_result"
    }
   ],
   "source": [
    "arr"
   ]
  },
  {
   "cell_type": "code",
   "execution_count": 127,
   "id": "1732fbbe",
   "metadata": {},
   "outputs": [
    {
     "data": {
      "text/plain": [
       "-0.16506533684956676"
      ]
     },
     "execution_count": 127,
     "metadata": {},
     "output_type": "execute_result"
    }
   ],
   "source": [
    "arr.mean()"
   ]
  },
  {
   "cell_type": "code",
   "execution_count": 128,
   "id": "7fe5dd6b",
   "metadata": {},
   "outputs": [
    {
     "data": {
      "text/plain": [
       "-0.16506533684956676"
      ]
     },
     "execution_count": 128,
     "metadata": {},
     "output_type": "execute_result"
    }
   ],
   "source": [
    "np.mean(arr)"
   ]
  },
  {
   "cell_type": "code",
   "execution_count": 129,
   "id": "9061578b",
   "metadata": {},
   "outputs": [
    {
     "data": {
      "text/plain": [
       "-3.301306736991335"
      ]
     },
     "execution_count": 129,
     "metadata": {},
     "output_type": "execute_result"
    }
   ],
   "source": [
    "arr.sum()"
   ]
  },
  {
   "cell_type": "code",
   "execution_count": 130,
   "id": "ab65922d",
   "metadata": {},
   "outputs": [
    {
     "data": {
      "text/plain": [
       "array([-0.4060692 ,  0.34613978, -0.53159874, -0.00279773, -0.2310008 ])"
      ]
     },
     "execution_count": 130,
     "metadata": {},
     "output_type": "execute_result"
    }
   ],
   "source": [
    "arr.mean(axis=1)"
   ]
  },
  {
   "cell_type": "code",
   "execution_count": 131,
   "id": "bd67465a",
   "metadata": {},
   "outputs": [
    {
     "data": {
      "text/plain": [
       "array([-0.20226591,  2.92216771, -2.2533978 , -3.76781074])"
      ]
     },
     "execution_count": 131,
     "metadata": {},
     "output_type": "execute_result"
    }
   ],
   "source": [
    "arr.sum(axis=0)"
   ]
  },
  {
   "cell_type": "code",
   "execution_count": 132,
   "id": "1fa99028",
   "metadata": {},
   "outputs": [],
   "source": [
    "arr = np.arange(8)"
   ]
  },
  {
   "cell_type": "code",
   "execution_count": 133,
   "id": "627b2c62",
   "metadata": {},
   "outputs": [
    {
     "data": {
      "text/plain": [
       "array([0, 1, 2, 3, 4, 5, 6, 7])"
      ]
     },
     "execution_count": 133,
     "metadata": {},
     "output_type": "execute_result"
    }
   ],
   "source": [
    "arr"
   ]
  },
  {
   "cell_type": "code",
   "execution_count": 134,
   "id": "61e75e50",
   "metadata": {},
   "outputs": [
    {
     "data": {
      "text/plain": [
       "array([ 0,  1,  3,  6, 10, 15, 21, 28], dtype=int32)"
      ]
     },
     "execution_count": 134,
     "metadata": {},
     "output_type": "execute_result"
    }
   ],
   "source": [
    "arr.cumsum()"
   ]
  },
  {
   "cell_type": "code",
   "execution_count": 135,
   "id": "897dcf5a",
   "metadata": {},
   "outputs": [],
   "source": [
    "arr = np.array([[1, 2, 3], [4, 5, 6], [6, 7, 8]])"
   ]
  },
  {
   "cell_type": "code",
   "execution_count": 136,
   "id": "7c167ec3",
   "metadata": {},
   "outputs": [
    {
     "data": {
      "text/plain": [
       "array([[1, 2, 3],\n",
       "       [4, 5, 6],\n",
       "       [6, 7, 8]])"
      ]
     },
     "execution_count": 136,
     "metadata": {},
     "output_type": "execute_result"
    }
   ],
   "source": [
    "arr"
   ]
  },
  {
   "cell_type": "code",
   "execution_count": 137,
   "id": "46d448f3",
   "metadata": {},
   "outputs": [
    {
     "data": {
      "text/plain": [
       "array([[ 1,  2,  3],\n",
       "       [ 5,  7,  9],\n",
       "       [11, 14, 17]], dtype=int32)"
      ]
     },
     "execution_count": 137,
     "metadata": {},
     "output_type": "execute_result"
    }
   ],
   "source": [
    "arr.cumsum(axis=0)"
   ]
  },
  {
   "cell_type": "code",
   "execution_count": 138,
   "id": "69addf1f",
   "metadata": {},
   "outputs": [
    {
     "data": {
      "text/plain": [
       "array([[  1,   2,   6],\n",
       "       [  4,  20, 120],\n",
       "       [  6,  42, 336]], dtype=int32)"
      ]
     },
     "execution_count": 138,
     "metadata": {},
     "output_type": "execute_result"
    }
   ],
   "source": [
    "arr.cumprod(axis=1)"
   ]
  },
  {
   "cell_type": "code",
   "execution_count": 139,
   "id": "9aa84df2",
   "metadata": {},
   "outputs": [],
   "source": [
    "arr = np.random.randn(100)"
   ]
  },
  {
   "cell_type": "code",
   "execution_count": 140,
   "id": "ffef38a7",
   "metadata": {},
   "outputs": [
    {
     "data": {
      "text/plain": [
       "46"
      ]
     },
     "execution_count": 140,
     "metadata": {},
     "output_type": "execute_result"
    }
   ],
   "source": [
    "(arr > 0).sum()"
   ]
  },
  {
   "cell_type": "code",
   "execution_count": 141,
   "id": "1da48416",
   "metadata": {},
   "outputs": [],
   "source": [
    "bools = np.array([False, False, True, False])"
   ]
  },
  {
   "cell_type": "code",
   "execution_count": 142,
   "id": "4710dfa7",
   "metadata": {},
   "outputs": [
    {
     "data": {
      "text/plain": [
       "True"
      ]
     },
     "execution_count": 142,
     "metadata": {},
     "output_type": "execute_result"
    }
   ],
   "source": [
    "bools.any()"
   ]
  },
  {
   "cell_type": "code",
   "execution_count": 143,
   "id": "930d796c",
   "metadata": {},
   "outputs": [
    {
     "data": {
      "text/plain": [
       "False"
      ]
     },
     "execution_count": 143,
     "metadata": {},
     "output_type": "execute_result"
    }
   ],
   "source": [
    "bools.all()"
   ]
  },
  {
   "cell_type": "code",
   "execution_count": 144,
   "id": "caf17e8c",
   "metadata": {},
   "outputs": [],
   "source": [
    "arr = np.random.randn(6)"
   ]
  },
  {
   "cell_type": "code",
   "execution_count": 145,
   "id": "3c912806",
   "metadata": {},
   "outputs": [
    {
     "data": {
      "text/plain": [
       "array([-0.95744949,  0.90221344, -1.21203347,  1.3659439 , -0.57152498,\n",
       "       -0.49627466])"
      ]
     },
     "execution_count": 145,
     "metadata": {},
     "output_type": "execute_result"
    }
   ],
   "source": [
    "arr"
   ]
  },
  {
   "cell_type": "code",
   "execution_count": 146,
   "id": "029f8d80",
   "metadata": {},
   "outputs": [],
   "source": [
    "arr.sort()"
   ]
  },
  {
   "cell_type": "code",
   "execution_count": 147,
   "id": "820eac79",
   "metadata": {},
   "outputs": [
    {
     "data": {
      "text/plain": [
       "array([-1.21203347, -0.95744949, -0.57152498, -0.49627466,  0.90221344,\n",
       "        1.3659439 ])"
      ]
     },
     "execution_count": 147,
     "metadata": {},
     "output_type": "execute_result"
    }
   ],
   "source": [
    "arr"
   ]
  },
  {
   "cell_type": "code",
   "execution_count": 148,
   "id": "acae723f",
   "metadata": {},
   "outputs": [],
   "source": [
    "arr = np.random.randn(5, 3)"
   ]
  },
  {
   "cell_type": "code",
   "execution_count": 149,
   "id": "370513a1",
   "metadata": {},
   "outputs": [
    {
     "data": {
      "text/plain": [
       "array([[-1.36802351,  1.81445045,  1.72800871],\n",
       "       [ 1.09504014, -0.35202155,  1.53154566],\n",
       "       [-0.43237144,  0.31149721,  1.39096112],\n",
       "       [ 1.21929874,  0.06292799,  0.37185028],\n",
       "       [-0.55143008, -0.33670126, -0.63791918]])"
      ]
     },
     "execution_count": 149,
     "metadata": {},
     "output_type": "execute_result"
    }
   ],
   "source": [
    "arr"
   ]
  },
  {
   "cell_type": "code",
   "execution_count": 150,
   "id": "82a34c15",
   "metadata": {},
   "outputs": [],
   "source": [
    "arr.sort(1)"
   ]
  },
  {
   "cell_type": "code",
   "execution_count": 151,
   "id": "6819d45a",
   "metadata": {},
   "outputs": [
    {
     "data": {
      "text/plain": [
       "array([[-1.36802351,  1.72800871,  1.81445045],\n",
       "       [-0.35202155,  1.09504014,  1.53154566],\n",
       "       [-0.43237144,  0.31149721,  1.39096112],\n",
       "       [ 0.06292799,  0.37185028,  1.21929874],\n",
       "       [-0.63791918, -0.55143008, -0.33670126]])"
      ]
     },
     "execution_count": 151,
     "metadata": {},
     "output_type": "execute_result"
    }
   ],
   "source": [
    "arr"
   ]
  },
  {
   "cell_type": "code",
   "execution_count": 152,
   "id": "6acfaee5",
   "metadata": {},
   "outputs": [],
   "source": [
    "arr.sort(0)"
   ]
  },
  {
   "cell_type": "code",
   "execution_count": 153,
   "id": "19ccbe89",
   "metadata": {},
   "outputs": [
    {
     "data": {
      "text/plain": [
       "array([[-1.36802351, -0.55143008, -0.33670126],\n",
       "       [-0.63791918,  0.31149721,  1.21929874],\n",
       "       [-0.43237144,  0.37185028,  1.39096112],\n",
       "       [-0.35202155,  1.09504014,  1.53154566],\n",
       "       [ 0.06292799,  1.72800871,  1.81445045]])"
      ]
     },
     "execution_count": 153,
     "metadata": {},
     "output_type": "execute_result"
    }
   ],
   "source": [
    "arr"
   ]
  },
  {
   "cell_type": "code",
   "execution_count": 154,
   "id": "5350566c",
   "metadata": {},
   "outputs": [],
   "source": [
    "large_arr = np.random.randn(1000)"
   ]
  },
  {
   "cell_type": "code",
   "execution_count": 155,
   "id": "1b5e68e0",
   "metadata": {},
   "outputs": [],
   "source": [
    "large_arr.sort()"
   ]
  },
  {
   "cell_type": "code",
   "execution_count": 156,
   "id": "cde85d87",
   "metadata": {},
   "outputs": [
    {
     "data": {
      "text/plain": [
       "array([-3.51603302e+00, -2.74146053e+00, -2.68383287e+00, -2.67342619e+00,\n",
       "       -2.55674624e+00, -2.49976064e+00, -2.43749873e+00, -2.28860635e+00,\n",
       "       -2.25393804e+00, -2.21371953e+00, -2.20612162e+00, -2.10639364e+00,\n",
       "       -2.09797156e+00, -2.04671536e+00, -1.99650878e+00, -1.97922787e+00,\n",
       "       -1.97890344e+00, -1.96776283e+00, -1.96237764e+00, -1.96114070e+00,\n",
       "       -1.95406206e+00, -1.94461765e+00, -1.92944263e+00, -1.91291147e+00,\n",
       "       -1.88325860e+00, -1.88166289e+00, -1.87803094e+00, -1.86982104e+00,\n",
       "       -1.85930856e+00, -1.85871116e+00, -1.84954015e+00, -1.84640150e+00,\n",
       "       -1.82829756e+00, -1.81116809e+00, -1.78741774e+00, -1.78591032e+00,\n",
       "       -1.75270349e+00, -1.74265121e+00, -1.72131812e+00, -1.70317524e+00,\n",
       "       -1.69613472e+00, -1.69046155e+00, -1.68127043e+00, -1.66392722e+00,\n",
       "       -1.64986009e+00, -1.62862661e+00, -1.62802666e+00, -1.62091318e+00,\n",
       "       -1.61609501e+00, -1.60019040e+00, -1.59434912e+00, -1.56573354e+00,\n",
       "       -1.55354967e+00, -1.53820613e+00, -1.52667467e+00, -1.50483926e+00,\n",
       "       -1.50436014e+00, -1.48535521e+00, -1.48493042e+00, -1.47736307e+00,\n",
       "       -1.47347221e+00, -1.46393323e+00, -1.45768353e+00, -1.45605951e+00,\n",
       "       -1.44206479e+00, -1.44175744e+00, -1.43759887e+00, -1.42100322e+00,\n",
       "       -1.41968919e+00, -1.41931913e+00, -1.41271584e+00, -1.40853302e+00,\n",
       "       -1.40203342e+00, -1.39046001e+00, -1.38658899e+00, -1.38322149e+00,\n",
       "       -1.37912125e+00, -1.37705097e+00, -1.36061212e+00, -1.34720850e+00,\n",
       "       -1.33996199e+00, -1.33803736e+00, -1.33405877e+00, -1.32619711e+00,\n",
       "       -1.32562720e+00, -1.31961625e+00, -1.29387971e+00, -1.28534299e+00,\n",
       "       -1.27614785e+00, -1.27606955e+00, -1.25938600e+00, -1.25742021e+00,\n",
       "       -1.24797420e+00, -1.23141988e+00, -1.23099926e+00, -1.22962879e+00,\n",
       "       -1.22857521e+00, -1.22836351e+00, -1.22832708e+00, -1.22334602e+00,\n",
       "       -1.21842534e+00, -1.21576235e+00, -1.21474511e+00, -1.21307659e+00,\n",
       "       -1.19074629e+00, -1.18991073e+00, -1.18961587e+00, -1.18125694e+00,\n",
       "       -1.17783775e+00, -1.17066358e+00, -1.16830418e+00, -1.16582271e+00,\n",
       "       -1.16070489e+00, -1.16035823e+00, -1.15578514e+00, -1.14953929e+00,\n",
       "       -1.14769323e+00, -1.14307890e+00, -1.14233502e+00, -1.14132724e+00,\n",
       "       -1.13259218e+00, -1.12796874e+00, -1.12515806e+00, -1.11797916e+00,\n",
       "       -1.11731514e+00, -1.11436014e+00, -1.10203461e+00, -1.09925096e+00,\n",
       "       -1.09482463e+00, -1.08950841e+00, -1.08948520e+00, -1.08695390e+00,\n",
       "       -1.08465755e+00, -1.08392862e+00, -1.08168126e+00, -1.07340719e+00,\n",
       "       -1.07073986e+00, -1.06736766e+00, -1.06600254e+00, -1.05438307e+00,\n",
       "       -1.05265852e+00, -1.05262834e+00, -1.05032362e+00, -1.05014964e+00,\n",
       "       -1.04934315e+00, -1.04896423e+00, -1.04082755e+00, -1.03981738e+00,\n",
       "       -1.03439325e+00, -1.03314482e+00, -1.02580449e+00, -1.01650931e+00,\n",
       "       -1.01443283e+00, -1.01438280e+00, -1.00172340e+00, -1.00163061e+00,\n",
       "       -9.90847584e-01, -9.87760314e-01, -9.84049023e-01, -9.75719717e-01,\n",
       "       -9.69058491e-01, -9.63083151e-01, -9.62824460e-01, -9.57761428e-01,\n",
       "       -9.50044003e-01, -9.49768090e-01, -9.48834535e-01, -9.44779001e-01,\n",
       "       -9.41896664e-01, -9.32544233e-01, -9.32451869e-01, -9.27406549e-01,\n",
       "       -9.27009903e-01, -9.24497007e-01, -9.21418420e-01, -9.16190861e-01,\n",
       "       -9.11580247e-01, -9.06726420e-01, -8.96988693e-01, -8.93722598e-01,\n",
       "       -8.91371064e-01, -8.90200513e-01, -8.88008563e-01, -8.87737015e-01,\n",
       "       -8.84363253e-01, -8.76692614e-01, -8.72785803e-01, -8.72575036e-01,\n",
       "       -8.69456669e-01, -8.62860115e-01, -8.54107039e-01, -8.53016274e-01,\n",
       "       -8.35014289e-01, -8.30355124e-01, -8.27859122e-01, -8.26883667e-01,\n",
       "       -8.21652782e-01, -8.21310826e-01, -8.20497419e-01, -8.17375080e-01,\n",
       "       -8.11140794e-01, -8.09670775e-01, -8.07213692e-01, -8.06556656e-01,\n",
       "       -7.99465907e-01, -7.91724980e-01, -7.90749488e-01, -7.87197640e-01,\n",
       "       -7.85166475e-01, -7.82303054e-01, -7.79875219e-01, -7.78972807e-01,\n",
       "       -7.74853974e-01, -7.70410691e-01, -7.68370110e-01, -7.66611121e-01,\n",
       "       -7.63532860e-01, -7.61634413e-01, -7.44566139e-01, -7.36595111e-01,\n",
       "       -7.32945680e-01, -7.28926231e-01, -7.20636463e-01, -7.18244066e-01,\n",
       "       -7.16270156e-01, -7.14816789e-01, -7.11316008e-01, -7.10913018e-01,\n",
       "       -7.04688326e-01, -6.96218333e-01, -6.90236581e-01, -6.86389481e-01,\n",
       "       -6.80435543e-01, -6.79760656e-01, -6.76609382e-01, -6.68150497e-01,\n",
       "       -6.61215559e-01, -6.45635526e-01, -6.44747775e-01, -6.38598072e-01,\n",
       "       -6.37699109e-01, -6.36113880e-01, -6.33669136e-01, -6.32137687e-01,\n",
       "       -6.30423294e-01, -6.29415213e-01, -6.28332993e-01, -6.27956615e-01,\n",
       "       -6.26765275e-01, -6.10017078e-01, -6.09555553e-01, -6.08106738e-01,\n",
       "       -6.03543370e-01, -5.88982695e-01, -5.88945344e-01, -5.88821486e-01,\n",
       "       -5.80959234e-01, -5.80642709e-01, -5.79552666e-01, -5.75219520e-01,\n",
       "       -5.69620605e-01, -5.59946432e-01, -5.54830466e-01, -5.54628411e-01,\n",
       "       -5.53692497e-01, -5.52379210e-01, -5.49684735e-01, -5.49092219e-01,\n",
       "       -5.42520144e-01, -5.41812072e-01, -5.41376721e-01, -5.39854468e-01,\n",
       "       -5.39192598e-01, -5.36788339e-01, -5.36678553e-01, -5.36379840e-01,\n",
       "       -5.35628192e-01, -5.33298097e-01, -5.30142523e-01, -5.28389498e-01,\n",
       "       -5.26553291e-01, -5.23240631e-01, -5.22145773e-01, -5.21399724e-01,\n",
       "       -5.19106850e-01, -5.12222117e-01, -5.07390030e-01, -5.06110102e-01,\n",
       "       -5.01404075e-01, -4.93380558e-01, -4.92251732e-01, -4.91465959e-01,\n",
       "       -4.86008732e-01, -4.85480574e-01, -4.82225742e-01, -4.77639703e-01,\n",
       "       -4.77513001e-01, -4.68687479e-01, -4.65463645e-01, -4.62145093e-01,\n",
       "       -4.59970850e-01, -4.58575924e-01, -4.55492620e-01, -4.53304371e-01,\n",
       "       -4.53248038e-01, -4.43172920e-01, -4.42212697e-01, -4.39174664e-01,\n",
       "       -4.37162268e-01, -4.37012720e-01, -4.36548321e-01, -4.34513611e-01,\n",
       "       -4.34412445e-01, -4.33593832e-01, -4.22252736e-01, -4.19066906e-01,\n",
       "       -4.16910125e-01, -4.16648908e-01, -4.15601275e-01, -4.13728873e-01,\n",
       "       -4.11639283e-01, -4.08381658e-01, -4.06711071e-01, -4.05611135e-01,\n",
       "       -4.04716843e-01, -4.00911391e-01, -3.91550513e-01, -3.90484391e-01,\n",
       "       -3.89205735e-01, -3.87641845e-01, -3.86889936e-01, -3.86622585e-01,\n",
       "       -3.84339021e-01, -3.82537309e-01, -3.81614617e-01, -3.79812613e-01,\n",
       "       -3.78613525e-01, -3.78495669e-01, -3.76627296e-01, -3.71322579e-01,\n",
       "       -3.70690239e-01, -3.68769250e-01, -3.67964281e-01, -3.67086868e-01,\n",
       "       -3.66732074e-01, -3.64055453e-01, -3.63134932e-01, -3.61460057e-01,\n",
       "       -3.60433554e-01, -3.59357031e-01, -3.58920460e-01, -3.45770626e-01,\n",
       "       -3.45499777e-01, -3.43128733e-01, -3.41374419e-01, -3.38576692e-01,\n",
       "       -3.27591986e-01, -3.19241537e-01, -3.15125819e-01, -3.13633299e-01,\n",
       "       -3.12977210e-01, -3.08068296e-01, -3.04903554e-01, -2.99659989e-01,\n",
       "       -2.94824905e-01, -2.94487742e-01, -2.92876425e-01, -2.88453639e-01,\n",
       "       -2.87496425e-01, -2.86698650e-01, -2.85788749e-01, -2.83357445e-01,\n",
       "       -2.77182359e-01, -2.75373266e-01, -2.74207096e-01, -2.71801340e-01,\n",
       "       -2.68616159e-01, -2.66561841e-01, -2.66524122e-01, -2.66116061e-01,\n",
       "       -2.65015959e-01, -2.61641095e-01, -2.60681716e-01, -2.57793629e-01,\n",
       "       -2.55745201e-01, -2.53344791e-01, -2.53127828e-01, -2.52805834e-01,\n",
       "       -2.50525745e-01, -2.47307752e-01, -2.46720458e-01, -2.40412530e-01,\n",
       "       -2.38147094e-01, -2.36731722e-01, -2.35861671e-01, -2.34628320e-01,\n",
       "       -2.33838544e-01, -2.29684835e-01, -2.29679025e-01, -2.26597088e-01,\n",
       "       -2.26400421e-01, -2.25797423e-01, -2.19119343e-01, -2.17359529e-01,\n",
       "       -2.13813173e-01, -2.09532465e-01, -2.08767317e-01, -1.97716294e-01,\n",
       "       -1.94242189e-01, -1.92490417e-01, -1.89942606e-01, -1.89869293e-01,\n",
       "       -1.84554911e-01, -1.77853631e-01, -1.76898457e-01, -1.70893305e-01,\n",
       "       -1.67276640e-01, -1.66559913e-01, -1.65144739e-01, -1.60982032e-01,\n",
       "       -1.57373445e-01, -1.56534533e-01, -1.54798280e-01, -1.51789509e-01,\n",
       "       -1.51549163e-01, -1.50062808e-01, -1.49460708e-01, -1.47286663e-01,\n",
       "       -1.47240892e-01, -1.45654711e-01, -1.43169207e-01, -1.34541980e-01,\n",
       "       -1.32771409e-01, -1.31424531e-01, -1.26983586e-01, -1.24495119e-01,\n",
       "       -1.23546079e-01, -1.13498312e-01, -1.13146432e-01, -1.12628324e-01,\n",
       "       -1.11577066e-01, -1.07291389e-01, -1.06625593e-01, -1.03056789e-01,\n",
       "       -1.00572562e-01, -9.80302367e-02, -8.91089995e-02, -8.90053405e-02,\n",
       "       -8.78318380e-02, -8.65286603e-02, -8.51464310e-02, -7.96800883e-02,\n",
       "       -7.65990453e-02, -7.53655371e-02, -7.37760224e-02, -6.92024491e-02,\n",
       "       -6.89660837e-02, -6.10306177e-02, -5.94041221e-02, -5.88388342e-02,\n",
       "       -5.50152313e-02, -5.32800088e-02, -5.28137202e-02, -4.96422030e-02,\n",
       "       -4.61176083e-02, -4.45214337e-02, -4.14470958e-02, -3.96484222e-02,\n",
       "       -3.44865555e-02, -3.38445836e-02, -3.27975941e-02, -3.04579778e-02,\n",
       "       -2.18761389e-02, -1.94886315e-02, -1.92503495e-02, -1.69503818e-02,\n",
       "       -1.44639567e-02, -1.22285954e-02, -1.00844816e-02, -2.97822559e-03,\n",
       "        2.13717700e-03,  3.90199482e-03,  6.67383549e-03,  9.60254229e-03,\n",
       "        1.64629404e-02,  1.88205485e-02,  2.19400004e-02,  2.31892047e-02,\n",
       "        2.44570240e-02,  3.11494880e-02,  3.25356329e-02,  3.30653051e-02,\n",
       "        4.27392372e-02,  4.54220258e-02,  5.15004823e-02,  5.20530118e-02,\n",
       "        5.25569563e-02,  5.49573436e-02,  5.70089576e-02,  5.81979499e-02,\n",
       "        6.06836423e-02,  6.23680027e-02,  6.64285628e-02,  6.83648206e-02,\n",
       "        7.32891760e-02,  7.48184879e-02,  8.20142929e-02,  8.26543939e-02,\n",
       "        8.62165839e-02,  8.84893868e-02,  8.86174473e-02,  8.90771758e-02,\n",
       "        9.58421336e-02,  1.00462346e-01,  1.00651836e-01,  1.04102179e-01,\n",
       "        1.05414293e-01,  1.09453517e-01,  1.15020803e-01,  1.15800761e-01,\n",
       "        1.17017393e-01,  1.17498855e-01,  1.18611982e-01,  1.18830994e-01,\n",
       "        1.18975916e-01,  1.20399292e-01,  1.20528880e-01,  1.24842405e-01,\n",
       "        1.26927362e-01,  1.28448864e-01,  1.28528916e-01,  1.30192001e-01,\n",
       "        1.33246565e-01,  1.38971263e-01,  1.41801075e-01,  1.42070404e-01,\n",
       "        1.44815738e-01,  1.48360509e-01,  1.50384273e-01,  1.52310659e-01,\n",
       "        1.52903440e-01,  1.56000173e-01,  1.56550864e-01,  1.60913215e-01,\n",
       "        1.62752937e-01,  1.66922984e-01,  1.67301154e-01,  1.68503247e-01,\n",
       "        1.69398822e-01,  1.73159835e-01,  1.73773149e-01,  1.74134140e-01,\n",
       "        1.76699581e-01,  1.78604414e-01,  1.83272059e-01,  1.83671529e-01,\n",
       "        1.89716641e-01,  1.92160638e-01,  1.95178685e-01,  1.97358646e-01,\n",
       "        2.02078296e-01,  2.02515386e-01,  2.02706797e-01,  2.03146287e-01,\n",
       "        2.10805897e-01,  2.18456689e-01,  2.20525419e-01,  2.23797642e-01,\n",
       "        2.26694819e-01,  2.28853231e-01,  2.34673810e-01,  2.37207328e-01,\n",
       "        2.46635644e-01,  2.51070634e-01,  2.54719750e-01,  2.57307730e-01,\n",
       "        2.58278676e-01,  2.59780503e-01,  2.63122397e-01,  2.68572453e-01,\n",
       "        2.68781320e-01,  2.69239838e-01,  2.71336264e-01,  2.71455602e-01,\n",
       "        2.72864041e-01,  2.73097883e-01,  2.74589700e-01,  2.74697847e-01,\n",
       "        2.75264279e-01,  2.75303130e-01,  2.78011746e-01,  2.78322097e-01,\n",
       "        2.81671480e-01,  2.82569774e-01,  2.89476528e-01,  2.89912575e-01,\n",
       "        2.90128029e-01,  2.91468972e-01,  2.91921939e-01,  2.92725277e-01,\n",
       "        2.97266595e-01,  2.99989378e-01,  3.01359728e-01,  3.03049373e-01,\n",
       "        3.06211012e-01,  3.07768594e-01,  3.08719631e-01,  3.09378595e-01,\n",
       "        3.11008758e-01,  3.12468964e-01,  3.12550298e-01,  3.13509466e-01,\n",
       "        3.15192898e-01,  3.15222472e-01,  3.15443395e-01,  3.15917845e-01,\n",
       "        3.16564545e-01,  3.17915576e-01,  3.18537361e-01,  3.19306233e-01,\n",
       "        3.24466736e-01,  3.25685991e-01,  3.27027343e-01,  3.30005453e-01,\n",
       "        3.32781508e-01,  3.33102948e-01,  3.33607111e-01,  3.33746829e-01,\n",
       "        3.34250522e-01,  3.39868409e-01,  3.42727510e-01,  3.44244889e-01,\n",
       "        3.44919604e-01,  3.46344499e-01,  3.49396244e-01,  3.58295747e-01,\n",
       "        3.62630470e-01,  3.63685602e-01,  3.66674177e-01,  3.66798108e-01,\n",
       "        3.69897008e-01,  3.70034010e-01,  3.71789592e-01,  3.72508788e-01,\n",
       "        3.76276843e-01,  3.77548800e-01,  3.79599354e-01,  3.79617783e-01,\n",
       "        3.82005313e-01,  3.84066327e-01,  3.84822980e-01,  3.86469319e-01,\n",
       "        3.87501185e-01,  3.88226978e-01,  3.91661968e-01,  3.92807363e-01,\n",
       "        3.99119673e-01,  4.02657607e-01,  4.06470886e-01,  4.09094867e-01,\n",
       "        4.10252933e-01,  4.13967372e-01,  4.16578115e-01,  4.17549322e-01,\n",
       "        4.18166817e-01,  4.18701800e-01,  4.20586771e-01,  4.21694928e-01,\n",
       "        4.22246234e-01,  4.24012017e-01,  4.25139776e-01,  4.25280195e-01,\n",
       "        4.27064251e-01,  4.29527308e-01,  4.31848701e-01,  4.35784488e-01,\n",
       "        4.48992764e-01,  4.50327934e-01,  4.52780756e-01,  4.56418092e-01,\n",
       "        4.60260677e-01,  4.70263672e-01,  4.72890633e-01,  4.75076812e-01,\n",
       "        4.81616685e-01,  4.82985849e-01,  4.88365941e-01,  4.89307719e-01,\n",
       "        4.89979959e-01,  4.94301599e-01,  4.96355268e-01,  5.04697175e-01,\n",
       "        5.06812789e-01,  5.07953739e-01,  5.08675590e-01,  5.11582156e-01,\n",
       "        5.13516186e-01,  5.15697548e-01,  5.17289666e-01,  5.18008835e-01,\n",
       "        5.24301264e-01,  5.27453927e-01,  5.32997911e-01,  5.33158409e-01,\n",
       "        5.34894813e-01,  5.38131503e-01,  5.39013037e-01,  5.41231208e-01,\n",
       "        5.46738438e-01,  5.47488244e-01,  5.53001595e-01,  5.53022185e-01,\n",
       "        5.58014096e-01,  5.58235295e-01,  5.60931383e-01,  5.62820716e-01,\n",
       "        5.65132620e-01,  5.65942632e-01,  5.66257931e-01,  5.67902507e-01,\n",
       "        5.71370295e-01,  5.73104612e-01,  5.74157005e-01,  5.85351140e-01,\n",
       "        5.85449444e-01,  5.87260703e-01,  5.87447084e-01,  5.92880553e-01,\n",
       "        5.96107795e-01,  6.06374249e-01,  6.10729168e-01,  6.11064803e-01,\n",
       "        6.17924197e-01,  6.18577289e-01,  6.19331756e-01,  6.21762105e-01,\n",
       "        6.21856348e-01,  6.23322283e-01,  6.30463368e-01,  6.33442731e-01,\n",
       "        6.37285462e-01,  6.37569094e-01,  6.48757622e-01,  6.51476854e-01,\n",
       "        6.59724967e-01,  6.60103898e-01,  6.63949852e-01,  6.64730989e-01,\n",
       "        6.67469889e-01,  6.67692377e-01,  6.70206458e-01,  6.70273700e-01,\n",
       "        6.73979212e-01,  6.74542334e-01,  6.76046680e-01,  6.84909742e-01,\n",
       "        6.92883493e-01,  6.93137129e-01,  7.11572812e-01,  7.15075480e-01,\n",
       "        7.16215146e-01,  7.20895266e-01,  7.22080008e-01,  7.25433112e-01,\n",
       "        7.25714932e-01,  7.26502305e-01,  7.28284406e-01,  7.50418428e-01,\n",
       "        7.52171325e-01,  7.56007060e-01,  7.67961612e-01,  7.69892280e-01,\n",
       "        7.74957909e-01,  7.75199621e-01,  7.82763495e-01,  7.83288142e-01,\n",
       "        7.85242608e-01,  7.88256388e-01,  7.94418864e-01,  7.96356782e-01,\n",
       "        7.98627459e-01,  7.98749587e-01,  8.01195206e-01,  8.01521761e-01,\n",
       "        8.01765822e-01,  8.07206564e-01,  8.07612321e-01,  8.10779355e-01,\n",
       "        8.14046061e-01,  8.14235231e-01,  8.14677254e-01,  8.19990935e-01,\n",
       "        8.24662699e-01,  8.32077755e-01,  8.32978070e-01,  8.39417003e-01,\n",
       "        8.41632885e-01,  8.48137257e-01,  8.50144691e-01,  8.53287393e-01,\n",
       "        8.58076514e-01,  8.60170762e-01,  8.66593007e-01,  8.67502636e-01,\n",
       "        8.68288973e-01,  8.68720512e-01,  8.71620483e-01,  8.72096207e-01,\n",
       "        8.76711254e-01,  8.82235832e-01,  8.82840977e-01,  8.83766500e-01,\n",
       "        8.84404278e-01,  8.85978495e-01,  8.86585112e-01,  8.91976251e-01,\n",
       "        8.98774130e-01,  8.99012016e-01,  9.04694778e-01,  9.11981903e-01,\n",
       "        9.12373660e-01,  9.14030622e-01,  9.18868567e-01,  9.23509994e-01,\n",
       "        9.25456140e-01,  9.27628830e-01,  9.29567774e-01,  9.33341300e-01,\n",
       "        9.35130293e-01,  9.46171198e-01,  9.54201322e-01,  9.55207813e-01,\n",
       "        9.55240089e-01,  9.62999605e-01,  9.66754720e-01,  9.70202318e-01,\n",
       "        9.70593412e-01,  9.76841151e-01,  9.78253073e-01,  9.88714744e-01,\n",
       "        9.99370887e-01,  1.00181724e+00,  1.01496391e+00,  1.03175283e+00,\n",
       "        1.03471618e+00,  1.03758240e+00,  1.04011105e+00,  1.04775757e+00,\n",
       "        1.04804593e+00,  1.04874033e+00,  1.05808026e+00,  1.06393813e+00,\n",
       "        1.06613576e+00,  1.06652993e+00,  1.07047079e+00,  1.07406456e+00,\n",
       "        1.08177308e+00,  1.09189403e+00,  1.10266140e+00,  1.11883824e+00,\n",
       "        1.12187306e+00,  1.12578556e+00,  1.12640148e+00,  1.13035854e+00,\n",
       "        1.13314375e+00,  1.13581158e+00,  1.14158484e+00,  1.14262419e+00,\n",
       "        1.15143771e+00,  1.15713086e+00,  1.16118404e+00,  1.16153465e+00,\n",
       "        1.16307033e+00,  1.16720643e+00,  1.16936962e+00,  1.17997968e+00,\n",
       "        1.18589571e+00,  1.18883572e+00,  1.18897456e+00,  1.18941000e+00,\n",
       "        1.19010148e+00,  1.19322400e+00,  1.20458999e+00,  1.20497296e+00,\n",
       "        1.20534748e+00,  1.20712611e+00,  1.20787751e+00,  1.22836573e+00,\n",
       "        1.22891562e+00,  1.23026202e+00,  1.23508499e+00,  1.23935799e+00,\n",
       "        1.24537185e+00,  1.25547663e+00,  1.26426245e+00,  1.27120087e+00,\n",
       "        1.27254408e+00,  1.27887584e+00,  1.29401993e+00,  1.29751071e+00,\n",
       "        1.29792469e+00,  1.30452754e+00,  1.31625260e+00,  1.31931977e+00,\n",
       "        1.31981904e+00,  1.32606934e+00,  1.33160370e+00,  1.33630995e+00,\n",
       "        1.34034422e+00,  1.34553363e+00,  1.34618082e+00,  1.35038833e+00,\n",
       "        1.35450051e+00,  1.36721717e+00,  1.37173335e+00,  1.37361044e+00,\n",
       "        1.38093570e+00,  1.39601586e+00,  1.39705532e+00,  1.39719287e+00,\n",
       "        1.40320669e+00,  1.41133589e+00,  1.41726526e+00,  1.42206111e+00,\n",
       "        1.42665088e+00,  1.43584435e+00,  1.44177848e+00,  1.46223227e+00,\n",
       "        1.48001087e+00,  1.48064958e+00,  1.48623797e+00,  1.48981210e+00,\n",
       "        1.49934156e+00,  1.50219607e+00,  1.51162566e+00,  1.51756284e+00,\n",
       "        1.51918901e+00,  1.53306774e+00,  1.54320520e+00,  1.54483816e+00,\n",
       "        1.54773206e+00,  1.56243697e+00,  1.56687224e+00,  1.56921620e+00,\n",
       "        1.57619408e+00,  1.58122347e+00,  1.58342689e+00,  1.58379105e+00,\n",
       "        1.59699348e+00,  1.60168208e+00,  1.61005907e+00,  1.63383672e+00,\n",
       "        1.63478422e+00,  1.63639530e+00,  1.64914846e+00,  1.64934634e+00,\n",
       "        1.67134931e+00,  1.67604393e+00,  1.68055638e+00,  1.69033250e+00,\n",
       "        1.69151709e+00,  1.69472929e+00,  1.69798508e+00,  1.70727630e+00,\n",
       "        1.72804664e+00,  1.73782959e+00,  1.73862629e+00,  1.74019731e+00,\n",
       "        1.76162518e+00,  1.77892886e+00,  1.79247122e+00,  1.79260534e+00,\n",
       "        1.80566879e+00,  1.84832254e+00,  1.85026259e+00,  1.88158633e+00,\n",
       "        1.88402229e+00,  1.89518848e+00,  1.93140811e+00,  1.93324565e+00,\n",
       "        1.93395133e+00,  1.95385560e+00,  2.02884194e+00,  2.07504395e+00,\n",
       "        2.07518419e+00,  2.10266502e+00,  2.15775393e+00,  2.17893952e+00,\n",
       "        2.18767686e+00,  2.20007120e+00,  2.20893201e+00,  2.28622148e+00,\n",
       "        2.33194479e+00,  2.43627083e+00,  2.44009133e+00,  2.63555149e+00,\n",
       "        2.63762429e+00,  2.64211356e+00,  2.87943784e+00,  3.33076118e+00])"
      ]
     },
     "execution_count": 156,
     "metadata": {},
     "output_type": "execute_result"
    }
   ],
   "source": [
    "large_arr"
   ]
  },
  {
   "cell_type": "code",
   "execution_count": 157,
   "id": "49c03127",
   "metadata": {},
   "outputs": [
    {
     "data": {
      "text/plain": [
       "-1.5943491216173544"
      ]
     },
     "execution_count": 157,
     "metadata": {},
     "output_type": "execute_result"
    }
   ],
   "source": [
    "large_arr[int(0.05 * len(large_arr))] # 5% quantile"
   ]
  },
  {
   "cell_type": "code",
   "execution_count": 158,
   "id": "3780ae44",
   "metadata": {},
   "outputs": [],
   "source": [
    "names = np.array(['Bob', 'Joe', 'Will', 'Bob', 'Will', 'Joe', 'Joe'])"
   ]
  },
  {
   "cell_type": "code",
   "execution_count": 159,
   "id": "6dc5d8c7",
   "metadata": {},
   "outputs": [
    {
     "data": {
      "text/plain": [
       "array(['Bob', 'Joe', 'Will'], dtype='<U4')"
      ]
     },
     "execution_count": 159,
     "metadata": {},
     "output_type": "execute_result"
    }
   ],
   "source": [
    "np.unique(names)"
   ]
  },
  {
   "cell_type": "code",
   "execution_count": 160,
   "id": "5665cf3e",
   "metadata": {},
   "outputs": [
    {
     "data": {
      "text/plain": [
       "['Bob', 'Joe', 'Will']"
      ]
     },
     "execution_count": 160,
     "metadata": {},
     "output_type": "execute_result"
    }
   ],
   "source": [
    "sorted(set(names))"
   ]
  },
  {
   "cell_type": "code",
   "execution_count": 161,
   "id": "fa313365",
   "metadata": {},
   "outputs": [],
   "source": [
    "ints = np.array([3, 3, 3, 2, 2, 1, 1, 4, 4])"
   ]
  },
  {
   "cell_type": "code",
   "execution_count": 162,
   "id": "5dd4873d",
   "metadata": {},
   "outputs": [
    {
     "data": {
      "text/plain": [
       "array([1, 2, 3, 4])"
      ]
     },
     "execution_count": 162,
     "metadata": {},
     "output_type": "execute_result"
    }
   ],
   "source": [
    "np.unique(ints)"
   ]
  },
  {
   "cell_type": "code",
   "execution_count": 163,
   "id": "33eba935",
   "metadata": {},
   "outputs": [],
   "source": [
    "values = np.array([6, 0, 0, 3, 2, 5, 6])"
   ]
  },
  {
   "cell_type": "code",
   "execution_count": 164,
   "id": "eab85060",
   "metadata": {},
   "outputs": [
    {
     "data": {
      "text/plain": [
       "array([ True, False, False,  True,  True, False,  True])"
      ]
     },
     "execution_count": 164,
     "metadata": {},
     "output_type": "execute_result"
    }
   ],
   "source": [
    "np.in1d(values, [2, 3, 6])"
   ]
  },
  {
   "cell_type": "code",
   "execution_count": 165,
   "id": "9ee8dcca",
   "metadata": {},
   "outputs": [],
   "source": [
    "arr = np.arange(10)"
   ]
  },
  {
   "cell_type": "code",
   "execution_count": 166,
   "id": "e0aac00f",
   "metadata": {},
   "outputs": [],
   "source": [
    "np.save('some_array', arr)"
   ]
  },
  {
   "cell_type": "code",
   "execution_count": 167,
   "id": "718fcb4a",
   "metadata": {},
   "outputs": [
    {
     "data": {
      "text/plain": [
       "array([0, 1, 2, 3, 4, 5, 6, 7, 8, 9])"
      ]
     },
     "execution_count": 167,
     "metadata": {},
     "output_type": "execute_result"
    }
   ],
   "source": [
    "np.load('some_array.npy')"
   ]
  },
  {
   "cell_type": "code",
   "execution_count": 168,
   "id": "1a2f19bc",
   "metadata": {},
   "outputs": [],
   "source": [
    "np.savez('array_achieve.npz', a=arr, b=arr)"
   ]
  },
  {
   "cell_type": "code",
   "execution_count": 169,
   "id": "79392bc9",
   "metadata": {},
   "outputs": [],
   "source": [
    "arch = np.load('array_achieve.npz')"
   ]
  },
  {
   "cell_type": "code",
   "execution_count": 170,
   "id": "7ad7cd9b",
   "metadata": {},
   "outputs": [
    {
     "data": {
      "text/plain": [
       "array([0, 1, 2, 3, 4, 5, 6, 7, 8, 9])"
      ]
     },
     "execution_count": 170,
     "metadata": {},
     "output_type": "execute_result"
    }
   ],
   "source": [
    "arch['b']"
   ]
  },
  {
   "cell_type": "code",
   "execution_count": 171,
   "id": "8252617d",
   "metadata": {},
   "outputs": [],
   "source": [
    "np.savez_compressed('arrays_compressed.npz', a=arr, b=arr)"
   ]
  },
  {
   "cell_type": "code",
   "execution_count": 172,
   "id": "26991498",
   "metadata": {},
   "outputs": [],
   "source": [
    "x = np.array([[1., 2., 3.], [4., 5., 6]])"
   ]
  },
  {
   "cell_type": "code",
   "execution_count": 173,
   "id": "f276b039",
   "metadata": {},
   "outputs": [],
   "source": [
    "y = np.array([[6., 23.], [-1, 7], [8, 9]])"
   ]
  },
  {
   "cell_type": "code",
   "execution_count": 174,
   "id": "6bdd1d15",
   "metadata": {},
   "outputs": [
    {
     "data": {
      "text/plain": [
       "array([[ 28.,  64.],\n",
       "       [ 67., 181.]])"
      ]
     },
     "execution_count": 174,
     "metadata": {},
     "output_type": "execute_result"
    }
   ],
   "source": [
    "x.dot(y)"
   ]
  },
  {
   "cell_type": "code",
   "execution_count": 175,
   "id": "afe84863",
   "metadata": {},
   "outputs": [
    {
     "data": {
      "text/plain": [
       "array([[ 28.,  64.],\n",
       "       [ 67., 181.]])"
      ]
     },
     "execution_count": 175,
     "metadata": {},
     "output_type": "execute_result"
    }
   ],
   "source": [
    "np.dot(x, y)"
   ]
  },
  {
   "cell_type": "code",
   "execution_count": 176,
   "id": "45c1faae",
   "metadata": {},
   "outputs": [
    {
     "data": {
      "text/plain": [
       "array([ 6., 15.])"
      ]
     },
     "execution_count": 176,
     "metadata": {},
     "output_type": "execute_result"
    }
   ],
   "source": [
    "np.dot(x, np.ones(3))"
   ]
  },
  {
   "cell_type": "code",
   "execution_count": 177,
   "id": "93f4750b",
   "metadata": {},
   "outputs": [
    {
     "data": {
      "text/plain": [
       "array([ 6., 15.])"
      ]
     },
     "execution_count": 177,
     "metadata": {},
     "output_type": "execute_result"
    }
   ],
   "source": [
    "x @ np.ones(3)"
   ]
  },
  {
   "cell_type": "code",
   "execution_count": 178,
   "id": "ba3bc4bc",
   "metadata": {},
   "outputs": [
    {
     "data": {
      "text/plain": [
       "array([[ 28.,  64.],\n",
       "       [ 67., 181.]])"
      ]
     },
     "execution_count": 178,
     "metadata": {},
     "output_type": "execute_result"
    }
   ],
   "source": [
    "x @ y"
   ]
  },
  {
   "cell_type": "code",
   "execution_count": 179,
   "id": "39d88b7c",
   "metadata": {},
   "outputs": [],
   "source": [
    "from numpy.linalg import inv, qr"
   ]
  },
  {
   "cell_type": "code",
   "execution_count": 180,
   "id": "17737c20",
   "metadata": {},
   "outputs": [],
   "source": [
    "X = np.random.randn(5, 5)"
   ]
  },
  {
   "cell_type": "code",
   "execution_count": 181,
   "id": "083352b6",
   "metadata": {},
   "outputs": [],
   "source": [
    "mat = X.T.dot(X)"
   ]
  },
  {
   "cell_type": "code",
   "execution_count": 182,
   "id": "365f6eb6",
   "metadata": {},
   "outputs": [
    {
     "data": {
      "text/plain": [
       "array([[ 4.43877487,  1.52838496,  0.05345042, -0.31942845, -3.72854632],\n",
       "       [ 1.52838496,  2.63916205,  2.59477326, -0.09948813,  1.07681652],\n",
       "       [ 0.05345042,  2.59477326,  6.27584349, -1.90813916,  3.50684967],\n",
       "       [-0.31942845, -0.09948813, -1.90813916,  3.11691486, -1.29411827],\n",
       "       [-3.72854632,  1.07681652,  3.50684967, -1.29411827,  6.64073163]])"
      ]
     },
     "execution_count": 182,
     "metadata": {},
     "output_type": "execute_result"
    }
   ],
   "source": [
    "mat"
   ]
  },
  {
   "cell_type": "code",
   "execution_count": 183,
   "id": "1bff6034",
   "metadata": {},
   "outputs": [
    {
     "data": {
      "text/plain": [
       "array([[ 76.06275528, -74.81626613,   9.05081395,  34.52533316,\n",
       "         56.78695352],\n",
       "       [-74.81626613,  74.32647761,  -9.29387453, -34.15523318,\n",
       "        -55.80719175],\n",
       "       [  9.05081395,  -9.29387453,   1.5414049 ,   4.32185267,\n",
       "          6.6169953 ],\n",
       "       [ 34.52533316, -34.15523318,   4.32185267,  16.11919889,\n",
       "         25.78214195],\n",
       "       [ 56.78695352, -55.80719175,   6.6169953 ,  25.78214195,\n",
       "         42.61386271]])"
      ]
     },
     "execution_count": 183,
     "metadata": {},
     "output_type": "execute_result"
    }
   ],
   "source": [
    "inv(mat)"
   ]
  },
  {
   "cell_type": "code",
   "execution_count": 184,
   "id": "044f5bec",
   "metadata": {},
   "outputs": [
    {
     "data": {
      "text/plain": [
       "array([[ 1.08362178,  0.75180111,  1.91390501, -1.06992229, -0.10911949],\n",
       "       [-0.06944964, -0.69144992, -0.5884218 , -0.67091348, -0.19476439],\n",
       "       [-1.75550031, -0.16686249,  1.23641216, -0.61434125,  2.29571131],\n",
       "       [-0.35478517, -1.22315121, -0.66070297,  0.11987867, -1.14915741],\n",
       "       [ 0.2281701 , -0.26816444, -0.54893299, -1.06314166, -0.00618161]])"
      ]
     },
     "execution_count": 184,
     "metadata": {},
     "output_type": "execute_result"
    }
   ],
   "source": [
    "X"
   ]
  },
  {
   "cell_type": "code",
   "execution_count": 185,
   "id": "e5a7f5a3",
   "metadata": {},
   "outputs": [
    {
     "data": {
      "text/plain": [
       "array([[ 1.00000000e+00,  6.14550319e-15, -4.45930991e-15,\n",
       "        -3.71180326e-15,  2.65392356e-14],\n",
       "       [-2.81991439e-14,  1.00000000e+00, -4.69946003e-15,\n",
       "        -1.76928622e-14, -1.53154868e-14],\n",
       "       [-1.00271104e-16,  6.10962334e-15,  1.00000000e+00,\n",
       "        -1.37479406e-14,  2.05628685e-14],\n",
       "       [-1.62343771e-14,  8.05652368e-15, -1.07631504e-15,\n",
       "         1.00000000e+00, -4.05229456e-15],\n",
       "       [ 5.10994753e-14,  1.17208123e-14,  2.25398676e-15,\n",
       "        -2.33809996e-15,  1.00000000e+00]])"
      ]
     },
     "execution_count": 185,
     "metadata": {},
     "output_type": "execute_result"
    }
   ],
   "source": [
    "mat.dot(inv(mat))"
   ]
  },
  {
   "cell_type": "code",
   "execution_count": 186,
   "id": "e2692b78",
   "metadata": {},
   "outputs": [],
   "source": [
    "q, r = qr(mat)"
   ]
  },
  {
   "cell_type": "code",
   "execution_count": 187,
   "id": "08621ae7",
   "metadata": {},
   "outputs": [
    {
     "data": {
      "text/plain": [
       "array([[-6.00380146, -1.16148463,  1.3204008 , -0.35937742,  6.50651798],\n",
       "       [ 0.        , -3.98175468, -7.21134504,  1.96471137, -5.29403245],\n",
       "       [ 0.        ,  0.        , -2.88339224,  2.806922  , -1.24587319],\n",
       "       [ 0.        ,  0.        ,  0.        , -1.80963361,  1.10443472],\n",
       "       [ 0.        ,  0.        ,  0.        ,  0.        ,  0.01062169]])"
      ]
     },
     "execution_count": 187,
     "metadata": {},
     "output_type": "execute_result"
    }
   ],
   "source": [
    "r"
   ]
  },
  {
   "cell_type": "code",
   "execution_count": 188,
   "id": "9655c243",
   "metadata": {},
   "outputs": [],
   "source": [
    "samples = np.random.normal(size=(4, 4))"
   ]
  },
  {
   "cell_type": "code",
   "execution_count": 189,
   "id": "795513a9",
   "metadata": {},
   "outputs": [
    {
     "data": {
      "text/plain": [
       "array([[ 2.25433535,  0.84359023,  1.37552675, -0.61544625],\n",
       "       [-1.65151419, -0.52742866, -0.56326723, -0.22363556],\n",
       "       [-0.3794896 , -0.43931667, -0.40541185,  1.96369557],\n",
       "       [-1.0869625 , -0.13596829, -0.18937259, -2.30139753]])"
      ]
     },
     "execution_count": 189,
     "metadata": {},
     "output_type": "execute_result"
    }
   ],
   "source": [
    "samples"
   ]
  },
  {
   "cell_type": "code",
   "execution_count": 190,
   "id": "bbfa25a1",
   "metadata": {},
   "outputs": [],
   "source": [
    "from random import normalvariate"
   ]
  },
  {
   "cell_type": "code",
   "execution_count": 191,
   "id": "576b8064",
   "metadata": {},
   "outputs": [],
   "source": [
    "N = 1000000"
   ]
  },
  {
   "cell_type": "code",
   "execution_count": 192,
   "id": "b964a03a",
   "metadata": {},
   "outputs": [
    {
     "name": "stdout",
     "output_type": "stream",
     "text": [
      "688 ms ± 5.61 ms per loop (mean ± std. dev. of 7 runs, 1 loop each)\n"
     ]
    }
   ],
   "source": [
    "%timeit samples = [normalvariate(0, 1) for _ in range(N)]"
   ]
  },
  {
   "cell_type": "code",
   "execution_count": 193,
   "id": "3391d319",
   "metadata": {},
   "outputs": [
    {
     "name": "stdout",
     "output_type": "stream",
     "text": [
      "25 ms ± 280 µs per loop (mean ± std. dev. of 7 runs, 10 loops each)\n"
     ]
    }
   ],
   "source": [
    "%timeit np.random.normal(size=N)"
   ]
  },
  {
   "cell_type": "code",
   "execution_count": 194,
   "id": "10d243ce",
   "metadata": {},
   "outputs": [],
   "source": [
    "np.random.seed(1234)"
   ]
  },
  {
   "cell_type": "code",
   "execution_count": 195,
   "id": "92f76a9c",
   "metadata": {},
   "outputs": [],
   "source": [
    "import random\n",
    "position = 0\n",
    "walk = [position]"
   ]
  },
  {
   "cell_type": "code",
   "execution_count": 196,
   "id": "f64e9569",
   "metadata": {},
   "outputs": [],
   "source": [
    "steps = 1000"
   ]
  },
  {
   "cell_type": "code",
   "execution_count": 197,
   "id": "b17fe0d7",
   "metadata": {},
   "outputs": [],
   "source": [
    "for i in range(steps):\n",
    "    step = 1 if random.randint(0, 1) else -1\n",
    "    position += step\n",
    "    walk.append(position)"
   ]
  },
  {
   "cell_type": "code",
   "execution_count": 198,
   "id": "3796047d",
   "metadata": {},
   "outputs": [
    {
     "data": {
      "text/plain": [
       "[<matplotlib.lines.Line2D at 0x194840276d0>]"
      ]
     },
     "execution_count": 198,
     "metadata": {},
     "output_type": "execute_result"
    },
    {
     "data": {
      "image/png": "[encoded data removed]",
      "text/plain": [
       "<Figure size 432x288 with 1 Axes>"
      ]
     },
     "metadata": {
      "needs_background": "light"
     },
     "output_type": "display_data"
    }
   ],
   "source": [
    "plt.plot(walk[:100])"
   ]
  },
  {
   "cell_type": "code",
   "execution_count": 199,
   "id": "effdd288",
   "metadata": {},
   "outputs": [
    {
     "data": {
      "text/plain": [
       "[<matplotlib.lines.Line2D at 0x194840592d0>]"
      ]
     },
     "execution_count": 199,
     "metadata": {},
     "output_type": "execute_result"
    },
    {
     "data": {
      "image/png": "[encoded data removed]",
      "text/plain": [
       "<Figure size 432x288 with 1 Axes>"
      ]
     },
     "metadata": {
      "needs_background": "light"
     },
     "output_type": "display_data"
    }
   ],
   "source": [
    "plt.plot(walk)"
   ]
  },
  {
   "cell_type": "code",
   "execution_count": 200,
   "id": "4ce7f855",
   "metadata": {},
   "outputs": [],
   "source": [
    "nsteps = 1000"
   ]
  },
  {
   "cell_type": "code",
   "execution_count": 201,
   "id": "2e4cf658",
   "metadata": {},
   "outputs": [],
   "source": [
    "draws = np.random.randint(0, 2, size=nsteps)"
   ]
  },
  {
   "cell_type": "code",
   "execution_count": 202,
   "id": "f2036dc4",
   "metadata": {},
   "outputs": [],
   "source": [
    "steps = np.where(draws>0, 1, -1)"
   ]
  },
  {
   "cell_type": "code",
   "execution_count": 203,
   "id": "db806149",
   "metadata": {},
   "outputs": [],
   "source": [
    "walk = steps.cumsum()"
   ]
  },
  {
   "cell_type": "code",
   "execution_count": 204,
   "id": "af306411",
   "metadata": {},
   "outputs": [
    {
     "data": {
      "text/plain": [
       "-9"
      ]
     },
     "execution_count": 204,
     "metadata": {},
     "output_type": "execute_result"
    }
   ],
   "source": [
    "walk.min()"
   ]
  },
  {
   "cell_type": "code",
   "execution_count": 205,
   "id": "a21b7a0d",
   "metadata": {},
   "outputs": [
    {
     "data": {
      "text/plain": [
       "60"
      ]
     },
     "execution_count": 205,
     "metadata": {},
     "output_type": "execute_result"
    }
   ],
   "source": [
    "walk.max()"
   ]
  },
  {
   "cell_type": "code",
   "execution_count": 206,
   "id": "ea61b963",
   "metadata": {},
   "outputs": [
    {
     "data": {
      "text/plain": [
       "297"
      ]
     },
     "execution_count": 206,
     "metadata": {},
     "output_type": "execute_result"
    }
   ],
   "source": [
    "(np.abs(walk) >= 10).argmax()"
   ]
  },
  {
   "cell_type": "code",
   "execution_count": 207,
   "id": "6c4906b3",
   "metadata": {},
   "outputs": [],
   "source": [
    "nwalks = 5000"
   ]
  },
  {
   "cell_type": "code",
   "execution_count": 208,
   "id": "4598ffb4",
   "metadata": {},
   "outputs": [],
   "source": [
    "nsteps = 1000"
   ]
  },
  {
   "cell_type": "code",
   "execution_count": 209,
   "id": "641b7200",
   "metadata": {},
   "outputs": [],
   "source": [
    "draws = np.random.randint(0, 2, size=(nwalks, nsteps))"
   ]
  },
  {
   "cell_type": "code",
   "execution_count": 210,
   "id": "c589e4e0",
   "metadata": {},
   "outputs": [],
   "source": [
    "steps = np.where(draws > 0, 1, -1)"
   ]
  },
  {
   "cell_type": "code",
   "execution_count": 211,
   "id": "62338877",
   "metadata": {},
   "outputs": [],
   "source": [
    "walks = steps.cumsum(1)"
   ]
  },
  {
   "cell_type": "code",
   "execution_count": 212,
   "id": "a37015cd",
   "metadata": {},
   "outputs": [
    {
     "data": {
      "text/plain": [
       "array([[  1,   2,   3, ...,  46,  47,  46],\n",
       "       [  1,   0,   1, ...,  40,  41,  42],\n",
       "       [  1,   2,   3, ..., -26, -27, -28],\n",
       "       ...,\n",
       "       [  1,   0,   1, ...,  64,  65,  66],\n",
       "       [  1,   2,   1, ...,   2,   1,   0],\n",
       "       [ -1,  -2,  -3, ...,  32,  33,  34]], dtype=int32)"
      ]
     },
     "execution_count": 212,
     "metadata": {},
     "output_type": "execute_result"
    }
   ],
   "source": [
    "walks"
   ]
  },
  {
   "cell_type": "code",
   "execution_count": 213,
   "id": "ec209e0d",
   "metadata": {},
   "outputs": [
    {
     "data": {
      "text/plain": [
       "122"
      ]
     },
     "execution_count": 213,
     "metadata": {},
     "output_type": "execute_result"
    }
   ],
   "source": [
    "walks.max()"
   ]
  },
  {
   "cell_type": "code",
   "execution_count": 214,
   "id": "2cc69c02",
   "metadata": {},
   "outputs": [
    {
     "data": {
      "text/plain": [
       "-128"
      ]
     },
     "execution_count": 214,
     "metadata": {},
     "output_type": "execute_result"
    }
   ],
   "source": [
    "walks.min()"
   ]
  },
  {
   "cell_type": "code",
   "execution_count": 215,
   "id": "04e0c656",
   "metadata": {},
   "outputs": [],
   "source": [
    "hits30 = (np.abs(walks) >= 30).any(1)"
   ]
  },
  {
   "cell_type": "code",
   "execution_count": 216,
   "id": "2de8998c",
   "metadata": {},
   "outputs": [
    {
     "data": {
      "text/plain": [
       "array([ True,  True,  True, ...,  True, False,  True])"
      ]
     },
     "execution_count": 216,
     "metadata": {},
     "output_type": "execute_result"
    }
   ],
   "source": [
    "hits30"
   ]
  },
  {
   "cell_type": "code",
   "execution_count": 217,
   "id": "fa502dbc",
   "metadata": {},
   "outputs": [
    {
     "data": {
      "text/plain": [
       "3368"
      ]
     },
     "execution_count": 217,
     "metadata": {},
     "output_type": "execute_result"
    }
   ],
   "source": [
    "hits30.sum()"
   ]
  },
  {
   "cell_type": "code",
   "execution_count": 218,
   "id": "fa5e9203",
   "metadata": {},
   "outputs": [],
   "source": [
    "crossing_times = (np.abs(walks[hits30]) >= 30).argmax(1)"
   ]
  },
  {
   "cell_type": "code",
   "execution_count": 219,
   "id": "e94eefe8",
   "metadata": {},
   "outputs": [
    {
     "data": {
      "text/plain": [
       "509.99762470308787"
      ]
     },
     "execution_count": 219,
     "metadata": {},
     "output_type": "execute_result"
    }
   ],
   "source": [
    "crossing_times.mean()"
   ]
  },
  {
   "cell_type": "code",
   "execution_count": 220,
   "id": "99bd1abf",
   "metadata": {},
   "outputs": [],
   "source": [
    "step = np.random.normal(loc=0, scale=0.25,\n",
    "                    size=(nwalks, nsteps))"
   ]
  },
  {
   "cell_type": "code",
   "execution_count": null,
   "id": "1a37b322",
   "metadata": {},
   "outputs": [],
   "source": []
  }
 ],
 "metadata": {
  "kernelspec": {
   "display_name": "Python 3 (ipykernel)",
   "language": "python",
   "name": "python3"
  },
  "language_info": {
   "codemirror_mode": {
    "name": "ipython",
    "version": 3
   },
   "file_extension": ".py",
   "mimetype": "text/x-python",
   "name": "python",
   "nbconvert_exporter": "python",
   "pygments_lexer": "ipython3",
   "version": "3.10.0"
  }
 },
 "nbformat": 4,
 "nbformat_minor": 5
}
